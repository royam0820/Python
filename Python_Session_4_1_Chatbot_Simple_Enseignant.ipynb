{
  "nbformat": 4,
  "nbformat_minor": 0,
  "metadata": {
    "colab": {
      "provenance": [],
      "mount_file_id": "1-R7gqXMNuRqqOA_GhCGzVUPocJd5MxRS",
      "authorship_tag": "ABX9TyPn4WP2N5idrGyoNJCBZhRS",
      "include_colab_link": true
    },
    "kernelspec": {
      "name": "python3",
      "display_name": "Python 3"
    },
    "language_info": {
      "name": "python"
    }
  },
  "cells": [
    {
      "cell_type": "markdown",
      "metadata": {
        "id": "view-in-github",
        "colab_type": "text"
      },
      "source": [
        "<a href=\"https://colab.research.google.com/github/royam0820/Python/blob/main/Python_Session_4_1_Chatbot_Simple_Enseignant.ipynb\" target=\"_parent\"><img src=\"https://colab.research.google.com/assets/colab-badge.svg\" alt=\"Open In Colab\"/></a>"
      ]
    },
    {
      "cell_type": "markdown",
      "source": [
        "# Session 4 : Explorer l'IA avec Python 🤖\n",
        "\n",
        "Bienvenue à la quatrième session ! Aujourd'hui, nous allons plonger dans le monde passionnant de l'IA en créant des projets simples et amusants avec Python. Préparez-vous à voir l'IA en action ! 🚀\n",
        "\n",
        "Projets IA:\n",
        "- Classificateur d'images\n",
        "- Chatbot\n",
        "\n",
        "---\n"
      ],
      "metadata": {
        "id": "77StQoUlwUNB"
      }
    },
    {
      "cell_type": "markdown",
      "source": [
        "## 3. Projet 2 : Interaction avec un chatbot simple\n",
        "\n",
        "### Qu'est-ce qu'un chatbot ? 💬\n",
        "Un chatbot est un programme qui peut converser avec vous comme un ami. Il utilise l'IA pour comprendre ce que vous dites et répondre de manière appropriée.\n",
        "\n",
        "### Interaction avec un chatbot pré-construit"
      ],
      "metadata": {
        "id": "yRcEvnLAxedg"
      }
    },
    {
      "cell_type": "markdown",
      "source": [
        "1. **Installez ChatterBot** dans votre notebook Colab :\n",
        "Les lignes de code ci-dessous préparent le terrain en rendant disponibles les classes nécessaires pour créer une instance de chatbot et l'entraîner à partir de données textuelles."
      ],
      "metadata": {
        "id": "UH83WisHxhfI"
      }
    },
    {
      "cell_type": "code",
      "metadata": {
        "id": "5d54c391",
        "collapsed": true
      },
      "source": [
        "!pip -q install chatterbot"
      ],
      "execution_count": 1,
      "outputs": []
    },
    {
      "cell_type": "markdown",
      "source": [
        "**Créez un chatbot** :\n",
        "\n",
        "NB: le chatbot doit utiliser un vocabulaire de référence en français qu'il faut télécharger et installer dans le répertoire Google Colab à la racine (/content).\n",
        "\n",
        " https://raw.githubusercontent.com/gunthercox/chatterbot-corpus/refs/heads/master/chatterbot_corpus/data/french/conversations.yml\n",
        "\n",
        "enregistrer le fichier brut `conversations.yml` localement sous `french.yml`\n",
        "\n",
        "Télécharger ce fichier de votre répertoire local vers Google Colab.\n",
        "\n",
        "Vous devez stocker ce fichier dans ce chemin:\n",
        " `/content/french.yml`\n"
      ],
      "metadata": {
        "id": "1eHNuBKexrXs"
      }
    },
    {
      "cell_type": "code",
      "source": [
        "import os\n",
        "from chatterbot import ChatBot\n",
        "from chatterbot.trainers import ChatterBotCorpusTrainer\n",
        "\n",
        "# Create a ChatBot instance\n",
        "chatbot = ChatBot('MyChatBot')\n",
        "\n",
        "# Create a trainer and train the chatbot\n",
        "trainer = ChatterBotCorpusTrainer(chatbot)\n",
        "\n",
        "# Use the built-in corpus reference\n",
        "\n",
        "\n",
        "trainer.train(\"/content/french.yml\")  # Adjust the path to match where you uploaded the file\n",
        "\n",
        "while True:\n",
        "    try:\n",
        "        user_input = input(\"Vous : \")\n",
        "        if user_input.lower() == 'quit':\n",
        "            break\n",
        "        response = chatbot.get_response(user_input)\n",
        "        print(\"Bot : \", response)\n",
        "    except (KeyboardInterrupt, EOFError, SystemExit):\n",
        "        break"
      ],
      "metadata": {
        "id": "-syeiQBzxsEr",
        "colab": {
          "base_uri": "https://localhost:8080/"
        },
        "outputId": "3cdb502e-19a8-4924-d950-39c00a1bf350"
      },
      "execution_count": 2,
      "outputs": [
        {
          "output_type": "stream",
          "name": "stderr",
          "text": [
            "ChatterBot Corpus Trainer: 1it [00:00,  4.07it/s]\n"
          ]
        },
        {
          "name": "stdout",
          "output_type": "stream",
          "text": [
            "Vous : Bonjour\n",
            "Bot :  Sur quoi travailles-tu ?\n",
            "Vous : le langage Python\n",
            "Bot :  J'utilise Python, Hava et C++ assez souvent.\n",
            "Vous : tu es trop fort\n",
            "Bot :  La classique H2G2, et en complet, l'ensemble de l atrilogie en 5 volumes.\n",
            "Vous : c'est un livre H2G2\n",
            "Bot :  Sur quoi travailles-tu ?\n",
            "Vous : quit\n"
          ]
        }
      ]
    },
    {
      "cell_type": "markdown",
      "source": [
        "**Astuce** : Tapez \"quit\" pour arrêter la conversation."
      ],
      "metadata": {
        "id": "vLMQ1l6Rx29E"
      }
    },
    {
      "cell_type": "markdown",
      "source": [
        "### Comprendre comment le chatbot fonctionne\n",
        "Le chatbot utilise des données d'entraînement pour apprendre à répondre aux questions. Plus il a de données, mieux il peut converser !\n",
        "\n",
        "---"
      ],
      "metadata": {
        "id": "nCgzhnWCx6_T"
      }
    },
    {
      "cell_type": "markdown",
      "source": [
        "### Entraînement d'un chatbot\n",
        "Ce code définit et entraîne un chatbot à l'aide de la bibliothèque ChatterBot en Python.\n",
        "\n",
        "Nous allons accéder à un fichier de données pour entraîner un chatbot et permettant ainsi d'avoir des réponses plus spécifiques."
      ],
      "metadata": {
        "id": "KBFVxUX_1Icd"
      }
    },
    {
      "cell_type": "code",
      "source": [
        "# Install required packages\n",
        "# !pip -q install chatterbot\n",
        "!pip -q install chatterbot-corpus\n",
        "!pip -q install spacy\n",
        "!python -m spacy download fr_core_news_sm"
      ],
      "metadata": {
        "colab": {
          "base_uri": "https://localhost:8080/"
        },
        "collapsed": true,
        "id": "XQXKoTSaTKhs",
        "outputId": "831e53be-efa9-4de0-8d78-73e664d4c0dd"
      },
      "execution_count": 3,
      "outputs": [
        {
          "output_type": "stream",
          "name": "stdout",
          "text": [
            "Collecting fr-core-news-sm==3.8.0\n",
            "  Downloading https://github.com/explosion/spacy-models/releases/download/fr_core_news_sm-3.8.0/fr_core_news_sm-3.8.0-py3-none-any.whl (16.3 MB)\n",
            "\u001b[2K     \u001b[90m━━━━━━━━━━━━━━━━━━━━━━━━━━━━━━━━━━━━━━━━\u001b[0m \u001b[32m16.3/16.3 MB\u001b[0m \u001b[31m35.5 MB/s\u001b[0m eta \u001b[36m0:00:00\u001b[0m\n",
            "\u001b[?25h\u001b[38;5;2m✔ Download and installation successful\u001b[0m\n",
            "You can now load the package via spacy.load('fr_core_news_sm')\n",
            "\u001b[38;5;3m⚠ Restart to reload dependencies\u001b[0m\n",
            "If you are in a Jupyter or Colab notebook, you may need to restart Python in\n",
            "order to load all the package's dependencies. You can do this by selecting the\n",
            "'Restart kernel' or 'Restart runtime' option.\n"
          ]
        }
      ]
    },
    {
      "cell_type": "code",
      "source": [
        "from chatterbot import ChatBot\n",
        "from chatterbot.trainers import ChatterBotCorpusTrainer, ListTrainer\n",
        "import os\n",
        "from google.colab import drive"
      ],
      "metadata": {
        "id": "AGSs_IiY7J46"
      },
      "execution_count": 1,
      "outputs": []
    },
    {
      "cell_type": "code",
      "source": [
        "# Mount Google Drive\n",
        "drive.mount('/content/drive')"
      ],
      "metadata": {
        "colab": {
          "base_uri": "https://localhost:8080/"
        },
        "id": "cQuVe7mu7NGs",
        "outputId": "2afd3aa0-fb3d-4e09-ebd6-5a6a69af091f"
      },
      "execution_count": 9,
      "outputs": [
        {
          "output_type": "stream",
          "name": "stdout",
          "text": [
            "Drive already mounted at /content/drive; to attempt to forcibly remount, call drive.mount(\"/content/drive\", force_remount=True).\n"
          ]
        }
      ]
    },
    {
      "cell_type": "code",
      "source": [
        "# Initialize chatbot\n",
        "chatbot = ChatBot(\n",
        "    'MonChatBot',\n",
        "    storage_adapter='chatterbot.storage.SQLStorageAdapter',\n",
        "    database_uri='sqlite:///database.sqlite3'\n",
        ")\n",
        "\n",
        "# Train with built-in French corpus\n",
        "try:\n",
        "    corpus_trainer = ChatterBotCorpusTrainer(chatbot)\n",
        "    corpus_trainer.train('chatterbot.corpus.french')\n",
        "    print(\"Training with French corpus completed.\")\n",
        "except Exception as e:\n",
        "    print(f\"Error training with corpus: {e}\")\n",
        "\n",
        "# Train with custom YAML file\n",
        "custom_data_path = '/content/drive/MyDrive/Python-Sessions/Ressources/Chatbot/custom_french.yml'\n",
        "if os.path.exists(custom_data_path):\n",
        "    try:\n",
        "        corpus_trainer.train(custom_data_path)\n",
        "        print(\"Training with custom YAML completed.\")\n",
        "    except Exception as e:\n",
        "        print(f\"Error training with custom YAML: {e}\")\n",
        "else:\n",
        "    print(f\"Custom data file not found at {custom_data_path}\")\n",
        "\n",
        "# Train with a fallback custom conversation list\n",
        "list_trainer = ListTrainer(chatbot)\n",
        "custom_conversation = [\n",
        "    \"Bonjour, comment vas-tu ?\", \"Je vais bien, merci ! Et toi ?\",\n",
        "    \"Quel temps fait-il aujourd'hui ?\", \"Il fait beau, profite du soleil !\",\n",
        "    \"Que fais-tu ?\", \"Je suis ici à discuter avec des humains sympas comme toi !\"\n",
        "]\n",
        "try:\n",
        "    list_trainer.train(custom_conversation)\n",
        "    print(\"Training with custom conversation list completed.\")\n",
        "except Exception as e:\n",
        "    print(f\"Error training with custom list: {e}\")\n",
        "\n",
        "# Interactive loop\n",
        "print(\"Tapez 'quit' pour quitter.\")\n",
        "while True:\n",
        "    try:\n",
        "        user_input = input(\"Vous : \")\n",
        "        if user_input.lower() == 'quit':\n",
        "            break\n",
        "        response = chatbot.get_response(user_input)\n",
        "        print(f\"Bot : {response}\")\n",
        "    except (KeyboardInterrupt, EOFError, SystemExit):\n",
        "        print(\"Exiting chatbot...\")\n",
        "        break\n",
        "    except Exception as e:\n",
        "        print(f\"Error during interaction: {e}\")\n",
        "\n",
        "# Save the trained model (optional)\n",
        "from google.colab import files\n",
        "files.download('database.sqlite3')\n",
        "print(\"Chatbot session ended.\")"
      ],
      "metadata": {
        "colab": {
          "base_uri": "https://localhost:8080/",
          "height": 285
        },
        "id": "8JeZX2UsTGRW",
        "outputId": "b287a0a9-36e3-4927-9715-0e5ba6a4a1d5"
      },
      "execution_count": 11,
      "outputs": [
        {
          "output_type": "stream",
          "name": "stderr",
          "text": [
            "ChatterBot Corpus Trainer: 5it [00:00,  8.57it/s]\n"
          ]
        },
        {
          "output_type": "stream",
          "name": "stdout",
          "text": [
            "Training with French corpus completed.\n"
          ]
        },
        {
          "output_type": "stream",
          "name": "stderr",
          "text": [
            "ChatterBot Corpus Trainer: 1it [00:00,  7.46it/s]\n"
          ]
        },
        {
          "output_type": "stream",
          "name": "stdout",
          "text": [
            "Training with custom YAML completed.\n"
          ]
        },
        {
          "output_type": "stream",
          "name": "stderr",
          "text": [
            "List Trainer: 6it [00:00, 530.67it/s]\n"
          ]
        },
        {
          "output_type": "stream",
          "name": "stdout",
          "text": [
            "Training with custom conversation list completed.\n",
            "Tapez 'quit' pour quitter.\n",
            "Vous : bonjour\n",
            "Bot : Bonjour, comment puis-je vous aider ?\n",
            "Vous : que lis tu en ce moment?\n",
            "Bot : Je suis ici à discuter avec des humains sympas comme toi !\n",
            "Vous : Quel livre lis-tu en ce moment ?\n",
            "Bot : Je suis ici à discuter avec des humains sympas comme toi !\n",
            "Exiting chatbot...\n"
          ]
        },
        {
          "output_type": "display_data",
          "data": {
            "text/plain": [
              "<IPython.core.display.Javascript object>"
            ],
            "application/javascript": [
              "\n",
              "    async function download(id, filename, size) {\n",
              "      if (!google.colab.kernel.accessAllowed) {\n",
              "        return;\n",
              "      }\n",
              "      const div = document.createElement('div');\n",
              "      const label = document.createElement('label');\n",
              "      label.textContent = `Downloading \"${filename}\": `;\n",
              "      div.appendChild(label);\n",
              "      const progress = document.createElement('progress');\n",
              "      progress.max = size;\n",
              "      div.appendChild(progress);\n",
              "      document.body.appendChild(div);\n",
              "\n",
              "      const buffers = [];\n",
              "      let downloaded = 0;\n",
              "\n",
              "      const channel = await google.colab.kernel.comms.open(id);\n",
              "      // Send a message to notify the kernel that we're ready.\n",
              "      channel.send({})\n",
              "\n",
              "      for await (const message of channel.messages) {\n",
              "        // Send a message to notify the kernel that we're ready.\n",
              "        channel.send({})\n",
              "        if (message.buffers) {\n",
              "          for (const buffer of message.buffers) {\n",
              "            buffers.push(buffer);\n",
              "            downloaded += buffer.byteLength;\n",
              "            progress.value = downloaded;\n",
              "          }\n",
              "        }\n",
              "      }\n",
              "      const blob = new Blob(buffers, {type: 'application/binary'});\n",
              "      const a = document.createElement('a');\n",
              "      a.href = window.URL.createObjectURL(blob);\n",
              "      a.download = filename;\n",
              "      div.appendChild(a);\n",
              "      a.click();\n",
              "      div.remove();\n",
              "    }\n",
              "  "
            ]
          },
          "metadata": {}
        },
        {
          "output_type": "display_data",
          "data": {
            "text/plain": [
              "<IPython.core.display.Javascript object>"
            ],
            "application/javascript": [
              "download(\"download_bfd98d91-9c18-4733-ab67-5307611173f3\", \"database.sqlite3\", 4096)"
            ]
          },
          "metadata": {}
        },
        {
          "output_type": "stream",
          "name": "stdout",
          "text": [
            "Chatbot session ended.\n"
          ]
        }
      ]
    },
    {
      "cell_type": "code",
      "metadata": {
        "colab": {
          "base_uri": "https://localhost:8080/"
        },
        "id": "570d7c45",
        "outputId": "6e60c471-3281-45c2-d68a-37630e28c8d6"
      },
      "source": [
        "import sqlite3\n",
        "\n",
        "db_path = '/content/database.sqlite3' # Use the correct path to your database file\n",
        "\n",
        "try:\n",
        "    conn = sqlite3.connect(db_path)\n",
        "    cursor = conn.cursor()\n",
        "\n",
        "    # Get the list of tables\n",
        "    cursor.execute(\"SELECT name FROM sqlite_master WHERE type='table';\")\n",
        "    tables = cursor.fetchall()\n",
        "\n",
        "    print(\"Tables in the database:\")\n",
        "    for table in tables:\n",
        "        print(table[0])\n",
        "\n",
        "    conn.close()\n",
        "except Exception as e:\n",
        "    print(f\"Error connecting to or querying the database: {e}\")"
      ],
      "execution_count": 8,
      "outputs": [
        {
          "output_type": "stream",
          "name": "stdout",
          "text": [
            "Tables in the database:\n"
          ]
        }
      ]
    },
    {
      "cell_type": "markdown",
      "source": [
        "#### Visualisation du contenu des tables"
      ],
      "metadata": {
        "id": "1FvS0Z8B4peW"
      }
    },
    {
      "cell_type": "code",
      "source": [
        "import sqlite3\n",
        "import random  # Pour varier les réponses si plusieurs pour un intent\n",
        "\n",
        "db_path = '/content/database.sqlite3' # Use the correct path to your database file\n",
        "\n",
        "# --- Section to inspect the database ---\n",
        "try:\n",
        "    conn = sqlite3.connect(db_path)\n",
        "    cursor = conn.cursor()\n",
        "\n",
        "    # Get the list of tables\n",
        "    cursor.execute(\"SELECT name FROM sqlite_master WHERE type='table';\")\n",
        "    tables = cursor.fetchall()\n",
        "\n",
        "    print(\"Tables in the database:\")\n",
        "    for table in tables:\n",
        "        table_name = table[0]\n",
        "        print(f\"- {table_name}\")\n",
        "\n",
        "        # Optionally, show schema and a few rows for relevant tables\n",
        "        if table_name in ('statement', 'tag', 'tag_association'): # Add other relevant tables if needed\n",
        "            print(f\"\\nSchema for table '{table_name}':\")\n",
        "            cursor.execute(f\"PRAGMA table_info('{table_name}');\")\n",
        "            schema = cursor.fetchall()\n",
        "            for col_info in schema:\n",
        "                print(f\"  - {col_info[1]} ({col_info[2]})\")\n",
        "\n",
        "            print(f\"\\nFirst 5 rows from table '{table_name}':\")\n",
        "            try:\n",
        "                cursor.execute(f\"SELECT * FROM '{table_name}' LIMIT 5;\")\n",
        "                rows = cursor.fetchall()\n",
        "                for row in rows:\n",
        "                    print(row)\n",
        "            except Exception as e:\n",
        "                print(f\"  Could not fetch data: {e}\")\n",
        "            print(\"-\" * 20) # Separator\n",
        "\n",
        "    conn.close()\n",
        "except Exception as e:\n",
        "    print(f\"Error connecting to or querying the database: {e}\")\n",
        "\n",
        "# --- Section to explain how to run the chatbot ---\n",
        "print(\"\\n\" + \"=\"*50)\n",
        "print(\"To interact with the chatbot trained on this database,\")\n",
        "print(\"please run the code cell above this one (cell ID 8JeZX2UsTGRW).\")\n",
        "print(\"That cell initializes and runs the ChatterBot instance.\")\n",
        "print(\"=\"*50)\n",
        "\n"
      ],
      "metadata": {
        "colab": {
          "base_uri": "https://localhost:8080/"
        },
        "id": "NGUoMiBG2B33",
        "outputId": "b25a9c8a-abb8-439d-ccd5-95d274f7fd66"
      },
      "execution_count": 4,
      "outputs": [
        {
          "output_type": "stream",
          "name": "stdout",
          "text": [
            "Tables in the database:\n",
            "\n",
            "==================================================\n",
            "To interact with the chatbot trained on this database,\n",
            "please run the code cell above this one (cell ID 8JeZX2UsTGRW).\n",
            "That cell initializes and runs the ChatterBot instance.\n",
            "==================================================\n"
          ]
        }
      ]
    },
    {
      "cell_type": "code",
      "source": [
        "# Installation (run this if ChatterBot is not installed)\n",
        "!pip install chatterbot chatterbot_corpu"
      ],
      "metadata": {
        "id": "ioX9_BpP6SHO"
      },
      "execution_count": null,
      "outputs": []
    },
    {
      "cell_type": "code",
      "source": [
        "# Import necessary libraries\n",
        "from chatterbot import ChatBot\n",
        "from chatterbot.trainers import ChatterBotCorpusTrainer  # Optional, if you want to train further\n",
        "import sqlite3  # For verifying the database if needed"
      ],
      "metadata": {
        "id": "YqW9MFPa6ZNB"
      },
      "execution_count": null,
      "outputs": []
    },
    {
      "cell_type": "code",
      "source": [
        "# Initialize the ChatBot with SQLStorageAdapter using the existing database\n",
        "bot = ChatBot(\n",
        "    'DemoBot',\n",
        "    storage_adapter='chatterbot.storage.SQLStorageAdapter',\n",
        "    database_uri='sqlite:///database.sqlite3',  # Point to your database file\n",
        "    logic_adapters=[\n",
        "        'chatterbot.logic.BestMatch',  # Uses best match based on statements in DB\n",
        "        'chatterbot.logic.TimeLogicAdapter'  # Optional: Adds time-related responses\n",
        "    ],\n",
        "    read_only=True  # Set to True to prevent further training during interaction\n",
        ")\n",
        "\n",
        "# Optional: If you want to train the bot further with corpus data (English or French)\n",
        "# trainer = ChatterBotCorpusTrainer(bot)\n",
        "# trainer.train('chatterbot.corpus.french')  # Or 'chatterbot.corpus.english' if preferred\n",
        "\n",
        "# Interactive loop to demonstrate the chatbot\n",
        "print(\"Chatbot is ready! Type 'quit' to exit.\")\n",
        "while True:\n",
        "    try:\n",
        "        user_input = input(\"You: \")\n",
        "        if user_input.lower() == 'quit':\n",
        "            print(\"Goodbye!\")\n",
        "            break\n",
        "        response = bot.get_response(user_input)\n",
        "        print(\"Bot:\", response)\n",
        "    except (KeyboardInterrupt, EOFError, SystemExit):\n",
        "        break"
      ],
      "metadata": {
        "colab": {
          "base_uri": "https://localhost:8080/",
          "height": 216
        },
        "id": "I3tQf7NP5l_x",
        "outputId": "aa2b6b6f-096e-430e-aedf-604c89e02474"
      },
      "execution_count": 1,
      "outputs": [
        {
          "output_type": "error",
          "ename": "NameError",
          "evalue": "name 'ChatBot' is not defined",
          "traceback": [
            "\u001b[0;31m---------------------------------------------------------------------------\u001b[0m",
            "\u001b[0;31mNameError\u001b[0m                                 Traceback (most recent call last)",
            "\u001b[0;32m/tmp/ipython-input-552514972.py\u001b[0m in \u001b[0;36m<cell line: 0>\u001b[0;34m()\u001b[0m\n\u001b[1;32m      1\u001b[0m \u001b[0;31m# Initialize the ChatBot with SQLStorageAdapter using the existing database\u001b[0m\u001b[0;34m\u001b[0m\u001b[0;34m\u001b[0m\u001b[0m\n\u001b[0;32m----> 2\u001b[0;31m bot = ChatBot(\n\u001b[0m\u001b[1;32m      3\u001b[0m     \u001b[0;34m'DemoBot'\u001b[0m\u001b[0;34m,\u001b[0m\u001b[0;34m\u001b[0m\u001b[0;34m\u001b[0m\u001b[0m\n\u001b[1;32m      4\u001b[0m     \u001b[0mstorage_adapter\u001b[0m\u001b[0;34m=\u001b[0m\u001b[0;34m'chatterbot.storage.SQLStorageAdapter'\u001b[0m\u001b[0;34m,\u001b[0m\u001b[0;34m\u001b[0m\u001b[0;34m\u001b[0m\u001b[0m\n\u001b[1;32m      5\u001b[0m     \u001b[0mdatabase_uri\u001b[0m\u001b[0;34m=\u001b[0m\u001b[0;34m'sqlite:///database.sqlite3'\u001b[0m\u001b[0;34m,\u001b[0m  \u001b[0;31m# Point to your database file\u001b[0m\u001b[0;34m\u001b[0m\u001b[0;34m\u001b[0m\u001b[0m\n",
            "\u001b[0;31mNameError\u001b[0m: name 'ChatBot' is not defined"
          ]
        }
      ]
    }
  ]
}