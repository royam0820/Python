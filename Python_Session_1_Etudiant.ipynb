{
  "nbformat": 4,
  "nbformat_minor": 0,
  "metadata": {
    "colab": {
      "provenance": [],
      "toc_visible": true,
      "authorship_tag": "ABX9TyMDvzHzFbaIVNG50S5kl1oU",
      "include_colab_link": true
    },
    "kernelspec": {
      "name": "python3",
      "display_name": "Python 3"
    },
    "language_info": {
      "name": "python"
    }
  },
  "cells": [
    {
      "cell_type": "markdown",
      "metadata": {
        "id": "view-in-github",
        "colab_type": "text"
      },
      "source": [
        "<a href=\"https://colab.research.google.com/github/royam0820/Python/blob/main/Python_Session_1_Etudiant.ipynb\" target=\"_parent\"><img src=\"https://colab.research.google.com/assets/colab-badge.svg\" alt=\"Open In Colab\"/></a>"
      ]
    },
    {
      "cell_type": "markdown",
      "source": [
        "# Camp d'Aventure Python : Session 1 - Premiers Pas avec Python !\n",
        "\n",
        "Bienvenue dans notre camp de codage Python super amusant ! Aujourd’hui, nous allons découvrir Python et Google Colab, un outil génial pour coder en ligne. Vous taperez le code dans des cellules de code pour le faire fonctionner. C’est parti !"
      ],
      "metadata": {
        "id": "R_a-GpL_FE3G"
      }
    },
    {
      "cell_type": "markdown",
      "source": [
        "Ce qu’on va apprendre aujourd’hui\n",
        "\n",
        "- Afficher des messages avec `print()`\n",
        "- Stocker des infos avec les variables\n",
        "- Faire des calculs simples\n",
        "- Poser des questions avec `input()`\n",
        "\n",
        "Des activités amusantes pour s’entraîner !"
      ],
      "metadata": {
        "id": "dE2Q-Km_FSR-"
      }
    },
    {
      "cell_type": "markdown",
      "source": [
        "## 1. C’est quoi Python ? 🐍\n",
        "Python est un langage qui dit aux ordinateurs quoi faire. Il est facile à apprendre et utilisé pour créer des jeux, des applications, et même de l’intelligence artificielle !\n",
        "\n",
        "Fun fact : Python tire son nom d’une émission comique, **Monty Python**, pas d’un serpent !\n",
        "\n",
        "Essaie ! Crée une nouvelle cellule de code dans Colab (clique sur le bouton “+ Code”). Tape ou copie ce code, puis clique sur le bouton \"Play\" pour l’exécuter :\n",
        "\n",
        "\n",
        "```\n",
        "print(\"Bonjour, le monde !\")\n",
        "```\n",
        "Ça devrait afficher \"Bonjour, le monde !\" sous la cellule !\n"
      ],
      "metadata": {
        "id": "lKacJ7XTFxFY"
      }
    },
    {
      "cell_type": "code",
      "source": [],
      "metadata": {
        "id": "vaVNm169J4I5"
      },
      "execution_count": null,
      "outputs": []
    },
    {
      "cell_type": "markdown",
      "source": [
        "## 2. C’est quoi Google Colab ? ☁️\n",
        "\n",
        "Google Colab est comme un cahier magique où tu peux écrire et exécuter du code Python en ligne. Pas besoin d’installer quoi que ce soit, juste un navigateur !\n",
        "Comment ça marche :\n",
        "\n",
        "- **Cellules de code** : Tape ton code Python ici et exécute-le avec le bouton \"Play\".\n",
        "- **Cellules de texte** : Lis les instructions ou notes (comme celle-ci !).\n",
        "- **Exécuter le code** : Clique sur \"Play\" pour voir ton code en action.\n",
        "- **Sauvegarder** : Colab enregistre automatiquement ton travail sur Google Drive.\n",
        "\n",
        "On s’entraîne ? !\n",
        "Ajoute une nouvelle cellule de code et tape à nouveau le code \"Bonjour, le monde !\".\n",
        "\n",
        "---"
      ],
      "metadata": {
        "id": "7NIFTWoTGr3V"
      }
    },
    {
      "cell_type": "markdown",
      "source": [
        "## 3. Les Bases de Python\n"
      ],
      "metadata": {
        "id": "q9Jr-ZZaH4xX"
      }
    },
    {
      "cell_type": "markdown",
      "source": [
        "### A. Afficher des Messages\n",
        "On utilise `print()` pour afficher des messages ou des nombres à l’écran.\n",
        "\n",
        "Essaie : Ajoute une nouvelle cellule de code et tape :\n",
        "\n",
        "\n",
        "```\n",
        "print(\"J’adore coder !\")\n",
        "print(42)\n",
        "```\n",
        "\n",
        "Exécute-la pour voir le résultat !"
      ],
      "metadata": {
        "id": "bbbvzG4AIF81"
      }
    },
    {
      "cell_type": "code",
      "source": [],
      "metadata": {
        "id": "NufVlrZ9J5x7"
      },
      "execution_count": null,
      "outputs": []
    },
    {
      "cell_type": "markdown",
      "source": [
        "### B. Les Variables\n",
        "Les variables sont comme des **boîtes** qui contiennent des informations, comme des noms, des nombres ou des décimales.\n",
        "\n",
        "Exemples :Crée une cellule de code et tape :\n",
        "\n",
        "\n",
        "```\n",
        "nom = \"Alex\"  # Texte (chaîne de caractères)\n",
        "age = 12      # Nombre entier\n",
        "taille = 1.42 # Nombre décimal\n",
        "\n",
        "print(nom)\n",
        "print(age)\n",
        "print(taille)\n",
        "```\n"
      ],
      "metadata": {
        "id": "IV3833CeI2VI"
      }
    },
    {
      "cell_type": "code",
      "source": [],
      "metadata": {
        "id": "N8Ml3LCPJ7E5"
      },
      "execution_count": null,
      "outputs": []
    },
    {
      "cell_type": "markdown",
      "source": [
        "### Activité : Affiche une phrase avec des variables !\n",
        "\n",
        "Dans une nouvelle cellule de code, tape :\n",
        "\n",
        "```\n",
        "nom = \"Alex\"\n",
        "age = 12\n",
        "taille = 1.42\n",
        "print(f\"Je m’appelle {nom}, j’ai {age} ans, et ma taille est de {taille}m !\")\n",
        "```\n",
        "\n",
        "\n",
        "Ça utilise une f-string pour insérer des variables dans une phrase. Exécute-la !"
      ],
      "metadata": {
        "id": "fGji1qSMJdfS"
      }
    },
    {
      "cell_type": "code",
      "source": [],
      "metadata": {
        "id": "W5oE4VKVJ8NT"
      },
      "execution_count": null,
      "outputs": []
    },
    {
      "cell_type": "markdown",
      "source": [
        "### C. Types de Données\n",
        "\n",
        "Les variables peuvent contenir différents types de données :\n",
        "- Entier (int) : Nombres entiers (ex. : 10)\n",
        "- Flottant (float) : Nombres décimaux (ex. : 3.14)\n",
        "- Chaîne de caractères (str) : Texte (ex. : \"Salut\")\n",
        "- Booléen (bool) : Vrai ou Faux\n",
        "- Liste (list) : Collection (ex. : [1, 2, 3])\n",
        "- Tuple : Collection fixe (ex. : (1, 2, 3))\n",
        "- Dictionnaire (dict) : Paires clé-valeur (ex. : {\"nom\": \"Alice\", \"age\": 12})\n",
        "- Ensemble (set) : Éléments uniques (ex. : {1, 2, 3})\n",
        "\n",
        "Essaie : Dans une nouvelle cellule de code, tape :\n",
        "\n",
        "\n",
        "\n",
        "```\n",
        "nombre = 10\n",
        "print(nombre, type(nombre))  # Affiche <class 'int'>\n",
        "texte = \"Salut\"\n",
        "print(texte, type(texte))   # Affiche <class 'str'>\n",
        "```\n",
        "\n"
      ],
      "metadata": {
        "id": "djSolgEjKHdT"
      }
    },
    {
      "cell_type": "code",
      "source": [],
      "metadata": {
        "id": "xv-wBUtHJ9o-"
      },
      "execution_count": null,
      "outputs": []
    },
    {
      "cell_type": "markdown",
      "source": [
        "### D. Les Maths\n",
        "\n",
        "Python peut faire des calculs comme une calculatrice ! Utilise :\n",
        "\n",
        "- `+` pour additionner\n",
        "\n",
        "\n",
        "- `-` pour soustraire\n",
        "\n",
        "\n",
        "- `*` pour multiplier\n",
        "\n",
        "\n",
        "- `/` pour diviser\n",
        "\n",
        "\n",
        "\n",
        "- `**` pour les exposants\n",
        "\n",
        "Exemple : Dans une nouvelle cellule de code, tape :\n",
        "\n",
        "\n",
        "\n",
        "```\n",
        "a = 5\n",
        "b = 3\n",
        "print(a + b)  # 8\n",
        "print(a * b)  # 15\n",
        "print(a ** 2) # 25\n",
        "```\n",
        "\n"
      ],
      "metadata": {
        "id": "dDreSBAIFBFA"
      }
    },
    {
      "cell_type": "code",
      "source": [],
      "metadata": {
        "id": "-WetAKpQJ_g-"
      },
      "execution_count": null,
      "outputs": []
    },
    {
      "cell_type": "markdown",
      "source": [
        "#### Ordre des opérations\n",
        "Utilise PEMDAS (Parenthèses, Exposants, Multiplication/Division, Addition/Soustraction).\n",
        "\n",
        "Le moyen mnémotechnique classique en anglais pour retenir l’ordre des opérations PEMDAS est : \"**Please Excuse My Dear Aunt Sally**\"\n",
        "\n",
        "Essaie : Dans une nouvelle cellule de code, tape :\n",
        "\n",
        "\n",
        "\n",
        "```\n",
        "resultat = (5 + 3) * 2\n",
        "print(resultat)  # 16\n",
        "```\n",
        "\n"
      ],
      "metadata": {
        "id": "tbJ3SxzWMSht"
      }
    },
    {
      "cell_type": "code",
      "source": [],
      "metadata": {
        "id": "ymG84yycKBKc"
      },
      "execution_count": null,
      "outputs": []
    },
    {
      "cell_type": "markdown",
      "source": [
        "### E. Poser des Questions avec `input()`\n",
        "La fonction `input()` demande des infos à l’utilisateur et les renvoie sous forme de texte.\n",
        "\n",
        "Exemple : Dans une nouvelle cellule de code, tape :\n",
        "\n",
        "\n",
        "\n",
        "```\n",
        "nom = input(\"Comment tu t’appelles ? \")\n",
        "pouvoir = input(\"Quel super-pouvoir veux-tu ? \")\n",
        "print(\"Attention ! \" + nom + \" devient Super-\" + nom.upper() + \" avec le pouvoir de \" + pouvoir + \" !\")\n",
        "```\n",
        "\n",
        "Exécute-la et réponds aux questions !\n",
        "\n",
        "---"
      ],
      "metadata": {
        "id": "YmK-fyeVMoiK"
      }
    },
    {
      "cell_type": "code",
      "source": [],
      "metadata": {
        "id": "y3rez8yK_F2e"
      },
      "execution_count": null,
      "outputs": []
    },
    {
      "cell_type": "markdown",
      "source": [
        "# Activités à Essayer !"
      ],
      "metadata": {
        "id": "U5ROjKgaNKoh"
      }
    },
    {
      "cell_type": "markdown",
      "source": [
        "## Activité 1 : Créer une Phrase\n",
        "Demande le nom, l’âge et la ville de l’utilisateur, puis affiche une phrase comme : \"Salut, je m’appelle Alice, j’ai 12 ans et j’habite à Paris !\"\n",
        "\n",
        "Code :Dans une nouvelle cellule de code, tape :\n",
        "\n",
        "\n",
        "\n",
        "```\n",
        "nom = input(\"Comment tu t’appelles ? \")\n",
        "age = input(\"Quel âge as-tu ? \")\n",
        "ville = input(\"Où habites-tu ? \")\n",
        "print(f\"Salut, je m’appelle {nom}, j’ai {age} ans et j’habite à {ville} !\")\n",
        "```\n",
        "\n"
      ],
      "metadata": {
        "id": "gBBJGEskNPuG"
      }
    },
    {
      "cell_type": "code",
      "source": [],
      "metadata": {
        "id": "lCzvZuJ6KErr"
      },
      "execution_count": null,
      "outputs": []
    },
    {
      "cell_type": "markdown",
      "source": [
        "Essaye cette instruction :\n",
        "\n",
        "\n",
        "```\n",
        "age = int(input(\"Quel âge as-tu ? \"))\n",
        "print(f\"Dans 1 an, tu auras {age + 1}\")\n",
        "\n",
        "```\n",
        "`int()` : Convertit la chaîne saisie en un entier pour pouvoir effectuer des calculs.\n",
        "\n"
      ],
      "metadata": {
        "id": "0yXElJkdAGl8"
      }
    },
    {
      "cell_type": "code",
      "source": [],
      "metadata": {
        "id": "qu31vXkBBiDt"
      },
      "execution_count": null,
      "outputs": []
    },
    {
      "cell_type": "markdown",
      "source": [
        "## Activité 2 : Additionner Deux Nombres\n",
        "\n",
        "Additionne deux nombres et affiche le résultat avec une f-string.\n",
        "\n",
        "Code :Dans une nouvelle cellule de code, tape :\n",
        "\n",
        "\n",
        "\n",
        "```\n",
        "nombre1 = 5\n",
        "nombre2 = 10\n",
        "total = nombre1 + nombre2\n",
        "print(f\"La somme de {nombre1} et {nombre2} est {total} !\")\n",
        "```\n",
        "Change les nombres et exécute à nouveau !\n",
        "\n",
        "\n"
      ],
      "metadata": {
        "id": "qIsEAeThNj10"
      }
    },
    {
      "cell_type": "code",
      "source": [],
      "metadata": {
        "id": "yq6CxeZWKF23"
      },
      "execution_count": null,
      "outputs": []
    },
    {
      "cell_type": "markdown",
      "source": [
        "## Activité 3 : Histoire de Super-Héros\n",
        "\n",
        "Demande un nom, un animal, un plat et un lieu, puis crée une histoire rigolote !\n",
        "\n",
        "Code : Dans une nouvelle cellule de code, tape :\n",
        "\n",
        "```\n",
        "nom = input(\"Comment tu t’appelles ? \")\n",
        "animal = input(\"Nomme un animal : \")\n",
        "plat = input(\"Quel est ton plat préféré ? \")\n",
        "lieu = input(\"Nomme un lieu : \")\n",
        "print(f\"Il était une fois, {nom} qui a vu un {animal} manger du {plat} à {lieu} !\")\n",
        "print(f\"Le {animal} a dit : ‘Tu veux te joindre à moi ?’\")\n",
        "```"
      ],
      "metadata": {
        "id": "bKr4WqL9N_UR"
      }
    },
    {
      "cell_type": "code",
      "source": [],
      "metadata": {
        "id": "eGmX6chXKHxQ"
      },
      "execution_count": null,
      "outputs": []
    },
    {
      "cell_type": "markdown",
      "source": [
        "## Activité 4 : Quiz Bonjour, le Monde !\n",
        "\n",
        "Tape exactement `\"Bonjour, le monde !\"` pour obtenir un message secret.\n",
        "\n",
        "Code :Dans une nouvelle cellule de code, tape :\n",
        "\n",
        "\n",
        "\n",
        "```\n",
        "reponse = input(\"Tape exactement 'Bonjour, le monde !' : \")\n",
        "if reponse == \"Bonjour, le monde !\":\n",
        "    print(\"Bravo ! T’es une star de Python ! 🌟\")\n",
        "else:\n",
        "    print(\"Oups ! Essaie de taper 'Bonjour, le monde !' exactement.\")\n",
        "```\n",
        "\n"
      ],
      "metadata": {
        "id": "2qKj2fmFOe_2"
      }
    },
    {
      "cell_type": "code",
      "source": [],
      "metadata": {
        "id": "4LmKqqyeKIzH"
      },
      "execution_count": null,
      "outputs": []
    },
    {
      "cell_type": "markdown",
      "source": [
        "## Activité 5 : Message Amusant\n",
        "\n",
        "Affiche quelque chose de drôle, comme une blague ou ton animal préféré.\n",
        "\n",
        "Code :Dans une nouvelle cellule de code, tape :\n",
        "\n",
        "\n",
        "\n",
        "```\n",
        "print(\"Pourquoi le programmeur préfère le mode sombre ? Parce que la lumière attire les bugs !\")\n",
        "```\n",
        "Essaie d’écrire ta propre blague !\n"
      ],
      "metadata": {
        "id": "B-r4FVWpO8WK"
      }
    },
    {
      "cell_type": "code",
      "source": [],
      "metadata": {
        "id": "gbj1lRiIKJ8M"
      },
      "execution_count": null,
      "outputs": []
    },
    {
      "cell_type": "markdown",
      "source": [
        "## Activité 6 : Générateur d’Histoire Délirante\n",
        "Crée une histoire super rigolote avec des questions farfelues !\n",
        "\n",
        "Code :Dans une nouvelle cellule de code, tape :\n",
        "\n",
        "\n",
        "\n",
        "```\n",
        "print(\"Prépare-toi pour une histoire DÉLIRANTE !\")\n",
        "nom_code = input(\"C’est quoi ton nom de code secret (ex. : SuperStar) ? \")\n",
        "creature = input(\"Nomme une créature mythique (ex. : licorne brillante) : \")\n",
        "plat = input(\"Choisis un plat bizarre (ex. : pizza au fromage de lune) : \")\n",
        "lieu = input(\"Où ça se passe (ex. : Planète Bonbon) ? \")\n",
        "adjectif = input(\"Choisis un adjectif rigolo (ex. : gluant) : \")\n",
        "action = input(\"Choisis une action délirante (ex. : danser la macarena) : \")\n",
        "\n",
        "histoire = f\"Dans un univers {adjectif}, {nom_code} a vu une {creature} {action} sur {lieu} !\"\n",
        "histoire += f\" Soudain, la {creature} a défié {nom_code} à une bataille de {plat} !\"\n",
        "print(\"\\n\" + histoire)\n",
        "```\n",
        "\n",
        "Exécute-la et réponds avec les idées les plus folles possibles !\n",
        "\n",
        "---"
      ],
      "metadata": {
        "id": "K1LMl3FcPVwT"
      }
    },
    {
      "cell_type": "code",
      "source": [],
      "metadata": {
        "id": "FrzAt2tCLhEP"
      },
      "execution_count": null,
      "outputs": []
    },
    {
      "cell_type": "markdown",
      "source": [
        "# Ce qu’on a appris\n",
        "\n",
        "Python est un langage de codage amusant !\n",
        "\n",
        "Google Colab nous permet de coder en ligne.\n",
        "\n",
        "On peut afficher des messages, utiliser des variables, faire des calculs et poser des questions.\n",
        "\n",
        "Taper le code toi-même t’aide à apprendre plus vite !"
      ],
      "metadata": {
        "id": "EUzJBEqhP_uD"
      }
    },
    {
      "cell_type": "markdown",
      "source": [
        "# La Prochaine Fois\n",
        "\n",
        "Lors de la prochaine session, on apprendra à prendre des décisions et à répéter des tâches avec Python. Continue à t’entraîner en modifiant le code et en essayant de nouvelles idées ! 🚀\n",
        "\n",
        "> Astuce : Si tu fais une erreur, Colab affichera un message d’erreur. Lis-le pour comprendre ce qui ne va pas, puis réessaie !\n",
        "\n",
        "> Aussi, 🤖 Demande à l'IA :\n",
        "aide toi de l'IA pour résoudre ton erreur ou développer du code"
      ],
      "metadata": {
        "id": "-aXrvCalQOMZ"
      }
    },
    {
      "cell_type": "code",
      "source": [],
      "metadata": {
        "id": "Roc7K8hfQyXc"
      },
      "execution_count": null,
      "outputs": []
    }
  ]
}