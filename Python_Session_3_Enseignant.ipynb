{
  "nbformat": 4,
  "nbformat_minor": 0,
  "metadata": {
    "colab": {
      "provenance": [],
      "toc_visible": true,
      "authorship_tag": "ABX9TyN8jOtzkpvwTWX2L5w9rRKI",
      "include_colab_link": true
    },
    "kernelspec": {
      "name": "python3",
      "display_name": "Python 3"
    },
    "language_info": {
      "name": "python"
    }
  },
  "cells": [
    {
      "cell_type": "markdown",
      "metadata": {
        "id": "view-in-github",
        "colab_type": "text"
      },
      "source": [
        "<a href=\"https://colab.research.google.com/github/royam0820/Python/blob/main/Python_Session_3_Enseignant.ipynb\" target=\"_parent\"><img src=\"https://colab.research.google.com/assets/colab-badge.svg\" alt=\"Open In Colab\"/></a>"
      ]
    },
    {
      "cell_type": "markdown",
      "source": [
        "# Session 3 : Organiser les données et introduction à l'IA 🤖\n",
        "Bienvenue à la troisième session ! Aujourd'hui, nous allons apprendre à organiser les données avec Python et découvrir le monde fascinant de l'IA (Intelligence Artificielle). Préparez-vous à devenir des super-héros du code ! 🦸‍♂️🦸‍♀️\n",
        "\n",
        "Les thèmes abordés sont:\n",
        "- Liste et Dictionnaire\n",
        "- Introduction à l'IA\n"
      ],
      "metadata": {
        "id": "sHVCWcPFhMqD"
      }
    },
    {
      "cell_type": "markdown",
      "source": [
        "## 1. Rappel rapide\n",
        "Lors des sessions précédentes, nous avons appris :\n",
        "- Les bases de Python : `print()`, variables, et opérations mathématiques.\n",
        "- Comment prendre des décisions avec `if-else` et répéter des tâches avec des boucles `for` et `while`.\n",
        "- Comment utiliser des fonctions pour réutiliser du code.\n",
        "\n",
        "Aujourd'hui, nous allons apprendre à organiser les données et voir comment l'IA fonctionne avec Python !\n",
        "\n",
        "---"
      ],
      "metadata": {
        "id": "dTSsds3RhWvG"
      }
    },
    {
      "cell_type": "markdown",
      "source": [
        "## 2. Organiser les données : Listes et dictionnaires\n",
        "\n"
      ],
      "metadata": {
        "id": "8vw7T9xjhcPZ"
      }
    },
    {
      "cell_type": "markdown",
      "source": [
        "### Les listes 📋\n",
        "Une **liste** est comme un sac où vous pouvez ranger plusieurs choses, comme vos jouets ou vos bonbons préférés. En Python, les listes sont créées avec des crochets **`[]`**.\n"
      ],
      "metadata": {
        "id": "n8PIFi_xkglg"
      }
    },
    {
      "cell_type": "code",
      "source": [
        "# Exemple : Liste de films préférés\n",
        "films = [\"Harry Potter\", \"Spider-Man\", \"Frozen\"]\n",
        "print(films)"
      ],
      "metadata": {
        "colab": {
          "base_uri": "https://localhost:8080/"
        },
        "id": "TvR_VBk3hjFN",
        "outputId": "b18fdce3-e0b5-4c5b-deac-9735ca501eb5"
      },
      "execution_count": 1,
      "outputs": [
        {
          "output_type": "stream",
          "name": "stdout",
          "text": [
            "['Harry Potter', 'Spider-Man', 'Frozen']\n"
          ]
        }
      ]
    },
    {
      "cell_type": "code",
      "source": [
        "type(films)"
      ],
      "metadata": {
        "colab": {
          "base_uri": "https://localhost:8080/"
        },
        "id": "10Ks8VwshUO9",
        "outputId": "2b63c23b-841e-41e1-a35a-594f551d39c8"
      },
      "execution_count": 2,
      "outputs": [
        {
          "output_type": "execute_result",
          "data": {
            "text/plain": [
              "list"
            ]
          },
          "metadata": {},
          "execution_count": 2
        }
      ]
    },
    {
      "cell_type": "markdown",
      "source": [
        "Vous pouvez ajouter des éléments à une liste avec `append()` ou en supprimer avec `remove()`."
      ],
      "metadata": {
        "id": "30z3pFz1hqMI"
      }
    },
    {
      "cell_type": "code",
      "source": [
        "# ajout d'éléments dans une liste -- append()\n",
        "films.append(\"Le Roi Lion\")  # Ajouter un film\n",
        "\n",
        "# suppression d'un élément dans une liste\n",
        "films.remove(\"Spider-Man\")   # Supprimer un film\n",
        "print(films)"
      ],
      "metadata": {
        "colab": {
          "base_uri": "https://localhost:8080/"
        },
        "id": "mnY1Cukcht9_",
        "outputId": "67e92cf3-4b1b-4239-c526-a7a42e0f96c0"
      },
      "execution_count": 3,
      "outputs": [
        {
          "output_type": "stream",
          "name": "stdout",
          "text": [
            "['Harry Potter', 'Frozen', 'Le Roi Lion']\n"
          ]
        }
      ]
    },
    {
      "cell_type": "markdown",
      "source": [
        "#### Liste - Code amusant\n",
        "Le code ci-dessus crée deux listes, une pour les noms d'amis et une pour leurs pouvoirs, puis les combine pour afficher un message amusant pour chaque ami, le transformant en \"Super-Nom\" avec son pouvoir."
      ],
      "metadata": {
        "id": "J6Bznhy1L4MN"
      }
    },
    {
      "cell_type": "code",
      "source": [
        "amis = [\"Léa\", \"Tom\", \"Inès\", \"Max\"]\n",
        "pouvoirs = [\"voler\", \"devenir invisible\", \"parler aux animaux\", \"lancer des éclairs\"]\n",
        "\n",
        "print(len(amis))\n",
        "\n",
        "for i in range(len(amis)):\n",
        "    nom = amis[i]\n",
        "    pouvoir = pouvoirs[i]\n",
        "    print(\"🚀 Attention,\", nom, \"se transforme en Super-\" + nom.upper() + \" avec le pouvoir de\", pouvoir + \" !\")\n"
      ],
      "metadata": {
        "colab": {
          "base_uri": "https://localhost:8080/"
        },
        "id": "Yp87LOqDL-Sr",
        "outputId": "9fe4062b-98f8-4a32-aff1-f3d8b941ccdd"
      },
      "execution_count": 9,
      "outputs": [
        {
          "output_type": "stream",
          "name": "stdout",
          "text": [
            "4\n",
            "🚀 Attention, Léa se transforme en Super-LÉA avec le pouvoir de voler !\n",
            "🚀 Attention, Tom se transforme en Super-TOM avec le pouvoir de devenir invisible !\n",
            "🚀 Attention, Inès se transforme en Super-INÈS avec le pouvoir de parler aux animaux !\n",
            "🚀 Attention, Max se transforme en Super-MAX avec le pouvoir de lancer des éclairs !\n"
          ]
        }
      ]
    },
    {
      "cell_type": "markdown",
      "source": [
        "NB:`len(amis)`donne le nombre d'éléments dans la liste"
      ],
      "metadata": {
        "id": "OU1LY7ENMdrU"
      }
    },
    {
      "cell_type": "markdown",
      "source": [
        "Demande à l'IA de t'expliquer le code"
      ],
      "metadata": {
        "id": "-GlpbWHJMB9U"
      }
    },
    {
      "cell_type": "markdown",
      "source": [
        "### Les dictionnaires 📚\n",
        "Un **dictionnaire** est comme un carnet où vous associez des noms à des informations, comme un carnet d'adresses. En Python, les dictionnaires sont créés avec des accolades `{}` et contiennent des paires clé-valeur."
      ],
      "metadata": {
        "id": "1VcpMp3zh3fJ"
      }
    },
    {
      "cell_type": "code",
      "source": [
        "# Exemple : Dictionnaire des notes des élèves\n",
        "notes = {\"Alice\": 15, \"Bob\": 18, \"Charlie\": 12}\n",
        "print(f\"Alice a obtenu la note de {notes['Alice']}\")"
      ],
      "metadata": {
        "colab": {
          "base_uri": "https://localhost:8080/"
        },
        "id": "zl2Ij3OLh7oR",
        "outputId": "a9e326dc-1584-4578-fa6a-80b09796f0f1"
      },
      "execution_count": 4,
      "outputs": [
        {
          "output_type": "stream",
          "name": "stdout",
          "text": [
            "Alice a obtenu la note de 15\n"
          ]
        }
      ]
    },
    {
      "cell_type": "code",
      "source": [
        "# Afficher toutes les notes\n",
        "for eleve, note in notes.items():\n",
        "    print(f\"{eleve} a obtenu la note de {note}\")"
      ],
      "metadata": {
        "colab": {
          "base_uri": "https://localhost:8080/"
        },
        "id": "VLX1j7qWIe_F",
        "outputId": "09d28fe4-06f3-4458-9c1b-af86af9ec284"
      },
      "execution_count": 5,
      "outputs": [
        {
          "output_type": "stream",
          "name": "stdout",
          "text": [
            "Alice a obtenu la note de 15\n",
            "Bob a obtenu la note de 18\n",
            "Charlie a obtenu la note de 12\n"
          ]
        }
      ]
    },
    {
      "cell_type": "markdown",
      "source": [
        "NB: comment ça marche ?\n",
        "- `notes.items() :`\n",
        "- on regarde chaque fiche dans la boîte `(notes.items())`.\n",
        "\n",
        "- À chaque tour, on prend le nom de l’élève `(eleve)` et sa note `(note)`.\n",
        "\n",
        "- on imprime une phrase comme : `“Alice a obtenu la note de 18”.`\n",
        "\n",
        "\n"
      ],
      "metadata": {
        "id": "KfJms2P2Jq6r"
      }
    },
    {
      "cell_type": "markdown",
      "source": [
        "Vous pouvez ajouter de nouvelles paires ou modifier des valeurs existantes.\n"
      ],
      "metadata": {
        "id": "KvQnDiNZiJe4"
      }
    },
    {
      "cell_type": "code",
      "source": [
        "# ajout de notes pour Davide et Bob\n",
        "notes[\"David\"] = 16  # Ajouter David avec sa note\n",
        "notes[\"Bob\"] = 19    # Modifier la note de Bob\n",
        "print(notes)"
      ],
      "metadata": {
        "colab": {
          "base_uri": "https://localhost:8080/"
        },
        "id": "6W9VJ2cbiMEp",
        "outputId": "a04274d5-4a8c-4023-9381-d53333a676f0"
      },
      "execution_count": 6,
      "outputs": [
        {
          "output_type": "stream",
          "name": "stdout",
          "text": [
            "{'Alice': 15, 'Bob': 19, 'Charlie': 12, 'David': 16}\n"
          ]
        }
      ]
    },
    {
      "cell_type": "markdown",
      "source": [
        "#### Dictionnaire - Code amusant\n",
        "\n",
        "Le code ci-dessous crée un dictionnaire avec des animaux comme clés et leurs plats préférés comme valeurs. Ensuite, il parcourt ce dictionnaire et affiche une phrase amusante pour chaque animal."
      ],
      "metadata": {
        "id": "sPyULRQ1NYBJ"
      }
    },
    {
      "cell_type": "code",
      "source": [
        "plats_animaux = {\n",
        "    \"chien\": \"os au chocolat\",\n",
        "    \"chat\": \"pizza au poisson\",\n",
        "    \"lapin\": \"glace à la carotte\",\n",
        "    \"singe\": \"burger à la banane\",\n",
        "    \"renard\": \"crêpe au fromage\"\n",
        "}\n",
        "\n",
        "for animal, plat in plats_animaux.items():\n",
        "    print(f\"Le {animal} adore manger un(e) {plat} !\")\n"
      ],
      "metadata": {
        "colab": {
          "base_uri": "https://localhost:8080/"
        },
        "id": "9dAn0-v7Nbwd",
        "outputId": "9570fb68-122a-475e-e3fd-39a83a95a2fa"
      },
      "execution_count": 10,
      "outputs": [
        {
          "output_type": "stream",
          "name": "stdout",
          "text": [
            "Le chien adore manger un(e) os au chocolat !\n",
            "Le chat adore manger un(e) pizza au poisson !\n",
            "Le lapin adore manger un(e) glace à la carotte !\n",
            "Le singe adore manger un(e) burger à la banane !\n",
            "Le renard adore manger un(e) crêpe au fromage !\n"
          ]
        }
      ]
    },
    {
      "cell_type": "markdown",
      "source": [
        "## 3. Introduction à l'IA\n",
        "\n",
        "\n",
        "\n"
      ],
      "metadata": {
        "id": "Ud7WLkb1itL8"
      }
    },
    {
      "cell_type": "markdown",
      "source": [
        "### Qu'est-ce que l'IA ? 🤖\n",
        "L'**IA** (Intelligence Artificielle) est comme un cerveau pour les ordinateurs. Elle permet aux machines de faire des choses intelligentes, comme reconnaître des visages, comprendre la parole (comme Siri ou Alexa), ou même recommander des films sur Netflix !"
      ],
      "metadata": {
        "id": "p9Lt2GsMk07t"
      }
    },
    {
      "cell_type": "markdown",
      "source": [
        "### Comment fonctionne l'IA ? 🧠\n",
        "L'IA apprend à partir de **données**. Par exemple, pour reconnaître des chats dans des photos, on montre à l'IA plein de photos de chats et elle apprend à les identifier. C'est ce qu'on appelle l'**apprentissage automatique** (machine learning).\n",
        "\n",
        "---"
      ],
      "metadata": {
        "id": "XU9HoTrck6ns"
      }
    },
    {
      "cell_type": "markdown",
      "source": [
        "## 4. Démonstration : Un modèle d'IA en action\n",
        "\n",
        "Aujourd'hui, nous allons voir un modèle d'IA qui peut reconnaître des chiffres écrits à la main ! Ce modèle s'appelle **MNIST** (Modified National Institute of Standards and Technology). Il a été entraîné avec des milliers d'images de chiffres (de 0 à 9) et peut prédire quel chiffre est dessiné.\n",
        "\n",
        "\n",
        "\n"
      ],
      "metadata": {
        "id": "ppv0SoabjFT1"
      }
    },
    {
      "cell_type": "markdown",
      "source": [
        "![image.png](data:image/png;base64,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)"
      ],
      "metadata": {
        "id": "B68Ab4slX-9n"
      }
    },
    {
      "cell_type": "markdown",
      "source": [
        "### Essayons-le !\n",
        "Nous allons utiliser un modèle pré-entraîné appelé **MNIST** dans Google Colab. Voici comment faire :"
      ],
      "metadata": {
        "id": "KW9gd87CldsZ"
      }
    },
    {
      "cell_type": "markdown",
      "source": [
        "1. **Importer les bibliothèques nécessaires** :\n",
        "\n",
        "Le code ci-dessous prépare l'environnement en important les outils dont nous aurons besoin : TensorFlow pour le modèle d'IA, le jeu de données MNIST pour les images de chiffres, et Matplotlib pour afficher ces images."
      ],
      "metadata": {
        "id": "DNHH-yYjlmHt"
      }
    },
    {
      "cell_type": "code",
      "source": [
        "import tensorflow as tf\n",
        "from tensorflow.keras.datasets import mnist\n",
        "import matplotlib.pyplot as plt"
      ],
      "metadata": {
        "id": "R2MWL1tvjScQ"
      },
      "execution_count": 11,
      "outputs": []
    },
    {
      "cell_type": "markdown",
      "source": [
        "\n",
        "2. **Charger les données** :\n",
        "\n",
        "Le code ci-dessous charge le célèbre jeu de données MNIST, qui est utilisé pour entraîner et tester des modèles d'IA à reconnaître des chiffres écrits à la main.\n",
        "\n",
        "Ce jeu est déjà séparé en deux parties :\n",
        "\n",
        "- un ensemble d'entraînement (train) de 60000 images\n",
        "- un ensemble de test (test) de 10000 images\n",
        "\n",
        "Chaque ensemble contient :\n",
        "\n",
        "- des images x (chiffres manuscrits, en 28x28 pixels)\n",
        "- des labels y (les chiffres correspondants, entre 0 et 9)"
      ],
      "metadata": {
        "id": "0T7FThtVjtLj"
      }
    },
    {
      "cell_type": "code",
      "source": [
        "(x_train, y_train), (x_test, y_test) = mnist.load_data()"
      ],
      "metadata": {
        "colab": {
          "base_uri": "https://localhost:8080/"
        },
        "id": "uYKd0de5jxoh",
        "outputId": "b463e1ed-1edf-441e-85d6-75f2e350c4dc"
      },
      "execution_count": 12,
      "outputs": [
        {
          "output_type": "stream",
          "name": "stdout",
          "text": [
            "Downloading data from https://storage.googleapis.com/tensorflow/tf-keras-datasets/mnist.npz\n",
            "\u001b[1m11490434/11490434\u001b[0m \u001b[32m━━━━━━━━━━━━━━━━━━━━\u001b[0m\u001b[37m\u001b[0m \u001b[1m0s\u001b[0m 0us/step\n"
          ]
        }
      ]
    },
    {
      "cell_type": "code",
      "source": [
        "# longueur du jeu de données (x_train, y_train)\n",
        "len(x_train), len(y_train)"
      ],
      "metadata": {
        "colab": {
          "base_uri": "https://localhost:8080/"
        },
        "id": "HYtOEqguP_dd",
        "outputId": "ab06df4c-c686-4917-dae7-ae7c5f6c272d"
      },
      "execution_count": 16,
      "outputs": [
        {
          "output_type": "execute_result",
          "data": {
            "text/plain": [
              "(60000, 60000)"
            ]
          },
          "metadata": {},
          "execution_count": 16
        }
      ]
    },
    {
      "cell_type": "code",
      "source": [
        "# longueur du jeu de données (x_test, y_test)\n",
        "len(x_test), len(y_test)"
      ],
      "metadata": {
        "colab": {
          "base_uri": "https://localhost:8080/"
        },
        "id": "vYTJop3YQHFJ",
        "outputId": "f468d8f2-6cb8-47ae-a750-5201193ca16c"
      },
      "execution_count": 17,
      "outputs": [
        {
          "output_type": "execute_result",
          "data": {
            "text/plain": [
              "(10000, 10000)"
            ]
          },
          "metadata": {},
          "execution_count": 17
        }
      ]
    },
    {
      "cell_type": "markdown",
      "source": [
        "3. **Voir une image** :\n",
        "\n",
        "On va pouvoir afficher la première image du jeu de test (x_test[0])"
      ],
      "metadata": {
        "id": "yh_gtfUsj6LX"
      }
    },
    {
      "cell_type": "code",
      "source": [
        "plt.imshow(x_test[0], cmap='gray')\n",
        "plt.show()"
      ],
      "metadata": {
        "colab": {
          "base_uri": "https://localhost:8080/",
          "height": 430
        },
        "id": "46-jJ8qlj_Wy",
        "outputId": "f12195b4-c52b-45da-da7f-3402b9e40fd2"
      },
      "execution_count": 19,
      "outputs": [
        {
          "output_type": "display_data",
          "data": {
            "text/plain": [
              "<Figure size 640x480 with 1 Axes>"
            ],
            "image/png": "[encoded data removed]"
          },
          "metadata": {}
        }
      ]
    },
    {
      "cell_type": "markdown",
      "source": [
        "4. **Télécharger un modèle pré-entraîné** :\n",
        "\n",
        "Le code ci-dessous télécharge un modèle préentraîné MNIST depuis Hugging Face vers l’environnement local (ton Colab ou ton notebook), que tu peux ensuite charger avec Keras :"
      ],
      "metadata": {
        "id": "M8ZiZvRHnvPe"
      }
    },
    {
      "cell_type": "code",
      "source": [
        "# Télécharger le modèle\n",
        "!wget https://huggingface.co/spaces/ayaanzaveri/mnist/resolve/main/mnist-model.h5\n"
      ],
      "metadata": {
        "id": "nD-ULWq_nbnr",
        "colab": {
          "base_uri": "https://localhost:8080/"
        },
        "outputId": "7fd70f1b-914e-43e1-bfa6-d75f12726774"
      },
      "execution_count": 20,
      "outputs": [
        {
          "output_type": "stream",
          "name": "stdout",
          "text": [
            "--2025-07-30 16:56:16--  https://huggingface.co/spaces/ayaanzaveri/mnist/resolve/main/mnist-model.h5\n",
            "Resolving huggingface.co (huggingface.co)... 3.166.152.110, 3.166.152.105, 3.166.152.65, ...\n",
            "Connecting to huggingface.co (huggingface.co)|3.166.152.110|:443... connected.\n",
            "HTTP request sent, awaiting response... 302 Found\n",
            "Location: https://cdn-lfs.hf.co/spaces/ayaanzaveri/mnist/a19292b4856a8142a34fb3a10f710a95071bc4cfa3d46ba68c596e47241b1f59?response-content-disposition=inline%3B+filename*%3DUTF-8%27%27mnist-model.h5%3B+filename%3D%22mnist-model.h5%22%3B&Expires=1753898176&Policy=eyJTdGF0ZW1lbnQiOlt7IkNvbmRpdGlvbiI6eyJEYXRlTGVzc1RoYW4iOnsiQVdTOkVwb2NoVGltZSI6MTc1Mzg5ODE3Nn19LCJSZXNvdXJjZSI6Imh0dHBzOi8vY2RuLWxmcy5oZi5jby9zcGFjZXMvYXlhYW56YXZlcmkvbW5pc3QvYTE5MjkyYjQ4NTZhODE0MmEzNGZiM2ExMGY3MTBhOTUwNzFiYzRjZmEzZDQ2YmE2OGM1OTZlNDcyNDFiMWY1OT9yZXNwb25zZS1jb250ZW50LWRpc3Bvc2l0aW9uPSoifV19&Signature=sIzvBCjM77GSifcwg1zavOQmdAOT8h6CFLBAnBWoA-aLUFJoxzKaf6mSVoCRbKR7uz8RuSIJL-Fd2NNqGDXNnry7Vm2l1aaERKz7IIw6LqSV4BYE7%7E6yLJI2NPh7KKKvn5D9LyNJ3ESZ0DSfcU3ibzC7EJp7A%7EeSQshwVXe3xSmcCCbHutg4z27ME4jstC1MbZYqrRP8-YNSBvRxs70E4MCMAJP16pQigIoCmDltaERVGtXMtDpaua9aD7OjNOdV8vXmPDjgCZW2YgFN0FHsAi8hpvWD6qmoB35EvVIqRu8yHVRB%7EB5PvitUWn9y5ZOSQvixrT20vocWJE85HUU7HA__&Key-Pair-Id=K3RPWS32NSSJCE [following]\n",
            "--2025-07-30 16:56:16--  https://cdn-lfs.hf.co/spaces/ayaanzaveri/mnist/a19292b4856a8142a34fb3a10f710a95071bc4cfa3d46ba68c596e47241b1f59?response-content-disposition=inline%3B+filename*%3DUTF-8%27%27mnist-model.h5%3B+filename%3D%22mnist-model.h5%22%3B&Expires=1753898176&Policy=eyJTdGF0ZW1lbnQiOlt7IkNvbmRpdGlvbiI6eyJEYXRlTGVzc1RoYW4iOnsiQVdTOkVwb2NoVGltZSI6MTc1Mzg5ODE3Nn19LCJSZXNvdXJjZSI6Imh0dHBzOi8vY2RuLWxmcy5oZi5jby9zcGFjZXMvYXlhYW56YXZlcmkvbW5pc3QvYTE5MjkyYjQ4NTZhODE0MmEzNGZiM2ExMGY3MTBhOTUwNzFiYzRjZmEzZDQ2YmE2OGM1OTZlNDcyNDFiMWY1OT9yZXNwb25zZS1jb250ZW50LWRpc3Bvc2l0aW9uPSoifV19&Signature=sIzvBCjM77GSifcwg1zavOQmdAOT8h6CFLBAnBWoA-aLUFJoxzKaf6mSVoCRbKR7uz8RuSIJL-Fd2NNqGDXNnry7Vm2l1aaERKz7IIw6LqSV4BYE7%7E6yLJI2NPh7KKKvn5D9LyNJ3ESZ0DSfcU3ibzC7EJp7A%7EeSQshwVXe3xSmcCCbHutg4z27ME4jstC1MbZYqrRP8-YNSBvRxs70E4MCMAJP16pQigIoCmDltaERVGtXMtDpaua9aD7OjNOdV8vXmPDjgCZW2YgFN0FHsAi8hpvWD6qmoB35EvVIqRu8yHVRB%7EB5PvitUWn9y5ZOSQvixrT20vocWJE85HUU7HA__&Key-Pair-Id=K3RPWS32NSSJCE\n",
            "Resolving cdn-lfs.hf.co (cdn-lfs.hf.co)... 18.239.225.95, 18.239.225.105, 18.239.225.129, ...\n",
            "Connecting to cdn-lfs.hf.co (cdn-lfs.hf.co)|18.239.225.95|:443... connected.\n",
            "HTTP request sent, awaiting response... 200 OK\n",
            "Length: 8401856 (8.0M) [binary/octet-stream]\n",
            "Saving to: ‘mnist-model.h5’\n",
            "\n",
            "mnist-model.h5      100%[===================>]   8.01M  --.-KB/s    in 0.1s    \n",
            "\n",
            "2025-07-30 16:56:16 (70.4 MB/s) - ‘mnist-model.h5’ saved [8401856/8401856]\n",
            "\n"
          ]
        }
      ]
    },
    {
      "cell_type": "markdown",
      "source": [
        "4. **Prédire le chiffre** :"
      ],
      "metadata": {
        "id": "6B9_eA2mkIXI"
      }
    },
    {
      "cell_type": "code",
      "source": [
        "# chargement du modèle déjà entraîné pour reconnaître des chiffres manuscrits (0 à 9) sur le dataset MNIST.\n",
        "model = tf.keras.models.load_model('mnist-model.h5')\n",
        "\n",
        "# on prépare une image du jeu de données test pour la prédiction\n",
        "prediction = model.predict(x_test[0].reshape(1, 28, 28, 1))\n",
        "\n",
        "# le modèle retourne l’indice de la probabilité la plus élevée → c’est la classe prédite (par exemple 7 si le modèle pense que c’est un 7).\n",
        "print(\"Le modèle pense que c'est un\", prediction.argmax())"
      ],
      "metadata": {
        "colab": {
          "base_uri": "https://localhost:8080/"
        },
        "id": "6G7jKluSkOdm",
        "outputId": "3a374d7e-7ffc-4c37-b483-d74ccbfdd4df"
      },
      "execution_count": 21,
      "outputs": [
        {
          "output_type": "stream",
          "name": "stderr",
          "text": [
            "/usr/local/lib/python3.11/dist-packages/keras/src/layers/convolutional/base_conv.py:107: UserWarning: Do not pass an `input_shape`/`input_dim` argument to a layer. When using Sequential models, prefer using an `Input(shape)` object as the first layer in the model instead.\n",
            "  super().__init__(activity_regularizer=activity_regularizer, **kwargs)\n",
            "/usr/local/lib/python3.11/dist-packages/keras/src/optimizers/base_optimizer.py:86: UserWarning: Argument `decay` is no longer supported and will be ignored.\n",
            "  warnings.warn(\n",
            "WARNING:absl:Compiled the loaded model, but the compiled metrics have yet to be built. `model.compile_metrics` will be empty until you train or evaluate the model.\n",
            "WARNING:absl:Error in loading the saved optimizer state. As a result, your model is starting with a freshly initialized optimizer.\n"
          ]
        },
        {
          "output_type": "stream",
          "name": "stdout",
          "text": [
            "\u001b[1m1/1\u001b[0m \u001b[32m━━━━━━━━━━━━━━━━━━━━\u001b[0m\u001b[37m\u001b[0m \u001b[1m0s\u001b[0m 475ms/step\n",
            "Le modèle pense que c'est un 7\n"
          ]
        }
      ]
    },
    {
      "cell_type": "code",
      "source": [
        "# impression de la prédiction en charactère gras\n",
        "from IPython.display import display, Markdown\n",
        "display(Markdown(f\"**Le modèle pense que c'est un {prediction.argmax()}**\"))\n"
      ],
      "metadata": {
        "colab": {
          "base_uri": "https://localhost:8080/",
          "height": 46
        },
        "id": "20upgYqlS5SM",
        "outputId": "8de4f58d-3ee6-4f71-cc09-96996a12b05c"
      },
      "execution_count": 22,
      "outputs": [
        {
          "output_type": "display_data",
          "data": {
            "text/plain": [
              "<IPython.core.display.Markdown object>"
            ],
            "text/markdown": "**Le modèle pense que c'est un 7**"
          },
          "metadata": {}
        }
      ]
    },
    {
      "cell_type": "markdown",
      "source": [
        ">  🤖 **Demande à l'IA** :\n",
        "\n",
        "> ➡️ demande à l'IA de t'expliquer le code de cette démo."
      ],
      "metadata": {
        "id": "WHXjMULZooDZ"
      }
    },
    {
      "cell_type": "markdown",
      "source": [
        "**Note** : Pour cette démo, nous supposons qu'un modèle pré-entraîné est disponible. Vous pouvez trouver des modèles MNIST pré-entraînés en ligne ou entraîner le vôtre si vous le souhaitez."
      ],
      "metadata": {
        "id": "srhMwWOgkdAl"
      }
    },
    {
      "cell_type": "markdown",
      "source": [
        "## 5. Activités\n",
        "\n"
      ],
      "metadata": {
        "id": "mbsmXxGpkkOT"
      }
    },
    {
      "cell_type": "markdown",
      "source": [
        "### Activité 1 : Créez votre liste de films préférés\n",
        "Créez une liste avec vos 3 films préférés et imprimez-la. Ensuite, ajoutez un nouveau film et imprimez la liste à nouveau.\n"
      ],
      "metadata": {
        "id": "BUamLAXsh-q9"
      }
    },
    {
      "cell_type": "code",
      "source": [
        "films = [\"Dune: Part Two\", \"Oppenheimer\", \"Barbie\"]  # Remplacez par vos films\n",
        "print(films)\n",
        "films.append(\"Wonka\")  # Ajoutez un nouveau film\n",
        "print(films)"
      ],
      "metadata": {
        "id": "ney7VtgfkqQ1",
        "colab": {
          "base_uri": "https://localhost:8080/"
        },
        "outputId": "b2aeddeb-9258-47a4-bfad-5788a7903c20"
      },
      "execution_count": 23,
      "outputs": [
        {
          "output_type": "stream",
          "name": "stdout",
          "text": [
            "['Dune: Part Two', 'Oppenheimer', 'Barbie']\n",
            "['Dune: Part Two', 'Oppenheimer', 'Barbie', 'Wonka']\n"
          ]
        }
      ]
    },
    {
      "cell_type": "markdown",
      "source": [
        "#### Petit jeu amusant avec les listes\n",
        "\n",
        "Le code ci-après gère une liste de créatures magiques à travers un menu interactif, où l’utilisateur peut :\n",
        "- ajouter (append),\n",
        "- supprimer. (remove),\n",
        "- chercher,\n",
        "- trier (sort),\n",
        "- mélanger (shuffle) ou\n",
        "- quitter (break)."
      ],
      "metadata": {
        "id": "wpZu7IpriGoP"
      }
    },
    {
      "cell_type": "code",
      "source": [
        "# Création de la liste de créatures\n",
        "creatures = [\"dragon\", \"licorne\", \"griffon\", \"phénix\", \"sirène\"]\n",
        "\n",
        "# Affichage de la liste\n",
        "def afficher_liste():\n",
        "    print(\"\\nVoici ta ménagerie magique :\")\n",
        "    for i, creature in enumerate(creatures, 1):\n",
        "        print(f\"{i}. {creature}\")\n",
        "    print()\n",
        "\n",
        "# Menu interactif\n",
        "while True:\n",
        "    afficher_liste()\n",
        "    print(\"Que veux-tu faire ?\")\n",
        "    print(\"1. Ajouter une créature 🐉\")\n",
        "    print(\"2. Supprimer une créature ❌\")\n",
        "    print(\"3. Chercher une créature 🔍\")\n",
        "    print(\"4. Ranger les créatures par ordre alphabétique 📚\")\n",
        "    print(\"5. Mélanger la liste 🎲\")\n",
        "    print(\"6. Quitter 🚪\")\n",
        "\n",
        "    choix = input(\"Entre le numéro de ton choix : \")\n",
        "\n",
        "# Gestion des choix de l'utilisateur\n",
        "    if choix == \"1\":\n",
        "        nouvelle = input(\"Nom de la nouvelle créature magique ? \")\n",
        "        creatures.append(nouvelle)\n",
        "        print(f\"{nouvelle} a été ajoutée à la ménagerie !\")\n",
        "    elif choix == \"2\":\n",
        "        cible = input(\"Quel nom veux-tu supprimer ? \")\n",
        "        if cible in creatures:\n",
        "            creatures.remove(cible)\n",
        "            print(f\"{cible} a été libérée !\")\n",
        "        else:\n",
        "            print(f\"{cible} n'est pas dans ta ménagerie.\")\n",
        "    elif choix == \"3\":\n",
        "        recherche = input(\"Quel nom veux-tu chercher ? \")\n",
        "        if recherche in creatures:\n",
        "            print(f\"{recherche} est bien présente ! 🪄\")\n",
        "        else:\n",
        "            print(f\"{recherche} est introuvable.\")\n",
        "    elif choix == \"4\":\n",
        "        creatures.sort()\n",
        "        print(\"Les créatures sont maintenant bien rangées.\")\n",
        "    elif choix == \"5\":\n",
        "        import random\n",
        "        random.shuffle(creatures)\n",
        "        print(\"Abracadabra ! Liste mélangée.\")\n",
        "    elif choix == \"6\":\n",
        "        print(\"À bientôt, dresseur de créatures magiques !\")\n",
        "        break\n",
        "    else:\n",
        "        print(\"Choix invalide, réessaie.\")\n"
      ],
      "metadata": {
        "id": "WDdB4agph6KL",
        "colab": {
          "base_uri": "https://localhost:8080/"
        },
        "outputId": "2f95c5ee-665c-4a16-c171-b0cadf215706"
      },
      "execution_count": 24,
      "outputs": [
        {
          "output_type": "stream",
          "name": "stdout",
          "text": [
            "\n",
            "Voici ta ménagerie magique :\n",
            "1. dragon\n",
            "2. licorne\n",
            "3. griffon\n",
            "4. phénix\n",
            "5. sirène\n",
            "\n",
            "Que veux-tu faire ?\n",
            "1. Ajouter une créature 🐉\n",
            "2. Supprimer une créature ❌\n",
            "3. Chercher une créature 🔍\n",
            "4. Ranger les créatures par ordre alphabétique 📚\n",
            "5. Mélanger la liste 🎲\n",
            "6. Quitter 🚪\n",
            "Entre le numéro de ton choix : 1\n",
            "Nom de la nouvelle créature magique ? lapin\n",
            "lapin a été ajoutée à la ménagerie !\n",
            "\n",
            "Voici ta ménagerie magique :\n",
            "1. dragon\n",
            "2. licorne\n",
            "3. griffon\n",
            "4. phénix\n",
            "5. sirène\n",
            "6. lapin\n",
            "\n",
            "Que veux-tu faire ?\n",
            "1. Ajouter une créature 🐉\n",
            "2. Supprimer une créature ❌\n",
            "3. Chercher une créature 🔍\n",
            "4. Ranger les créatures par ordre alphabétique 📚\n",
            "5. Mélanger la liste 🎲\n",
            "6. Quitter 🚪\n",
            "Entre le numéro de ton choix : 4\n",
            "Les créatures sont maintenant bien rangées.\n",
            "\n",
            "Voici ta ménagerie magique :\n",
            "1. dragon\n",
            "2. griffon\n",
            "3. lapin\n",
            "4. licorne\n",
            "5. phénix\n",
            "6. sirène\n",
            "\n",
            "Que veux-tu faire ?\n",
            "1. Ajouter une créature 🐉\n",
            "2. Supprimer une créature ❌\n",
            "3. Chercher une créature 🔍\n",
            "4. Ranger les créatures par ordre alphabétique 📚\n",
            "5. Mélanger la liste 🎲\n",
            "6. Quitter 🚪\n",
            "Entre le numéro de ton choix : 6\n",
            "À bientôt, dresseur de créatures magiques !\n"
          ]
        }
      ]
    },
    {
      "cell_type": "markdown",
      "source": [],
      "metadata": {
        "id": "6p68LJOWUIqw"
      }
    },
    {
      "cell_type": "markdown",
      "source": [
        "### Activité 2 : Créez un dictionnaire de notes\n",
        "Créez un dictionnaire avec les noms de 3 amis et leurs notes imaginaires. Ensuite, ajoutez un nouvel ami et modifiez la note d'un ami existant."
      ],
      "metadata": {
        "id": "XDvooHu4k2ah"
      }
    },
    {
      "cell_type": "code",
      "source": [
        "notes = {\"Astrid\": 15, \"Bob\": 15, \"Charlie\": 12}  # Remplacez par vos amis et notes\n",
        "print(notes)\n",
        "notes[\"David\"] = 18  # Ajoutez un nouvel ami\n",
        "notes[\"Astrid\"] = 18       # Modifiez la note d'Ami1\n",
        "print(notes)"
      ],
      "metadata": {
        "id": "TyLoSrZUk82z",
        "colab": {
          "base_uri": "https://localhost:8080/"
        },
        "outputId": "6b261eb8-619c-450f-8847-c40598bb8cdd"
      },
      "execution_count": 28,
      "outputs": [
        {
          "output_type": "stream",
          "name": "stdout",
          "text": [
            "{'Astrid': 15, 'Bob': 15, 'Charlie': 12}\n",
            "{'Astrid': 18, 'Bob': 15, 'Charlie': 12, 'David': 18}\n"
          ]
        }
      ]
    },
    {
      "cell_type": "markdown",
      "source": [
        "### Activité 3 : Prédire des chiffres avec l'IA\n",
        "Utilisez le code de la démo pour afficher une autre image du jeu de données MNIST et laissez le modèle prédire quel chiffre c'est. Essayez avec `x_test[1]`, `x_test[2]`, etc."
      ],
      "metadata": {
        "id": "rpV5aiqulDwH"
      }
    },
    {
      "cell_type": "code",
      "source": [
        "plt.imshow(x_test[1], cmap='gray')\n",
        "plt.show()\n",
        "prediction = model.predict(x_test[1].reshape(1, 28, 28, 1))\n",
        "print(\"Le modèle pense que c'est un\", prediction.argmax())"
      ],
      "metadata": {
        "id": "prhfggWUlAyP",
        "colab": {
          "base_uri": "https://localhost:8080/",
          "height": 466
        },
        "outputId": "283e8d3a-d27e-46fc-9453-619e6a42f57a"
      },
      "execution_count": 29,
      "outputs": [
        {
          "output_type": "display_data",
          "data": {
            "text/plain": [
              "<Figure size 640x480 with 1 Axes>"
            ],
            "image/png": "[encoded data removed]"
          },
          "metadata": {}
        },
        {
          "output_type": "stream",
          "name": "stdout",
          "text": [
            "\u001b[1m1/1\u001b[0m \u001b[32m━━━━━━━━━━━━━━━━━━━━\u001b[0m\u001b[37m\u001b[0m \u001b[1m0s\u001b[0m 49ms/step\n",
            "Le modèle pense que c'est un 2\n"
          ]
        }
      ]
    },
    {
      "cell_type": "code",
      "source": [
        "# impression de la prédiction en charactère gras\n",
        "from IPython.display import display, Markdown\n",
        "display(Markdown(f\"**Le modèle pense que c'est un {prediction.argmax()}**\"))\n"
      ],
      "metadata": {
        "colab": {
          "base_uri": "https://localhost:8080/",
          "height": 46
        },
        "id": "Xh9lsdqyWf0m",
        "outputId": "d391d8db-b92d-4400-af8e-91f234d071c3"
      },
      "execution_count": 30,
      "outputs": [
        {
          "output_type": "display_data",
          "data": {
            "text/plain": [
              "<IPython.core.display.Markdown object>"
            ],
            "text/markdown": "**Le modèle pense que c'est un 2**"
          },
          "metadata": {}
        }
      ]
    },
    {
      "cell_type": "markdown",
      "source": [
        "### Activité 4:  Défi amusant - Liste et Dictionnaire\n",
        "Créez une liste de vos 5 animaux préférés et imprimez-la. Ensuite, créez un dictionnaire avec les noms de vos amis et leur âge."
      ],
      "metadata": {
        "id": "aSBAChs4lZ-z"
      }
    },
    {
      "cell_type": "code",
      "source": [
        "animaux = [\"Lion\", \"Tigre\", \"Éléphant\", \"Girafe\", \"Zèbre\"]  # Remplacez par le nom de vos animaux\n",
        "print(animaux)"
      ],
      "metadata": {
        "id": "7jzkLEekldBo",
        "colab": {
          "base_uri": "https://localhost:8080/"
        },
        "outputId": "7011003b-88c1-4689-8f38-0ef5e418c3a6"
      },
      "execution_count": 31,
      "outputs": [
        {
          "output_type": "stream",
          "name": "stdout",
          "text": [
            "['Lion', 'Tigre', 'Éléphant', 'Girafe', 'Zèbre']\n"
          ]
        }
      ]
    },
    {
      "cell_type": "code",
      "source": [
        "amis_ages = {\"Léo\": 12, \"Mia\": 13, \"Noah\": 11}  # Remplacez par le nom de vos amis et leurs âges\n",
        "print(amis_ages)"
      ],
      "metadata": {
        "id": "C9PH6O-Llhpn",
        "colab": {
          "base_uri": "https://localhost:8080/"
        },
        "outputId": "69ab7a4b-df92-4c6b-f1b0-19a9613f9971"
      },
      "execution_count": 32,
      "outputs": [
        {
          "output_type": "stream",
          "name": "stdout",
          "text": [
            "{'Léo': 12, 'Mia': 13, 'Noah': 11}\n"
          ]
        }
      ]
    },
    {
      "cell_type": "markdown",
      "source": [
        "### 🐾 Activité 5: Sélecteur de noms d'animaux de compagnie aléatoires\n",
        "\n",
        "Bienvenue dans votre troisième aventure Python ! 🎲\n",
        "Aujourd'hui, nous allons apprendre à utiliser des listes, des boucles et des choix aléatoires pour créer une machine à noms d'animaux amusante !\n",
        "\n",
        "---\n",
        "\n",
        "\n",
        "\n"
      ],
      "metadata": {
        "id": "DNzQciExPW61"
      }
    },
    {
      "cell_type": "markdown",
      "source": [
        "#### 🔹 Étape 1 : Faites une liste de noms d’animaux de compagnie"
      ],
      "metadata": {
        "id": "OAuyk6LWqu22"
      }
    },
    {
      "cell_type": "code",
      "source": [
        "pet_names = [\"Waffles\", \"Pickles\", \"Banana\", \"Noodle\", \"Zigzag\"]\n",
        "print(\"Pet names ready to go!\")"
      ],
      "metadata": {
        "id": "H5x_R7pUPfns",
        "colab": {
          "base_uri": "https://localhost:8080/"
        },
        "outputId": "c0c875ee-7eb9-49fd-9f6f-034e2742f853"
      },
      "execution_count": 33,
      "outputs": [
        {
          "output_type": "stream",
          "name": "stdout",
          "text": [
            "Pet names ready to go!\n"
          ]
        }
      ]
    },
    {
      "cell_type": "markdown",
      "source": [
        "#### 🔹 Étape 2 : Choisissez-en un au hasard !"
      ],
      "metadata": {
        "id": "JcrZLrCzPxBj"
      }
    },
    {
      "cell_type": "code",
      "source": [
        "import random   # random, c’est module Python qui permet à l’ordinateur de choisir au hasard.\n",
        "chosen_name = random.choice(pet_names)\n",
        "print(\"Your new pet name is... \" + chosen_name + \"!\")\n"
      ],
      "metadata": {
        "id": "NDP6c935Pqfo",
        "colab": {
          "base_uri": "https://localhost:8080/"
        },
        "outputId": "d2ec6013-014f-4011-cd2a-074b5806f032"
      },
      "execution_count": 40,
      "outputs": [
        {
          "output_type": "stream",
          "name": "stdout",
          "text": [
            "Your new pet name is... Noodle!\n"
          ]
        }
      ]
    },
    {
      "cell_type": "markdown",
      "source": [
        "💡 Astuce : Relance le code ci-dessus pour obtenir un autre nom au hazard dans la liste de noms d'animaux (`pet_names`)"
      ],
      "metadata": {
        "id": "XeJw9WjKr8WU"
      }
    },
    {
      "cell_type": "markdown",
      "source": [
        "#### 🔹 Étape 3 : Ajoutez une boucle !\n",
        "Choisissez un nouveau nom encore et encore !"
      ],
      "metadata": {
        "id": "sr8eto8EPznc"
      }
    },
    {
      "cell_type": "code",
      "source": [
        "while True:\n",
        "    answer = input(\"Want another pet name? (yes or no) \")\n",
        "    if answer == \"yes\":\n",
        "        print(\"How about... \" + random.choice(pet_names) + \"?\")\n",
        "    else:\n",
        "        print(\"Goodbye, pet namer!\")\n",
        "        break\n"
      ],
      "metadata": {
        "id": "MUvd4lepP4rN",
        "colab": {
          "base_uri": "https://localhost:8080/"
        },
        "outputId": "203461dd-0c4f-4e0e-8bf6-93a2eebaa7eb"
      },
      "execution_count": 41,
      "outputs": [
        {
          "output_type": "stream",
          "name": "stdout",
          "text": [
            "Want another pet name? (yes or no) yes\n",
            "How about... Pickles?\n",
            "Want another pet name? (yes or no) no\n",
            "Goodbye, pet namer!\n"
          ]
        }
      ]
    },
    {
      "cell_type": "markdown",
      "source": [],
      "metadata": {
        "id": "MV6qzvMUsZhp"
      }
    },
    {
      "cell_type": "markdown",
      "source": [
        ">  🤖 **Demande à l'IA** :\n",
        "\n",
        "> ➡️ Donnez-moi 10 noms d'animaux super idiots ! ➡️ Ajoutez-les à ma liste ci-dessus !"
      ],
      "metadata": {
        "id": "8ovAiOQNsZ1m"
      }
    },
    {
      "cell_type": "markdown",
      "source": [
        "✅ Défi :\n",
        "\n",
        "Demandez à l’utilisateur quel est son animal préféré, puis associez-le à un nom !\n",
        "\n",
        "Exemple : « Nouilles tigrées » ou « Gaufres pingouin »\n",
        "\n",
        "Pouvez-vous créer votre propre générateur de combos ?"
      ],
      "metadata": {
        "id": "0w7iuWkWQC6Q"
      }
    },
    {
      "cell_type": "markdown",
      "source": [
        "Voici un exemple de défi ..:"
      ],
      "metadata": {
        "id": "Mwok5mwTZEoD"
      }
    },
    {
      "cell_type": "code",
      "source": [
        "import random\n",
        "\n",
        "favorite_animal = input(\"Quel est votre animal préféré ? \")\n",
        "\n",
        "while True:\n",
        "    answer = input(\"Want another pet name? (yes or no) \")\n",
        "    if answer.lower() == \"yes\":\n",
        "        chosen_name = random.choice(pet_names)\n",
        "        print(\"How about... \" + favorite_animal + \" \" + chosen_name + \"?\")\n",
        "    else:\n",
        "        print(\"Goodbye, pet namer!\")\n",
        "        break"
      ],
      "metadata": {
        "colab": {
          "base_uri": "https://localhost:8080/"
        },
        "id": "U-OVxUQhYrya",
        "outputId": "3ee43f92-fd5d-4779-da50-af1b89043336"
      },
      "execution_count": 42,
      "outputs": [
        {
          "output_type": "stream",
          "name": "stdout",
          "text": [
            "Quel est votre animal préféré ? chien\n",
            "Want another pet name? (yes or no) yes\n",
            "How about... chien Noodle?\n",
            "Want another pet name? (yes or no) no\n",
            "Goodbye, pet namer!\n"
          ]
        }
      ]
    },
    {
      "cell_type": "markdown",
      "source": [
        "## 6. Conclusion\n",
        "Aujourd'hui, nous avons appris :\n",
        "- Comment organiser les données avec des **listes** et des **dictionnaires**.\n",
        "- Ce qu'est l'**IA** et comment elle fonctionne avec des données.\n",
        "- Comment utiliser un modèle d'IA pour reconnaître des chiffres écrits à la main."
      ],
      "metadata": {
        "id": "YsGjhw9VlQv-"
      }
    },
    {
      "cell_type": "markdown",
      "source": [
        "### À suivre\n",
        "Lors de la prochaine session, nous allons explorer encore plus l'IA avec Python et créer nos propres petits projets d'IA ! À bientôt ! 👋\n",
        "\n",
        "---\n"
      ],
      "metadata": {
        "id": "MuYWOWSrp2Il"
      }
    },
    {
      "cell_type": "markdown",
      "source": [
        "💡 **Astuce** : N'hésitez pas à jouer avec le code et à essayer différentes choses. C'est comme ça que les vrais programmeurs apprennent !"
      ],
      "metadata": {
        "id": "kxUp_EEeqASj"
      }
    }
  ]
}