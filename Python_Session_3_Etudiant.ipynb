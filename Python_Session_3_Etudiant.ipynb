{
  "nbformat": 4,
  "nbformat_minor": 0,
  "metadata": {
    "colab": {
      "provenance": [],
      "toc_visible": true,
      "authorship_tag": "ABX9TyMSrabGi00mDP8aK1lY8fk/",
      "include_colab_link": true
    },
    "kernelspec": {
      "name": "python3",
      "display_name": "Python 3"
    },
    "language_info": {
      "name": "python"
    }
  },
  "cells": [
    {
      "cell_type": "markdown",
      "metadata": {
        "id": "view-in-github",
        "colab_type": "text"
      },
      "source": [
        "<a href=\"https://colab.research.google.com/github/royam0820/Python/blob/main/Python_Session_3_Etudiant.ipynb\" target=\"_parent\"><img src=\"https://colab.research.google.com/assets/colab-badge.svg\" alt=\"Open In Colab\"/></a>"
      ]
    },
    {
      "cell_type": "markdown",
      "source": [
        "# Camp d'Aventure Python : Session 3 - Organiser les Données et Découvrir l’IA !\n",
        "\n",
        "Bienvenue à la troisième session de notre camp Python ! Aujourd’hui, on va apprendre à organiser des données avec des listes et des dictionnaires, et découvrir le monde super cool de l’Intelligence Artificielle (IA). Prépare-toi à devenir un héros du code ! 🚀\n",
        "\n",
        "---"
      ],
      "metadata": {
        "id": "_F3wjJJ4MF9l"
      }
    },
    {
      "cell_type": "markdown",
      "source": [
        "## Ce qu’on va apprendre aujourd’hui\n",
        "\n",
        "Stocker des données avec les listes et les dictionnaires\n",
        "\n",
        "Comprendre ce qu’est l’IA et comment elle fonctionne\n",
        "\n",
        "Tester un modèle d’IA qui reconnaît des chiffres\n",
        "\n",
        "Tester un modèle d'IA venant du projet Cats and Dogs de Machine Learning for Kids.\n",
        "\n",
        "Des activités amusantes pour pratiquer !\n",
        "\n",
        "---"
      ],
      "metadata": {
        "id": "gJh9QO2bMj7T"
      }
    },
    {
      "cell_type": "markdown",
      "source": [
        "## 1. Petit Rappel\n",
        "\n",
        "Dans les sessions précédentes, on a appris :\n",
        "\n",
        "\n",
        "Afficher des messages, utiliser des variables, et faire des calculs\n",
        "\n",
        "Faire des choix avec if-else et répéter des tâches avec des boucles for et while\n",
        "\n",
        "Créer des fonctions pour réutiliser du code\n",
        "\n",
        "Aujourd’hui, on va ranger nos données comme des pros et plonger dans l’IA !\n",
        "\n",
        "---"
      ],
      "metadata": {
        "id": "VPe1rP5zMpYT"
      }
    },
    {
      "cell_type": "markdown",
      "source": [
        "#### Rappel Function - Thème Harry Potter\n",
        "\n",
        "La fonction `lancer_sort` prend un paramètre : `nom_sort`\n",
        "\n",
        "Quand la fonction est appellée, elle  affichera une phrase magique avec le nom du sort\n",
        "\n",
        "\n",
        "\n",
        "```\n",
        "def lancer_sort(nom_sort):\n",
        "    print(f\"✨ Tu lances le sort '{nom_sort}' avec ta baguette magique !\")\n",
        "\n",
        "# Utilisation de la fonction\n",
        "lancer_sort(\"Expelliarmus\")\n",
        "lancer_sort(\"Lumos\")\n",
        "\n",
        "```\n",
        "\n",
        "Reproduit le code ci-dessus dans la prochaine cellule de code ci-après"
      ],
      "metadata": {
        "id": "sWYDxEm97ijW"
      }
    },
    {
      "cell_type": "code",
      "source": [
        "# function - lancer un sort\n",
        "\n",
        "\n"
      ],
      "metadata": {
        "id": "ZmHpoxP67V3y"
      },
      "execution_count": null,
      "outputs": []
    },
    {
      "cell_type": "markdown",
      "source": [
        "## 2. Organiser les Données\n",
        "\n",
        "\n",
        "\n"
      ],
      "metadata": {
        "id": "E9GzfSLHMuy8"
      }
    },
    {
      "cell_type": "markdown",
      "source": [
        "### A. Les Listes\n",
        "Une liste est comme un sac où tu peux mettre plein de choses, comme des jouets ou des bonbons. En Python, on utilise des crochets [] pour créer une liste.\n",
        "\n",
        "Exemple : Une liste de films préférés. Crée une nouvelle cellule de code dans Colab (clique sur “+ Code”) et tape :\n",
        "\n",
        "```\n",
        "films = [\"Harry Potter\", \"Spider-Man\", \"La Reine des Neiges\"]\n",
        "print(films)\n",
        "```\n"
      ],
      "metadata": {
        "id": "3XzI4eiJNid1"
      }
    },
    {
      "cell_type": "code",
      "source": [
        "# ma liste de mes films préférés\n",
        "\n"
      ],
      "metadata": {
        "id": "mXEbBynmNDIP"
      },
      "execution_count": null,
      "outputs": []
    },
    {
      "cell_type": "markdown",
      "source": [
        "Tu peux ajouter ou supprimer des éléments : Dans une nouvelle cellule de code, tape :\n",
        "\n",
        "\n",
        "\n",
        "```\n",
        "films = [\"Harry Potter\", \"Spider-Man\", \"La Reine des Neiges\"]\n",
        "\n",
        "films.append(\"Star Wars\")  # Ajoute un film\n",
        "print(\"Après ajout :\", films)\n",
        "\n",
        "films.remove(\"Spider-Man\")  # Supprime un film\n",
        "print(\"Après suppression :\", films)\n",
        "```\n",
        "\n",
        "> Astuce : append() ajoute à la fin de la liste, et remove() supprime un élément précis.\n",
        "\n",
        "\n"
      ],
      "metadata": {
        "id": "fHcRoHFHMu74"
      }
    },
    {
      "cell_type": "code",
      "source": [
        "# ajout d'un nouveau film - append\n"
      ],
      "metadata": {
        "id": "rDzfMX3rND89"
      },
      "execution_count": null,
      "outputs": []
    },
    {
      "cell_type": "code",
      "source": [
        "# suppression d'un film - remove\n"
      ],
      "metadata": {
        "id": "OvnMNxXUxJRo"
      },
      "execution_count": null,
      "outputs": []
    },
    {
      "cell_type": "markdown",
      "source": [
        "#### Thème Harry Potter - Liste de sorts magiques\n",
        "\n",
        "Le programme ci-dessous te permet :\n",
        "\n",
        "- d’ajouter ses propres sorts (réels ou inventés),\n",
        "- de lancer un sort au hasard comme dans un duel,\n",
        "- et de supprimer ceux qu’il juge trop puissants ou dangereux !"
      ],
      "metadata": {
        "id": "n-UFC1Jb5SOu"
      }
    },
    {
      "cell_type": "code",
      "source": [
        "# Liste de sorts magiques\n",
        "sorts = [\"Alohomora\", \"Lumos\", \"Expelliarmus\", \"Wingardium Leviosa\", \"Expecto Patronum\"]\n",
        "\n",
        "# afficher les sorts\n",
        "def afficher_sorts():\n",
        "    print(\"\\n📜 Liste des sorts magiques de Poudlard :\")\n",
        "    for i, sort in enumerate(sorts, 1):\n",
        "        print(f\"{i}. {sort}\")\n",
        "    print()\n",
        "\n",
        "while True:\n",
        "    afficher_sorts()\n",
        "    print(\"Que veux-tu faire, jeune sorcier ?\")\n",
        "    print(\"1. Ajouter un nouveau sort ✨\")\n",
        "    print(\"2. Lancer un sort au hasard 🎯\")\n",
        "    print(\"3. Supprimer un sort interdit ❌\")\n",
        "    print(\"4. Quitter le grimoire 🧳\")\n",
        "\n",
        "    choix = input(\"Choisis un numéro : \")\n",
        "\n",
        "    if choix == \"1\":\n",
        "        nouveau = input(\"Quel sort veux-tu ajouter ? \")\n",
        "        sorts.append(nouveau)\n",
        "        print(f\"🪄 Le sort '{nouveau}' a été ajouté à ton grimoire.\")\n",
        "    elif choix == \"2\":\n",
        "        import random\n",
        "        sort = random.choice(sorts)\n",
        "        print(f\"✨ Tu lances le sort : {sort} !\")\n",
        "    elif choix == \"3\":\n",
        "        interdit = input(\"Quel sort veux-tu supprimer ? \")\n",
        "        if interdit in sorts:\n",
        "            sorts.remove(interdit)\n",
        "            print(f\"🚫 Le sort '{interdit}' a été effacé du grimoire.\")\n",
        "        else:\n",
        "            print(\"Ce sort n'est pas dans la liste !\")\n",
        "    elif choix == \"4\":\n",
        "        print(\"🧙‍♂️ À bientôt, jeune sorcier !\")\n",
        "        break\n",
        "    else:\n",
        "        print(\"Essaie encore, petit magicien !\")\n"
      ],
      "metadata": {
        "colab": {
          "base_uri": "https://localhost:8080/"
        },
        "id": "3o9lestC5YR5",
        "outputId": "5d067d0f-64b1-4585-b3d6-5ca04362f025"
      },
      "execution_count": 12,
      "outputs": [
        {
          "output_type": "stream",
          "name": "stdout",
          "text": [
            "\n",
            "📜 Liste des sorts magiques de Poudlard :\n",
            "1. Alohomora\n",
            "2. Lumos\n",
            "3. Expelliarmus\n",
            "4. Wingardium Leviosa\n",
            "5. Expecto Patronum\n",
            "\n",
            "Que veux-tu faire, jeune sorcier ?\n",
            "1. Ajouter un nouveau sort ✨\n",
            "2. Lancer un sort au hasard 🎯\n",
            "3. Supprimer un sort interdit ❌\n",
            "4. Quitter le grimoire 🧳\n",
            "Choisis un numéro : 2\n",
            "✨ Tu lances le sort : Lumos !\n",
            "\n",
            "📜 Liste des sorts magiques de Poudlard :\n",
            "1. Alohomora\n",
            "2. Lumos\n",
            "3. Expelliarmus\n",
            "4. Wingardium Leviosa\n",
            "5. Expecto Patronum\n",
            "\n",
            "Que veux-tu faire, jeune sorcier ?\n",
            "1. Ajouter un nouveau sort ✨\n",
            "2. Lancer un sort au hasard 🎯\n",
            "3. Supprimer un sort interdit ❌\n",
            "4. Quitter le grimoire 🧳\n",
            "Choisis un numéro : 4\n",
            "🧙‍♂️ À bientôt, jeune sorcier !\n"
          ]
        }
      ]
    },
    {
      "cell_type": "markdown",
      "source": [
        "### B. Les Dictionnaires\n",
        "\n",
        "**Un dictionnaire est comme un carnet où chaque mot a une définition**. En Python, on utilise des accolades `{}` pour associer des clés (comme des noms) à des valeurs (comme des âges). On parle de **paire clé-valeur**.\n",
        "\n",
        "Exemple : Un dictionnaire d’âges. Dans une nouvelle cellule de code, tape :\n",
        "\n",
        "\n",
        "\n",
        "```\n",
        "ages = {\"Alice\": 12, \"Bob\": 13, \"Clara\": 11}\n",
        "print(ages)\n",
        "```\n",
        "\n",
        "\n",
        "\n"
      ],
      "metadata": {
        "id": "TdPeE4dEMvCK"
      }
    },
    {
      "cell_type": "code",
      "source": [
        "# dictionnaire ages\n"
      ],
      "metadata": {
        "id": "URDqXkmROCjs"
      },
      "execution_count": null,
      "outputs": []
    },
    {
      "cell_type": "markdown",
      "source": [
        "Tu peux ajouter ou modifier des éléments : Dans une nouvelle cellule de code, tape :\n",
        "\n",
        "```\n",
        "ages = {\"Alice\": 12, \"Bob\": 13, \"Clara\": 11}\n",
        "ages[\"David\"] = 14  # Ajoute un nouvel ami\n",
        "ages[\"Alice\"] = 13  # Modifie l’âge d’Alice\n",
        "print(ages)\n",
        "```\n",
        "\n",
        "> Astuce : Une clé (comme “Alice”) est unique, et sa valeur (comme 12) peut être n’importe quoi !"
      ],
      "metadata": {
        "id": "eQt81Pi9MvIv"
      }
    },
    {
      "cell_type": "code",
      "source": [
        "# Dictionnaire ages - ajout et modification de l'âge d'une personne\n"
      ],
      "metadata": {
        "id": "ULGzHuqVOPQh"
      },
      "execution_count": null,
      "outputs": []
    },
    {
      "cell_type": "markdown",
      "source": [
        "#### Thème Harry Potter - Dictionnaire des sorts magiques"
      ],
      "metadata": {
        "id": "IXWbFC806fdH"
      }
    },
    {
      "cell_type": "code",
      "source": [
        "# Dictionnaire de sorts magiques\n",
        "grimoire = {\n",
        "    \"Lumos\": \"Fait apparaître de la lumière au bout de la baguette.\",\n",
        "    \"Expelliarmus\": \"Désarme ton adversaire.\",\n",
        "    \"Wingardium Leviosa\": \"Fait léviter un objet.\",\n",
        "    \"Expecto Patronum\": \"Invoque un Patronus contre les Détraqueurs.\"\n",
        "}\n",
        "\n",
        "def afficher_grimoire():\n",
        "    print(\"\\n📖 Grimoire des Sorts de Poudlard :\")\n",
        "    for sort, description in grimoire.items():\n",
        "        print(f\"✨ {sort} : {description}\")\n",
        "    print()\n",
        "\n",
        "while True:\n",
        "    afficher_grimoire()\n",
        "    print(\"Que veux-tu faire, jeune sorcier ?\")\n",
        "    print(\"1. Ajouter un nouveau sort 🪄\")\n",
        "    print(\"2. Chercher un sort 🔍\")\n",
        "    print(\"3. Supprimer un sort interdit ❌\")\n",
        "    print(\"4. Quitter le grimoire 🧳\")\n",
        "\n",
        "    choix = input(\"Choisis un numéro : \")\n",
        "\n",
        "    if choix == \"1\":\n",
        "        nom = input(\"Nom du nouveau sort : \")\n",
        "        description = input(\"Que fait ce sort ? \")\n",
        "        grimoire[nom] = description\n",
        "        print(f\"🪄 Le sort '{nom}' a été ajouté avec succès !\")\n",
        "    elif choix == \"2\":\n",
        "        nom = input(\"Quel sort veux-tu chercher ? \")\n",
        "        if nom in grimoire:\n",
        "            print(f\"🔮 {nom} : {grimoire[nom]}\")\n",
        "        else:\n",
        "            print(\"Ce sort est inconnu... Peut-être oublié dans un vieux grimoire ? 📚\")\n",
        "    elif choix == \"3\":\n",
        "        nom = input(\"Quel sort veux-tu supprimer ? \")\n",
        "        if nom in grimoire:\n",
        "            del grimoire[nom]\n",
        "            print(f\"🚫 Le sort '{nom}' a été effacé du grimoire.\")\n",
        "        else:\n",
        "            print(\"Ce sort n'est pas dans la liste.\")\n",
        "    elif choix == \"4\":\n",
        "        print(\"🧙‍♂️ À bientôt, jeune sorcier !\")\n",
        "        break\n",
        "    else:\n",
        "        print(\"Essaie encore, apprenti magicien !\")\n"
      ],
      "metadata": {
        "colab": {
          "base_uri": "https://localhost:8080/"
        },
        "id": "arzDlGvN6tdT",
        "outputId": "60952f19-ef22-4df8-a7e3-c306a08c24fd"
      },
      "execution_count": 13,
      "outputs": [
        {
          "output_type": "stream",
          "name": "stdout",
          "text": [
            "\n",
            "📖 Grimoire des Sorts de Poudlard :\n",
            "✨ Lumos : Fait apparaître de la lumière au bout de la baguette.\n",
            "✨ Expelliarmus : Désarme ton adversaire.\n",
            "✨ Wingardium Leviosa : Fait léviter un objet.\n",
            "✨ Expecto Patronum : Invoque un Patronus contre les Détraqueurs.\n",
            "\n",
            "Que veux-tu faire, jeune sorcier ?\n",
            "1. Ajouter un nouveau sort 🪄\n",
            "2. Chercher un sort 🔍\n",
            "3. Supprimer un sort interdit ❌\n",
            "4. Quitter le grimoire 🧳\n",
            "Choisis un numéro : 4\n",
            "🧙‍♂️ À bientôt, jeune sorcier !\n"
          ]
        }
      ]
    },
    {
      "cell_type": "markdown",
      "source": [
        "---"
      ],
      "metadata": {
        "id": "EdqV9BVFOgUd"
      }
    },
    {
      "cell_type": "markdown",
      "source": [
        "## 3. C’est quoi l’IA ?\n",
        "\n",
        "L’Intelligence Artificielle (IA) est comme un cerveau pour les ordinateurs. Elle permet aux machines de faire des choses intelligentes, comme :\n",
        "\n",
        "Reconnaître des visages dans les photos\n",
        "\n",
        "Comprendre la parole (comme Siri ou Alexa)\n",
        "\n",
        "Recommander des films sur Netflix\n",
        "\n",
        "**Comment ça marche ?** L’IA apprend à partir de données. Par exemple, pour reconnaître des chats, on montre à l’IA des milliers de photos de chats, et elle apprend à les identifier. C’est ce qu’on appelle l’apprentissage automatique ou apprentissage machine (en anglais: machine learning).\n",
        "\n",
        "---"
      ],
      "metadata": {
        "id": "0BjyCqhcONU-"
      }
    },
    {
      "cell_type": "markdown",
      "source": [
        "## 4. Tester un Modèle d’IA\n",
        "\n",
        "On va utiliser un modèle d’IA qui reconnaît des chiffres écrits à la main (le jeu de données **MNIST**). Ce modèle a été entraîné avec des milliers d’images de chiffres (0 à 9) et peut deviner quel chiffre est dessiné.\n",
        "\n",
        "Note : Le code suivant utilise des bibliothèques comme TensorFlow. Pour simplifier, on va te montrer comment afficher une image et faire une prédiction, mais tu peux essayer le code complet si tu veux !\n",
        "\n",
        "Exemple : Afficher une image de chiffre. Dans une nouvelle cellule de code, tape :\n",
        "\n",
        "```\n",
        "# import des modules\n",
        "import tensorflow as tf\n",
        "from tensorflow.keras.datasets import mnist\n",
        "import matplotlib.pyplot as plt\n",
        "\n",
        "# Charger les données MNIST\n",
        "(x_train, y_train), (x_test, y_test) = mnist.load_data()\n",
        "\n",
        "# Afficher une image\n",
        "plt.imshow(x_test[0], cmap='gray')\n",
        "plt.show()\n",
        "```"
      ],
      "metadata": {
        "id": "I-QLTcDeO_OL"
      }
    },
    {
      "cell_type": "code",
      "source": [
        "# import des modules\n",
        "import tensorflow as tf\n",
        "from tensorflow.keras.datasets import mnist\n",
        "import matplotlib.pyplot as plt\n"
      ],
      "metadata": {
        "id": "RpctEdDGydXg"
      },
      "execution_count": 1,
      "outputs": []
    },
    {
      "cell_type": "code",
      "source": [
        "# chargement du jeu de données MNIST\n",
        "(x_train, y_train), (x_test, y_test) = mnist.load_data()\n",
        "\n",
        "# afficher une image\n",
        "plt.imshow(x_test[0], cmap='gray')\n",
        "plt.show()"
      ],
      "metadata": {
        "colab": {
          "base_uri": "https://localhost:8080/",
          "height": 430
        },
        "id": "aWHv-OATyjz1",
        "outputId": "d2d62d55-ccd2-4f70-bf98-968566ac2af3"
      },
      "execution_count": 7,
      "outputs": [
        {
          "output_type": "display_data",
          "data": {
            "text/plain": [
              "<Figure size 640x480 with 1 Axes>"
            ],
            "image/png": "[encoded data removed]"
          },
          "metadata": {}
        }
      ]
    },
    {
      "cell_type": "markdown",
      "source": [
        "Prédire un chiffre (si le modèle est disponible) : Dans une nouvelle cellule de code, tape :\n",
        "\n",
        "\n",
        "\n",
        "```\n",
        "# Téléchargement du modèle\n",
        "!wget https://huggingface.co/spaces/ayaanzaveri/mnist/resolve/main/mnist-model.h5\n",
        "\n",
        "# appel du modèle\n",
        "model = tf.keras.models.load_model('mnist-model.h5')\n",
        "\n",
        "# prédiction\n",
        "prediction = model.predict(x_test[0].reshape(1, 28, 28, 1))\n",
        "print(\"Le modèle pense que c’est un\", prediction.argmax())\n",
        "```\n",
        "\n",
        "> Note : Pour exécuter la prédiction, tu as besoin d’un modèle pré-entraîné. Si tu ne l’as pas, passe à l’activité 3 pour tester d’autres images !\n",
        "\n",
        "---"
      ],
      "metadata": {
        "id": "EveoDhfPPiKp"
      }
    },
    {
      "cell_type": "code",
      "source": [
        "# téléchargement du modèle mnist-model.h5\n",
        "!wget https://huggingface.co/spaces/ayaanzaveri/mnist/resolve/main/mnist-model.h5\n",
        "\n",
        "# appel du modèle mnist-model.h5\n",
        "model = tf.keras.models.load_model('mnist-model.h5')\n",
        "\n",
        "# prédiction sur une image donnée sur le jeu de données test (x_test)\n",
        "prediction = model.predict(x_test[0].reshape(1, 28, 28, 1))\n",
        "\n",
        "print(\"Le modèle pense que c'est un\", prediction.argmax())"
      ],
      "metadata": {
        "id": "Fh6X6nLzPXaw",
        "colab": {
          "base_uri": "https://localhost:8080/"
        },
        "outputId": "15b0d692-8dbf-45ea-bc89-3a9b49149be7"
      },
      "execution_count": 8,
      "outputs": [
        {
          "output_type": "stream",
          "name": "stdout",
          "text": [
            "--2025-07-30 19:34:30--  https://huggingface.co/spaces/ayaanzaveri/mnist/resolve/main/mnist-model.h5\n",
            "Resolving huggingface.co (huggingface.co)... 3.166.152.110, 3.166.152.44, 3.166.152.65, ...\n",
            "Connecting to huggingface.co (huggingface.co)|3.166.152.110|:443... connected.\n",
            "HTTP request sent, awaiting response... 302 Found\n",
            "Location: https://cdn-lfs.hf.co/spaces/ayaanzaveri/mnist/a19292b4856a8142a34fb3a10f710a95071bc4cfa3d46ba68c596e47241b1f59?response-content-disposition=inline%3B+filename*%3DUTF-8%27%27mnist-model.h5%3B+filename%3D%22mnist-model.h5%22%3B&Expires=1753907670&Policy=eyJTdGF0ZW1lbnQiOlt7IkNvbmRpdGlvbiI6eyJEYXRlTGVzc1RoYW4iOnsiQVdTOkVwb2NoVGltZSI6MTc1MzkwNzY3MH19LCJSZXNvdXJjZSI6Imh0dHBzOi8vY2RuLWxmcy5oZi5jby9zcGFjZXMvYXlhYW56YXZlcmkvbW5pc3QvYTE5MjkyYjQ4NTZhODE0MmEzNGZiM2ExMGY3MTBhOTUwNzFiYzRjZmEzZDQ2YmE2OGM1OTZlNDcyNDFiMWY1OT9yZXNwb25zZS1jb250ZW50LWRpc3Bvc2l0aW9uPSoifV19&Signature=ChuBYsNE05u3lM5NTzKLrM6Qa4gAYBqz%7EMR5X0VzJfZkCewqP3pQ054LkG6mwhudZ-uejk9MxJsh1WmhIXJ2nhukgpdS9plWnL5xsockiIIJTQgfYBfE8X9lgKGS%7EAJlIHhCMF3mUjMd295KFdM3BjlrWWTI9-VWCYdYgU2Do6Y6CPq13EsvtqPX6gTCHo8D6324oCaAVpS99iA%7E2TWB%7E77UvijEvkvqjHt-JxY-Uo1Cmu-IQSAAcA8ULyzHdqPDNcwzqZSBAf%7EaVILHMuXf5WWcB8QAoHp17tmikPufXvX4nxicoL-m2z2uM10dmCUEN-vf5chjgDPF6oxPogWCsA__&Key-Pair-Id=K3RPWS32NSSJCE [following]\n",
            "--2025-07-30 19:34:30--  https://cdn-lfs.hf.co/spaces/ayaanzaveri/mnist/a19292b4856a8142a34fb3a10f710a95071bc4cfa3d46ba68c596e47241b1f59?response-content-disposition=inline%3B+filename*%3DUTF-8%27%27mnist-model.h5%3B+filename%3D%22mnist-model.h5%22%3B&Expires=1753907670&Policy=eyJTdGF0ZW1lbnQiOlt7IkNvbmRpdGlvbiI6eyJEYXRlTGVzc1RoYW4iOnsiQVdTOkVwb2NoVGltZSI6MTc1MzkwNzY3MH19LCJSZXNvdXJjZSI6Imh0dHBzOi8vY2RuLWxmcy5oZi5jby9zcGFjZXMvYXlhYW56YXZlcmkvbW5pc3QvYTE5MjkyYjQ4NTZhODE0MmEzNGZiM2ExMGY3MTBhOTUwNzFiYzRjZmEzZDQ2YmE2OGM1OTZlNDcyNDFiMWY1OT9yZXNwb25zZS1jb250ZW50LWRpc3Bvc2l0aW9uPSoifV19&Signature=ChuBYsNE05u3lM5NTzKLrM6Qa4gAYBqz%7EMR5X0VzJfZkCewqP3pQ054LkG6mwhudZ-uejk9MxJsh1WmhIXJ2nhukgpdS9plWnL5xsockiIIJTQgfYBfE8X9lgKGS%7EAJlIHhCMF3mUjMd295KFdM3BjlrWWTI9-VWCYdYgU2Do6Y6CPq13EsvtqPX6gTCHo8D6324oCaAVpS99iA%7E2TWB%7E77UvijEvkvqjHt-JxY-Uo1Cmu-IQSAAcA8ULyzHdqPDNcwzqZSBAf%7EaVILHMuXf5WWcB8QAoHp17tmikPufXvX4nxicoL-m2z2uM10dmCUEN-vf5chjgDPF6oxPogWCsA__&Key-Pair-Id=K3RPWS32NSSJCE\n",
            "Resolving cdn-lfs.hf.co (cdn-lfs.hf.co)... 18.239.225.129, 18.239.225.51, 18.239.225.105, ...\n",
            "Connecting to cdn-lfs.hf.co (cdn-lfs.hf.co)|18.239.225.129|:443... connected.\n",
            "HTTP request sent, awaiting response... 200 OK\n",
            "Length: 8401856 (8.0M) [binary/octet-stream]\n",
            "Saving to: ‘mnist-model.h5.1’\n",
            "\n",
            "mnist-model.h5.1    100%[===================>]   8.01M  48.0MB/s    in 0.2s    \n",
            "\n",
            "2025-07-30 19:34:30 (48.0 MB/s) - ‘mnist-model.h5.1’ saved [8401856/8401856]\n",
            "\n"
          ]
        },
        {
          "output_type": "stream",
          "name": "stderr",
          "text": [
            "WARNING:absl:Compiled the loaded model, but the compiled metrics have yet to be built. `model.compile_metrics` will be empty until you train or evaluate the model.\n",
            "WARNING:absl:Error in loading the saved optimizer state. As a result, your model is starting with a freshly initialized optimizer.\n"
          ]
        },
        {
          "output_type": "stream",
          "name": "stdout",
          "text": [
            "\u001b[1m1/1\u001b[0m \u001b[32m━━━━━━━━━━━━━━━━━━━━\u001b[0m\u001b[37m\u001b[0m \u001b[1m0s\u001b[0m 303ms/step\n",
            "Le modèle pense que c'est un 7\n"
          ]
        }
      ]
    },
    {
      "cell_type": "code",
      "source": [
        "# impression de la prédiction en charactère gras\n",
        "from IPython.display import display, Markdown\n",
        "display(Markdown(f\"**Le modèle pense que c'est un {prediction.argmax()}**\"))\n"
      ],
      "metadata": {
        "colab": {
          "base_uri": "https://localhost:8080/",
          "height": 46
        },
        "id": "iw3Rdzi61RKT",
        "outputId": "332aa685-9071-4a76-9e5c-0acacb6531f8"
      },
      "execution_count": 9,
      "outputs": [
        {
          "output_type": "display_data",
          "data": {
            "text/plain": [
              "<IPython.core.display.Markdown object>"
            ],
            "text/markdown": "**Le modèle pense que c'est un 7**"
          },
          "metadata": {}
        }
      ]
    },
    {
      "cell_type": "markdown",
      "source": [
        "# Activités à Essayer !"
      ],
      "metadata": {
        "id": "OwiA2uToPIqN"
      }
    },
    {
      "cell_type": "markdown",
      "source": [
        "## Activité 1 : Ta Liste de Films Préférés\n",
        "\n",
        "Crée une liste avec tes 3 films préférés, affiche-la, ajoute un nouveau film, et affiche-la à nouveau.\n",
        "\n",
        "Dans une nouvelle cellule de code, tape :\n",
        "\n",
        "\n",
        "\n",
        "```\n",
        "films = [\"TonFilm1\", \"TonFilm2\", \"TonFilm3\"]  # Mets tes films préférés\n",
        "print(films)\n",
        "films.append(\"NouveauFilm\")  # Ajoute un film\n",
        "print(films)\n",
        "```\n",
        "\n"
      ],
      "metadata": {
        "id": "9ybkfIJrQXu6"
      }
    },
    {
      "cell_type": "code",
      "source": [
        "# entre une liste de tes films préférés\n",
        "\n",
        "\n",
        "# Ajoute à cette liste un nouveau film - append\n"
      ],
      "metadata": {
        "id": "J4v_YJIWQoTe"
      },
      "execution_count": null,
      "outputs": []
    },
    {
      "cell_type": "markdown",
      "source": [
        "Essaie de supprimer un film avec remove() et affiche la liste !"
      ],
      "metadata": {
        "id": "E6QbF3trQgxZ"
      }
    },
    {
      "cell_type": "code",
      "source": [
        "# supprime un film de ta liste de films préférés - remove\n",
        "\n"
      ],
      "metadata": {
        "id": "dIfCNs6dQpTs"
      },
      "execution_count": null,
      "outputs": []
    },
    {
      "cell_type": "markdown",
      "source": [
        "## Activité 2 : Dictionnaire de Notes\n",
        "\n",
        "Crée un dictionnaire avec les noms de 3 amis et leurs notes imaginaires. Ajoute un nouvel ami et modifie la note d’un ami existant.\n",
        "\n",
        "Dans une nouvelle cellule de code, tape :\n",
        "\n",
        "\n",
        "\n",
        "```\n",
        "notes = {\"Ami1\": 10, \"Ami2\": 15, \"Ami3\": 12}  # Mets des noms et notes\n",
        "print(notes)\n",
        "notes[\"NouvelAmi\"] = 18  # Ajoute un ami\n",
        "notes[\"Ami1\"] = 14       # Modifie une note\n",
        "print(notes)\n",
        "```\n",
        "\n",
        "\n"
      ],
      "metadata": {
        "id": "Q1Aghx-fQu1o"
      }
    },
    {
      "cell_type": "code",
      "source": [
        "# crée un dictionnaire avec les noms de 3 amis et leurs notes\n",
        "\n",
        "\n",
        "# ajoute un autre ami et sa note\n",
        "\n",
        "\n",
        "# modifie la note d'un ami\n",
        "\n"
      ],
      "metadata": {
        "id": "AKngpXZhQ657"
      },
      "execution_count": null,
      "outputs": []
    },
    {
      "cell_type": "markdown",
      "source": [
        "Essaie d’ajouter une autre personne ou de changer une autre note !"
      ],
      "metadata": {
        "id": "qktM9L-MQ6HC"
      }
    },
    {
      "cell_type": "code",
      "source": [],
      "metadata": {
        "id": "UGdJONBOQ7cz"
      },
      "execution_count": null,
      "outputs": []
    },
    {
      "cell_type": "markdown",
      "source": [
        "## Activité 3 : Jeu des Créatures Magiques\n",
        "\n",
        "Gère une liste de créatures magiques avec un menu interactif !\n",
        "\n",
        "\n",
        "\n",
        "\n",
        "Joue avec le menu et essaie toutes les options !\n"
      ],
      "metadata": {
        "id": "H-fk-WPiRAab"
      }
    },
    {
      "cell_type": "code",
      "source": [
        "import random\n",
        "\n",
        "creatures = [\"dragon\", \"licorne\", \"griffon\", \"phénix\", \"sirène\"]\n",
        "\n",
        "def afficher_liste():\n",
        "    print(\"\\nVoici ta ménagerie magique :\")\n",
        "    for i, creature in enumerate(creatures, 1):\n",
        "        print(f\"{i}. {creature}\")\n",
        "    print()\n",
        "\n",
        "while True:\n",
        "    afficher_liste()\n",
        "    print(\"Que veux-tu faire ?\")\n",
        "    print(\"1. Ajouter une créature 🐉\")\n",
        "    print(\"2. Supprimer une créature ❌\")\n",
        "    print(\"3. Chercher une créature 🔍\")\n",
        "    print(\"4. Ranger par ordre alphabétique 📋\")\n",
        "    print(\"5. Mélanger la liste 🔀\")\n",
        "    print(\"6. Quitter 🚪\")\n",
        "\n",
        "    choix = input(\"Entre le numéro de ton choix : \")\n",
        "\n",
        "    if choix == \"1\":\n",
        "        nouvelle = input(\"Quelle créature veux-tu ajouter ? \")\n",
        "        creatures.append(nouvelle)\n",
        "        print(f\"{nouvelle} a été ajoutée !\")\n",
        "    elif choix == \"2\":\n",
        "        cible = input(\"Quelle créature veux-tu supprimer ? \")\n",
        "        if cible in creatures:\n",
        "            creatures.remove(cible)\n",
        "            print(f\"{cible} a été supprimée !\")\n",
        "        else:\n",
        "            print(f\"{cible} n’est pas dans ta ménagerie.\")\n",
        "    elif choix == \"3\":\n",
        "        recherche = input(\"Quelle créature veux-tu chercher ? \")\n",
        "        if recherche in creatures:\n",
        "            print(f\"{recherche} est bien présente ! ✅\")\n",
        "        else:\n",
        "            print(f\"{recherche} est introuvable. ❌\")\n",
        "    elif choix == \"4\":\n",
        "        creatures.sort()\n",
        "        print(\"Les créatures sont maintenant bien rangées.\")\n",
        "    elif choix == \"5\":\n",
        "        random.shuffle(creatures)\n",
        "        print(\"Abracadabra ! Liste mélangée.\")\n",
        "    elif choix == \"6\":\n",
        "        print(\"À bientôt, dresseur de créatures magiques !\")\n",
        "        break\n",
        "    else:\n",
        "        print(\"Choix invalide, réessaie.\")\n"
      ],
      "metadata": {
        "id": "DEuXP5NA2Hc_"
      },
      "execution_count": null,
      "outputs": []
    },
    {
      "cell_type": "markdown",
      "source": [
        "## Activité 4 : Générateur de Noms d’Animaux\n",
        "\n",
        "Crée une machine qui choisit des noms amusants pour des animaux de compagnie.\n",
        "\n",
        "Dans une nouvelle cellule de code, tape :\n",
        "\n",
        "\n",
        "\n",
        "```\n",
        "import random\n",
        "\n",
        "pet_names = [\"Waffles\", \"Pickles\", \"Banana\", \"Noodle\", \"Zigzag\"]\n",
        "print(\"Noms d’animaux prêts !\")\n",
        "\n",
        "while True:\n",
        "    answer = input(\"Veux-tu un autre nom d’animal ? (oui ou non) \")\n",
        "    if answer == \"oui\":\n",
        "        chosen_name = random.choice(pet_names)\n",
        "        print(\"Que penses-tu de... \" + chosen_name + \" ?\")\n",
        "    else:\n",
        "        print(\"Au revoir, dresseur d’animaux !\")\n",
        "        break\n",
        "```\n",
        "\n",
        "> Défi : Ajoute 3 nouveaux noms à la liste pet_names. Ou demande à l’utilisateur son animal préféré et combine-le avec un nom, comme “Tigre Noodle” !\n",
        "\n"
      ],
      "metadata": {
        "id": "H_LZZ5JjRH33"
      }
    },
    {
      "cell_type": "code",
      "source": [],
      "metadata": {
        "id": "pFSyNn1WRnLG"
      },
      "execution_count": null,
      "outputs": []
    },
    {
      "cell_type": "markdown",
      "source": [
        "## Activité 5 : Tester d’Autres Chiffres MNIST\n",
        "\n",
        "Affiche une autre image du jeu de données MNIST et vois si le modèle peut deviner le chiffre.\n",
        "\n",
        "\n"
      ],
      "metadata": {
        "id": "JfhKefLARtCm"
      }
    },
    {
      "cell_type": "code",
      "source": [
        "import tensorflow as tf\n",
        "from tensorflow.keras.datasets import mnist\n",
        "import matplotlib.pyplot as plt\n",
        "\n",
        "(x_train, y_train), (x_test, y_test) = mnist.load_data()\n",
        "\n",
        "# Affiche une autre image\n",
        "plt.imshow(x_test[1], cmap='gray')  # Essaie x_test[2], x_test[3], etc.\n",
        "plt.show()\n"
      ],
      "metadata": {
        "id": "F-nSTzrWR_5X",
        "colab": {
          "base_uri": "https://localhost:8080/",
          "height": 430
        },
        "outputId": "46a0483a-8e1e-417b-c85b-e39bfe104774"
      },
      "execution_count": 11,
      "outputs": [
        {
          "output_type": "display_data",
          "data": {
            "text/plain": [
              "<Figure size 640x480 with 1 Axes>"
            ],
            "image/png": "[encoded data removed]"
          },
          "metadata": {}
        }
      ]
    },
    {
      "cell_type": "markdown",
      "source": [
        "Dans une cellule de code, demande au modèle de prédire ce nombre.\n",
        "\n",
        "\n",
        "\n",
        "```\n",
        "# prédiction sur une image donnée sur le jeu de données test (x_test)\n",
        "prediction = model.predict(x_test[1].reshape(1, 28, 28, 1))\n",
        "\n",
        "```\n",
        "\n"
      ],
      "metadata": {
        "id": "aZTx_QZT3Kqx"
      }
    },
    {
      "cell_type": "code",
      "source": [
        "# prédiction du nombre par le modèle\n",
        "\n",
        "\n"
      ],
      "metadata": {
        "id": "Hw_vS3Wr3UKw"
      },
      "execution_count": null,
      "outputs": []
    },
    {
      "cell_type": "markdown",
      "source": [
        "# Ce qu’on a appris\n",
        "\n",
        "Ranger des données avec les listes et les dictionnaires\n",
        "\n",
        "Ce qu’est l’IA et comment elle apprend des données\n",
        "\n",
        "Tester un modèle d’IA pour reconnaître des chiffres\n",
        "\n",
        "Créer des jeux amusants avec des listes et des boucles"
      ],
      "metadata": {
        "id": "C-si7vNXR-vW"
      }
    },
    {
      "cell_type": "markdown",
      "source": [
        "# La Prochaine Fois\n",
        "\n",
        "Dans la prochaine session, on va explorer encore plus l’IA et créer nos propres mini-projets d’IA ! Continue à t’entraîner en jouant avec le code et en testant de nouvelles idées. 🌟\n",
        "\n",
        "> Astuce : Si tu vois une erreur dans Colab, lis le message pour comprendre ce qui ne va pas, puis corrige et réessaie !\n",
        "\n",
        "> Aussi, 🤖 Demande à l'IA :\n",
        "aide toi de l'IA pour résoudre ton erreur ou développer du code"
      ],
      "metadata": {
        "id": "ygCJr6ofSMjw"
      }
    }
  ]
}