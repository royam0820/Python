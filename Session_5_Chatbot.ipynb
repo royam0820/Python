{
  "nbformat": 4,
  "nbformat_minor": 0,
  "metadata": {
    "colab": {
      "provenance": [],
      "authorship_tag": "ABX9TyNa8/Lt7vENcFzLjHhn28Lq",
      "include_colab_link": true
    },
    "kernelspec": {
      "name": "python3",
      "display_name": "Python 3"
    },
    "language_info": {
      "name": "python"
    }
  },
  "cells": [
    {
      "cell_type": "markdown",
      "metadata": {
        "id": "view-in-github",
        "colab_type": "text"
      },
      "source": [
        "<a href=\"https://colab.research.google.com/github/royam0820/Python/blob/main/Session_5_Chatbot.ipynb\" target=\"_parent\"><img src=\"https://colab.research.google.com/assets/colab-badge.svg\" alt=\"Open In Colab\"/></a>"
      ]
    },
    {
      "cell_type": "code",
      "execution_count": null,
      "metadata": {
        "colab": {
          "base_uri": "https://localhost:8080/"
        },
        "id": "cMQX4kMmuZow",
        "outputId": "1512f202-1de1-4d6b-c602-dba5179e9be5"
      },
      "outputs": [
        {
          "output_type": "stream",
          "name": "stdout",
          "text": [
            "Salut ! Je suis BipBop, ton ami robot. 😊\n",
            "Pose-moi une question ou dis quelque chose ! Tape 'quitter' pour arrêter.\n",
            "Toi : salut\n",
            "BipBop : Yo, salut ! Comment ça va ?\n",
            "Toi : ca va\n",
            "BipBop : Hmm, je ne connais pas ce mot ! Essaie autre chose. 😄\n",
            "Toi : ça va\n",
            "BipBop : Je suis en super forme, merci ! Et toi ?\n",
            "Toi : quel est ton nom\n",
            "BipBop : Je suis BipBop, le robot le plus cool du code ! 😎\n",
            "Toi : quel age as tu\n",
            "BipBop : J’ai 0 ans mais je suis super intelligent !\n",
            "Toi : quitter\n",
            "BipBop : À bientôt, super humain ! 🚀\n"
          ]
        }
      ],
      "source": [
        "# Un simple chatbot pour les enfants\n",
        "print(\"Salut ! Je suis BipBop, ton ami robot. 😊\")\n",
        "print(\"Pose-moi une question ou dis quelque chose ! Tape 'quitter' pour arrêter.\")\n",
        "\n",
        "while True:\n",
        "    # Obtenir l'entrée de l'utilisateur\n",
        "    message = input(\"Toi : \").lower().strip()\n",
        "\n",
        "    # Vérifier si l'utilisateur veut quitter\n",
        "    if message == \"quitter\":\n",
        "        print(\"BipBop : À bientôt, super humain ! 🚀\")\n",
        "        break\n",
        "\n",
        "    # Réponses basées sur des mots-clés\n",
        "    if \"salut\" in message or \"bonjour\" in message:\n",
        "        print(\"BipBop : Yo, salut ! Comment ça va ?\")\n",
        "    elif \"ça va\" in message or \"comment vas-tu\" in message:\n",
        "        print(\"BipBop : Je suis en super forme, merci ! Et toi ?\")\n",
        "    elif \"nom\" in message or \"qui es-tu\" in message:\n",
        "        print(\"BipBop : Je suis BipBop, le robot le plus cool du code ! 😎\")\n",
        "    elif \"aime\" in message or \"aimes-tu\" in message:\n",
        "        print(\"BipBop : J’aime coder, manger des bits et danser le robot !\")\n",
        "    elif \"age\" in message or \"âge\" in message:\n",
        "        print(\"BipBop : J’ai 0 ans mais je suis super intelligent !\")\n",
        "    else:\n",
        "        # Réponse par défaut si aucun mot-clé n'est reconnu\n",
        "        print(\"BipBop : Hmm, je ne connais pas ce mot ! Essaie autre chose. 😄\")"
      ]
    }
  ]
}