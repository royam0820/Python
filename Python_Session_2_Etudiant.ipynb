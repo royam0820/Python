{
  "nbformat": 4,
  "nbformat_minor": 0,
  "metadata": {
    "colab": {
      "provenance": [],
      "toc_visible": true,
      "authorship_tag": "ABX9TyNzvzNny4mR6rnOuDGFXXnn",
      "include_colab_link": true
    },
    "kernelspec": {
      "name": "python3",
      "display_name": "Python 3"
    },
    "language_info": {
      "name": "python"
    }
  },
  "cells": [
    {
      "cell_type": "markdown",
      "metadata": {
        "id": "view-in-github",
        "colab_type": "text"
      },
      "source": [
        "<a href=\"https://colab.research.google.com/github/royam0820/Python/blob/main/Python_Session_2_Etudiant.ipynb\" target=\"_parent\"><img src=\"https://colab.research.google.com/assets/colab-badge.svg\" alt=\"Open In Colab\"/></a>"
      ]
    },
    {
      "cell_type": "markdown",
      "source": [
        "# Camp d'Aventure Python : Session 2 - Décisions et Répétitions !\n",
        "Bienvenue à la deuxième session de notre camp Python ! Aujourd’hui, on va apprendre à faire des choix avec Python et à répéter des tâches comme un robot super intelligent. Prépare-toi à coder comme un pro ! 🚀\n",
        "\n",
        "---"
      ],
      "metadata": {
        "id": "duZ7RZZyAx8F"
      }
    },
    {
      "cell_type": "markdown",
      "source": [
        "## Ce qu’on va apprendre aujourd’hui\n",
        "\n",
        "Faire des choix avec `if-else` (si-alors-sinon)\n",
        "\n",
        "Répéter des actions avec les boucles (`for` et `while`)\n",
        "\n",
        "Créer des fonctions pour réutiliser du code\n",
        "\n",
        "Des activités amusantes pour pratiquer !"
      ],
      "metadata": {
        "id": "1caUC9WAAyKJ"
      }
    },
    {
      "cell_type": "markdown",
      "source": [
        "## 1. Petit Rappel\n",
        "\n",
        "La dernière fois, on a appris :\n",
        "\n",
        "\n",
        "\n",
        "\n",
        "\n",
        "Afficher des messages avec `print()`\n",
        "\n",
        "\n",
        "\n",
        "Stocker des infos dans des variables\n",
        "\n",
        "\n",
        "\n",
        "Faire des calculs simples\n",
        "\n",
        "\n",
        "\n",
        "Poser des questions avec `input()`\n",
        "\n",
        "Aujourd’hui, on va rendre notre code plus malin avec des décisions et des répétitions !"
      ],
      "metadata": {
        "id": "9roXaC1tBH9s"
      }
    },
    {
      "cell_type": "markdown",
      "source": [
        "## 2. Faire des Choix avec If-Else\n",
        "\n",
        "Parfois, on veut que notre programme fasse différentes choses selon la situation. C’est là qu’on utilise if-else !\n",
        "\n",
        "Comment ça marche :\n",
        "\n",
        "If (si) : Si quelque chose est vrai, fais ça.\n",
        "\n",
        "Else (sinon) : Sinon, fais autre chose.\n",
        "\n",
        "Exemple : Vérifions si un nombre est pair ou impair. Crée une nouvelle cellule de code dans Colab (clique sur “+ Code”) et tape :\n",
        "\n",
        "\n",
        "\n",
        "```\n",
        "nombre = 4  # Change ce nombre pour tester\n",
        "if nombre % 2 == 0:\n",
        "    print(nombre, \"est pair !\")\n",
        "else:\n",
        "    print(nombre, \"est impair !\")\n",
        "```\n",
        "\n",
        "Astuce : `%` est l’opérateur modulo. Il donne le reste d’une division. Si `nombre % 2 == 0`, le nombre est pair !\n",
        "\n",
        "Essaye ci-dessous avec d’autres nombres (comme 7 ou 10) !\n",
        "\n",
        "---"
      ],
      "metadata": {
        "id": "cQb8QunrBIfJ"
      }
    },
    {
      "cell_type": "code",
      "source": [],
      "metadata": {
        "id": "VStuJouM31s6"
      },
      "execution_count": null,
      "outputs": []
    },
    {
      "cell_type": "markdown",
      "source": [
        "Essaye ce code amusant ci-dessous"
      ],
      "metadata": {
        "id": "iVa_EQ-u2phe"
      }
    },
    {
      "cell_type": "markdown",
      "source": [
        "## 3. Répéter des Tâches avec les Boucles\n",
        "\n"
      ],
      "metadata": {
        "id": "NGTzU8JACA3d"
      }
    },
    {
      "cell_type": "markdown",
      "source": [
        "### A. Boucles For\n",
        "\n",
        "Les boucles `for` sont parfaites pour répéter quelque chose un certain nombre de fois.\n",
        "\n",
        "Exemple : Affichons les nombres de 1 à 5. Dans une nouvelle cellule de code, tape :\n",
        "\n",
        "```\n",
        "for i in range(1, 6):  # De 1 à 5\n",
        "    print(i)\n",
        "```"
      ],
      "metadata": {
        "id": "8-yYGB3QClPj"
      }
    },
    {
      "cell_type": "code",
      "source": [],
      "metadata": {
        "id": "vdZQVfoSEsdu"
      },
      "execution_count": null,
      "outputs": []
    },
    {
      "cell_type": "markdown",
      "source": [
        "#### Activités amusantes :\n",
        "Affiche “Python est cool !” 3 fois. Dans une nouvelle cellule de code, tape :\n",
        "\n",
        "```\n",
        "for i in range(3):\n",
        "    print(\"Python est cool !\")\n",
        "```\n",
        "\n"
      ],
      "metadata": {
        "id": "eOxBdA4PC01A"
      }
    },
    {
      "cell_type": "code",
      "source": [],
      "metadata": {
        "id": "bN4_nmBG4i90"
      },
      "execution_count": null,
      "outputs": []
    },
    {
      "cell_type": "markdown",
      "source": [
        "Voici une autre activité `for` loop amusante avec un décompte !"
      ],
      "metadata": {
        "id": "lHY0ZSoE4mcS"
      }
    },
    {
      "cell_type": "code",
      "source": [
        "import time  # On importe la bibliothèque time pour faire une petite pause\n",
        "\n",
        "print(\"Préparez-vous pour le lancement de la fusée ! 🚀\")\n",
        "for i in range(5, 0, -1):  # Compte à rebours de 5 à 1\n",
        "    print(f\"{i}...\")\n",
        "    time.sleep(1)  # Pause d'une seconde pour rendre le compte à rebours excitant\n",
        "print(\"Décollage ! BOUM ! 🌟\")"
      ],
      "metadata": {
        "id": "b0ISWkC6EpS8"
      },
      "execution_count": null,
      "outputs": []
    },
    {
      "cell_type": "markdown",
      "source": [
        "NB : Essaye de comprendre ce code ou demande à l'IA de te l'expliquer."
      ],
      "metadata": {
        "id": "mNwhpDVh2v0a"
      }
    },
    {
      "cell_type": "markdown",
      "source": [
        "Voici une dernière activité `for`loop amusante pour t'entraîner !"
      ],
      "metadata": {
        "id": "1Vqps4My41x3"
      }
    },
    {
      "cell_type": "code",
      "source": [
        "print(\"On construit une tour magique d'étoiles ! 🌟\")\n",
        "for i in range(1, 6):  # On fait une tour avec 5 étages\n",
        "    print(\"🌟\" * i)"
      ],
      "metadata": {
        "id": "CBDqL2sXEtH4",
        "colab": {
          "base_uri": "https://localhost:8080/"
        },
        "outputId": "ca25d048-c49c-4e1e-8222-e55e5fdb10dd"
      },
      "execution_count": 2,
      "outputs": [
        {
          "output_type": "stream",
          "name": "stdout",
          "text": [
            "On construit une tour magique d'étoiles ! 🌟\n",
            "🌟\n",
            "🌟🌟\n",
            "🌟🌟🌟\n",
            "🌟🌟🌟🌟\n",
            "🌟🌟🌟🌟🌟\n"
          ]
        }
      ]
    },
    {
      "cell_type": "markdown",
      "source": [
        "NB : Essaye de comprendre ce code ou demande à l'IA de te l'expliquer.\n",
        "\n",
        "Comment renverser la tour magique ? Demande à l'IA de t'aider !"
      ],
      "metadata": {
        "id": "K_sQiB8T5Dt9"
      }
    },
    {
      "cell_type": "code",
      "source": [],
      "metadata": {
        "id": "XiDdDgod5ezo"
      },
      "execution_count": null,
      "outputs": []
    },
    {
      "cell_type": "markdown",
      "source": [
        "### B. Boucles While\n",
        "\n",
        "Les boucles `while` répètent tant qu’une condition est vraie. Attention à ne pas créer une boucle infinie !\n",
        "\n",
        "Exemple : Affichons les nombres de 1 à 5. Dans une nouvelle cellule de code, tape :\n",
        "\n",
        "\n",
        "\n",
        "```\n",
        "compteur = 1\n",
        "while compteur <= 5:\n",
        "    print(compteur)\n",
        "    compteur = compteur + 1  # Augmente le compteur\n",
        "```\n",
        "\n"
      ],
      "metadata": {
        "id": "quBVcvR6DNQg"
      }
    },
    {
      "cell_type": "code",
      "source": [],
      "metadata": {
        "id": "9Ljhl1vaEeZL"
      },
      "execution_count": null,
      "outputs": []
    },
    {
      "cell_type": "markdown",
      "source": [
        "> Astuce : N’oublie pas d’augmenter le compteur (compteur = compteur + 1) pour arrêter la boucle !\n",
        "\n",
        "Attention aux boucles infinies : Si tu fais une erreur, comme celle-ci :\n",
        "\n",
        "\n",
        "\n",
        "```\n",
        "while True:\n",
        "    print(\"Coucou ! Je tourne pour toujours !\")\n",
        "```\n",
        "\n",
        "…ça ne s’arrêtera jamais ! Pour arrêter une boucle infinie dans Colab, clique sur le bouton “Stop” (carré) à côté de la cellule.\n",
        "\n"
      ],
      "metadata": {
        "id": "ahzrTIJtDhJ8"
      }
    },
    {
      "cell_type": "markdown",
      "source": [
        "Essaie ce code ci-dessous."
      ],
      "metadata": {
        "id": "BnPEbzvy9BQm"
      }
    },
    {
      "cell_type": "code",
      "source": [],
      "metadata": {
        "id": "98BoRAqMEh9Q"
      },
      "execution_count": null,
      "outputs": []
    },
    {
      "cell_type": "markdown",
      "source": [
        "Corrige une boucle infinie : Fais arrêter cette boucle après 5 tours. Dans une nouvelle cellule de code, tape :\n",
        "```\n",
        "compteur = 0\n",
        "while True:\n",
        "    print(\"Coucou ! Je tourne !\")\n",
        "    compteur += 1\n",
        "    if compteur == 5:\n",
        "        print(\"Ouf ! J’arrête !\")\n",
        "        break\n",
        "```\n",
        "\n",
        "> Astuce : break arrête une boucle immédiatement."
      ],
      "metadata": {
        "id": "yJ8Z8kiID2vO"
      }
    },
    {
      "cell_type": "markdown",
      "source": [
        "Essaie le code ci-dessus."
      ],
      "metadata": {
        "id": "gxzZwcjS9eaf"
      }
    },
    {
      "cell_type": "code",
      "source": [],
      "metadata": {
        "id": "h1p3zcakEl0l"
      },
      "execution_count": null,
      "outputs": []
    },
    {
      "cell_type": "markdown",
      "source": [
        "### Boucle While - Code amusant\n",
        "Le dé magique !\n",
        "\n",
        "Le programme choisit un nombre secret entre 1 et 5.\n",
        "Tu as 3 essais pour deviner.\n",
        "À chaque essai, le programme donne une réponse drôle, et si tu gagnes, tu es félicité comme un \"sorcier\" !"
      ],
      "metadata": {
        "id": "nnecFz8j-Nlf"
      }
    },
    {
      "cell_type": "code",
      "source": [],
      "metadata": {
        "id": "-gx6tjD89xJJ"
      },
      "execution_count": null,
      "outputs": []
    },
    {
      "cell_type": "code",
      "source": [
        "import random\n",
        "\n",
        "print(\"Bienvenue au Dé Magique ! 🎲\")\n",
        "print(\"Je pense à un nombre entre 1 et 5. Devine-le !\")\n",
        "\n",
        "nombre_secret = random.randint(1, 5)\n",
        "tentatives = 0\n",
        "\n",
        "while tentatives < 3:\n",
        "    guess = int(input(\"Ton guess (1 à 5) : \"))\n",
        "    tentatives += 1\n",
        "\n",
        "    if guess == nombre_secret:\n",
        "        print(\"WOW ! T'es un sorcier ! 🪄\")\n",
        "        break\n",
        "    else:\n",
        "        print(\"Hihi, raté ! 😜 Essaie encore !\")\n",
        "\n",
        "if tentatives == 3 and guess != nombre_secret:\n",
        "    print(f\"Dommage ! Le nombre magique était {nombre_secret} ! Rejoue ? 😄\")\n",
        "\n"
      ],
      "metadata": {
        "id": "3xscrF_7_F-R"
      },
      "execution_count": null,
      "outputs": []
    },
    {
      "cell_type": "markdown",
      "source": [
        "---"
      ],
      "metadata": {
        "id": "Pze8qlKJEW17"
      }
    },
    {
      "cell_type": "markdown",
      "source": [
        "## 4. Créer des Fonctions\n",
        "\n",
        "Les fonctions sont comme des recettes : tu les définis une fois, et tu peux les utiliser plusieurs fois !\n",
        "\n",
        "Exemple : Une fonction qui dit bonjour. Dans une nouvelle cellule de code, tape :\n",
        "\n",
        "\n",
        "\n",
        "```\n",
        "def dire_bonjour():\n",
        "    print(\"Bonjour, le monde !\")\n",
        "\n",
        "dire_bonjour()  # Appelle la fonction\n",
        "```\n",
        "\n"
      ],
      "metadata": {
        "id": "zXPDEcciE230"
      }
    },
    {
      "cell_type": "code",
      "source": [],
      "metadata": {
        "id": "MuGOv_RkFOgf"
      },
      "execution_count": null,
      "outputs": []
    },
    {
      "cell_type": "markdown",
      "source": [
        "#### Fonctions avec Paramètres\n",
        "\n",
        "Tu peux envoyer des infos à une fonction avec des paramètres.\n",
        "\n",
        "Exemple : Une fonction qui multiplie deux nombres. Dans une nouvelle cellule de code, tape :\n",
        "\n",
        "\n",
        "\n",
        "```\n",
        "def multiplier(a, b):\n",
        "    return a * b\n",
        "\n",
        "resultat = multiplier(3, 4)\n",
        "print(\"3 * 4 =\", resultat)\n",
        "```\n",
        "\n"
      ],
      "metadata": {
        "id": "nlmMBS8bFNze"
      }
    },
    {
      "cell_type": "markdown",
      "source": [
        "> Astuce, on parle de  :\n",
        "\n",
        "> **Paramètres** : Variables dans la définition de la fonction (comme a et b).\n",
        "\n",
        "> **Arguments** : Valeurs qu’on donne quand on appelle la fonction (comme 3 et 4)."
      ],
      "metadata": {
        "id": "u6iUavPzFXc3"
      }
    },
    {
      "cell_type": "markdown",
      "source": [
        "# Activités à Essayer !\n",
        "\n"
      ],
      "metadata": {
        "id": "0exQ0-ElFttj"
      }
    },
    {
      "cell_type": "markdown",
      "source": [
        "## Activité 1 : Affiche les Nombres Pairs\n",
        "\n",
        "Utilise une boucle for pour afficher tous les nombres pairs de 1 à 20.\n",
        "\n",
        "Dans une nouvelle cellule de code, tape :\n",
        "\n",
        "\n",
        "```\n",
        "for i in range(1, 21):\n",
        "    if i % 2 == 0:\n",
        "        print(i)\n",
        "\n",
        "```\n",
        "Essaie de changer la plage (par exemple, de 1 à 10) !"
      ],
      "metadata": {
        "id": "OQIsmwXVFv0f"
      }
    },
    {
      "cell_type": "code",
      "source": [],
      "metadata": {
        "id": "_N7b_w3wGDPn"
      },
      "execution_count": null,
      "outputs": []
    },
    {
      "cell_type": "markdown",
      "source": [
        "## Activité 2 : Vérifie les Palindromes\n",
        "\n",
        "Crée une fonction qui vérifie si un mot est un palindrome (un mot qui se lit pareil à l’envers, comme “radar”).\n",
        "\n",
        "Dans une nouvelle cellule de code, tape :\n",
        "\n",
        "```\n",
        "def est_palindrome(mot):\n",
        "    if mot == mot[::-1]:  # Inverse le mot\n",
        "        print(mot, \"est un palindrome !\")\n",
        "    else:\n",
        "        print(mot, \"n’est pas un palindrome.\")\n",
        "\n",
        "est_palindrome(\"radar\")\n",
        "est_palindrome(\"bonjour\")\n",
        "```\n",
        "\n",
        "> Astuce : `mot[::-1]` inverse le mot en Python. Essaie d’autres mots comme “level” ou “python” !"
      ],
      "metadata": {
        "id": "QEaMuEqpGB9c"
      }
    },
    {
      "cell_type": "code",
      "source": [],
      "metadata": {
        "id": "ulXQcm44Gmj9"
      },
      "execution_count": null,
      "outputs": []
    },
    {
      "cell_type": "markdown",
      "source": [
        "## Activité 3 : Table de Multiplication\n",
        "\n",
        "Crée une fonction qui affiche la table de multiplication d’un nombre.\n",
        "\n",
        "Dans une nouvelle cellule de code, tape :\n",
        "\n",
        "\n",
        "```\n",
        "def table_multiplication(nombre):\n",
        "    for i in range(1, 11):\n",
        "        print(nombre, \"*\", i, \"=\", nombre * i)\n",
        "\n",
        "table_multiplication(5)\n",
        "```\n",
        "\n",
        "Change le nombre (par exemple, essaie table_multiplication(3)) !\n",
        "\n"
      ],
      "metadata": {
        "id": "EkzdMrvtGsy3"
      }
    },
    {
      "cell_type": "code",
      "source": [],
      "metadata": {
        "id": "HFYcindUGoyN"
      },
      "execution_count": null,
      "outputs": []
    },
    {
      "cell_type": "markdown",
      "source": [
        "## Activité 4 : Mission d’Agent Secret\n",
        "\n",
        "Deviens un agent secret ! Pose des questions et donne une mission selon un calcul.\n",
        "\n",
        "Dans une nouvelle cellule de code, tape :\n",
        "\n",
        "\n",
        "\n",
        "```\n",
        "name = input(\"Agent, quel est ton nom de code ? \")\n",
        "age = int(input(\"Quel âge as-tu, Agent ? \"))\n",
        "fav_number = int(input(\"Quel est ton nombre préféré ? \"))\n",
        "\n",
        "print(\"Bienvenue, Agent \" + name + \". Calcul de la mission secrète...\")\n",
        "code = age + fav_number\n",
        "\n",
        "if code > 50:\n",
        "    print(\"Mission : Infiltre le coffre à bonbons ! 🧁\")\n",
        "elif code > 30:\n",
        "    print(\"Mission : Espionne les écureuils au parc ! 🐿️\")\n",
        "else:\n",
        "    print(\"Mission : Décode le message emoji secret ! 😎\")\n",
        "```\n",
        "\n",
        "> Défi :\n",
        "- Ajoute une nouvelle question (par exemple, “Quelle est ta couleur préférée ?”) et\n",
        "- une nouvelle mission avec elif. Par exemple, si la couleur est “bleu”, affiche “Mission : Nage dans l’océan secret !”."
      ],
      "metadata": {
        "id": "XiQ_NRFEHI4f"
      }
    },
    {
      "cell_type": "code",
      "source": [],
      "metadata": {
        "id": "Iif3DJR8HiKe"
      },
      "execution_count": null,
      "outputs": []
    },
    {
      "cell_type": "markdown",
      "source": [
        "## Activité 5 : Quiz Python\n",
        "\n",
        "Teste tes connaissances avec ce quiz !\n",
        "\n"
      ],
      "metadata": {
        "id": "WKSH23dmHQUj"
      }
    },
    {
      "cell_type": "markdown",
      "source": [
        "### Question 1 : Que fait ce code ?\n",
        "\n",
        "```\n",
        "for i in range(3):\n",
        "    print(\"Python est amusant !\")\n",
        "```\n",
        "A) Affiche “Python est amusant !” une fois\n",
        "\n",
        "B) Affiche “Python est amusant !” trois fois\n",
        "\n",
        "C) N’affiche rien\n",
        "\n",
        "Dans une nouvelle cellule de code, tape :\n",
        "\n",
        "\n",
        "\n",
        "```\n",
        "reponse_q1 = \"B\"  # Change en A, B ou C\n",
        "if reponse_q1 == \"B\":\n",
        "    print(\"Correct ! 🎉\")\n",
        "else:\n",
        "    print(\"Essaie encore !\")\n",
        "```\n",
        "\n"
      ],
      "metadata": {
        "id": "_FW4GSx0HQnu"
      }
    },
    {
      "cell_type": "code",
      "source": [],
      "metadata": {
        "id": "HczGk8cqHGMO"
      },
      "execution_count": null,
      "outputs": []
    },
    {
      "cell_type": "markdown",
      "source": [
        "### Question 2 : Que fait cette fonction ?\n",
        "\n",
        "```\n",
        "def ajouter_deux(n):\n",
        "    return n + 2\n",
        "```\n",
        "\n",
        "A) Ajoute 2 au nombre\n",
        "\n",
        "\n",
        "B) Multiplie le nombre par 2\n",
        "\n",
        "\n",
        "C) Soustrait 2 au nombre\n",
        "\n",
        "\n"
      ],
      "metadata": {
        "id": "v6kYgLWoHQ-k"
      }
    },
    {
      "cell_type": "markdown",
      "source": [
        "# Ce qu’on a appris\n",
        "\n",
        "Utiliser if-else pour faire des choix.\n",
        "\n",
        "Répéter des tâches avec les boucles `for` et `while`.\n",
        "\n",
        "Créer des fonctions pour réutiliser du code.\n",
        "\n",
        "IMPORTANT : Taper le code toi-même t’aide à mieux comprendre !\n",
        "\n",
        "---"
      ],
      "metadata": {
        "id": "41yhHceFI2B8"
      }
    },
    {
      "cell_type": "markdown",
      "source": [
        "# La Prochaine Fois\n",
        "\n",
        "Dans la prochaine session, on va organiser des données et découvrir le monde excitant de l’IA ! Continue à t’entraîner en modifiant le code et en testant de nouvelles idées. 🌟\n",
        "\n",
        "> Astuce : Si tu vois une erreur dans Colab, lis le message pour comprendre ce qui ne va pas, puis corrige et réessaie !\n",
        "\n",
        "> Aussi, 🤖 Demande à l'IA : aide toi de l'IA pour résoudre ton erreur ou développer du code"
      ],
      "metadata": {
        "id": "FGkeFIeVJGO0"
      }
    }
  ]
}