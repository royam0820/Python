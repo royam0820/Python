{
  "nbformat": 4,
  "nbformat_minor": 0,
  "metadata": {
    "colab": {
      "provenance": [],
      "collapsed_sections": [
        "yRcEvnLAxedg",
        "1Ct_ecLUbT6-"
      ],
      "authorship_tag": "ABX9TyOT316+oyr37Zx9nD2Djnv3",
      "include_colab_link": true
    },
    "kernelspec": {
      "name": "python3",
      "display_name": "Python 3"
    },
    "language_info": {
      "name": "python"
    }
  },
  "cells": [
    {
      "cell_type": "markdown",
      "metadata": {
        "id": "view-in-github",
        "colab_type": "text"
      },
      "source": [
        "<a href=\"https://colab.research.google.com/github/royam0820/Python/blob/main/Python_Session_4_Etudiant.ipynb\" target=\"_parent\"><img src=\"https://colab.research.google.com/assets/colab-badge.svg\" alt=\"Open In Colab\"/></a>"
      ]
    },
    {
      "cell_type": "markdown",
      "source": [
        "# Camp d'Aventure Python : Session 4 - Plonger dans l’IA !\n",
        "\n",
        "Bienvenue à la quatrième session de notre camp Python ! Aujourd’hui, on va explorer l’Intelligence Artificielle (IA) en créant des projets super amusants : un classificateur d’images, un chatbot, et une calculatrice magique. Prépare-toi à coder comme un génie de l’IA ! 🚀\n",
        "\n",
        "---"
      ],
      "metadata": {
        "id": "tBNDu2LdTOPt"
      }
    },
    {
      "cell_type": "markdown",
      "source": [
        "## Ce qu’on va apprendre aujourd’hui\n",
        "\n",
        "Créer un classificateur d’images avec Teachable Machine\n",
        "\n",
        "Construire un chatbot qui parle avec toi\n",
        "\n",
        "Fabriquer une calculatrice magique\n",
        "\n",
        "Découvrir comment l’IA fonctionne dans la vraie vie\n",
        "\n",
        "---"
      ],
      "metadata": {
        "id": "rJ9esajMTZam"
      }
    },
    {
      "cell_type": "markdown",
      "source": [
        "## 1. Petit Rappel\n",
        "\n",
        "Dans la session précédente, on a appris :\n",
        "\n",
        "Organiser des données avec des listes et des dictionnaires\n",
        "\n",
        "Ce qu’est l’IA et comment elle utilise des données\n",
        "\n",
        "Tester un modèle d’IA pour reconnaître des chiffres\n",
        "\n",
        "Aujourd’hui, on va mettre tout ça en pratique avec des projets d’IA !\n",
        "\n",
        "---"
      ],
      "metadata": {
        "id": "toMUoL7qTjpM"
      }
    },
    {
      "cell_type": "markdown",
      "source": [
        "## 2. Projet 1 : Classificateur d’Images avec Teachable Machine\n",
        "\n",
        "C’est quoi Teachable Machine ?\n",
        "\n",
        "Teachable Machine est un outil en ligne de Google qui te permet de créer des modèles d’IA sans coder. Tu peux entraîner un modèle à reconnaître des images, des sons, ou des poses en lui montrant des exemples."
      ],
      "metadata": {
        "id": "IxUtWRjYT4iy"
      }
    },
    {
      "cell_type": "markdown",
      "source": [
        "**Activité : Créer un classificateur Chats vs Chiens**\n",
        "\n",
        "On va créer un modèle qui reconnaît si une image montre un chat ou un chien.\n",
        "\n",
        "Étapes (à faire sur Teachable Machine) :\n",
        "\n",
        "- Va sur [Teachable Machine](https://teachablemachine.withgoogle.com/) et clique sur “Commencer”.\n",
        "\n",
        "- Choisis “Projet Image”.\n",
        "\n",
        "- Crée deux classes : “Chiens” et “Chats”.\n",
        "\n",
        "- Ajoute au moins 10 images pour chaque classe (utilise ta webcam ou télécharge des images en ligne).\n",
        "\n",
        "- Clique sur “Entraîner le modèle”.\n",
        "\n",
        "- Teste ton modèle avec ta webcam ou des images pour voir s’il reconnaît bien les chats et les chiens.\n"
      ],
      "metadata": {
        "id": "QorbKQ4OUHDd"
      }
    },
    {
      "cell_type": "markdown",
      "source": [
        "### Étape 1 : Exporter le modèle\n",
        "\n",
        "- Dans Teachable Machine, clique sur “Exporter le modèle”.\n",
        "\n",
        "- Choisis “TensorFlow” > “Keras” et télécharge le fichier zip (il contient keras_model.h5 et labels.txt).\n",
        "\n",
        "- Remonter ce fichier zippé dans Google Colab et procéder à l'étape suivante."
      ],
      "metadata": {
        "id": "WKsRj74HUSe8"
      }
    },
    {
      "cell_type": "markdown",
      "source": [
        "### Étape 2 : Utiliser le modèle dans Colab\n",
        "\n",
        "\n",
        "---"
      ],
      "metadata": {
        "id": "aJfO2JuFUga9"
      }
    },
    {
      "cell_type": "markdown",
      "source": [
        "### Utilisation du modèle Keras et Test du modèle avec Python"
      ],
      "metadata": {
        "id": "2Iob3pdadkOV"
      }
    },
    {
      "cell_type": "markdown",
      "source": [
        "#### Décompression du fichier converted_keras.zip"
      ],
      "metadata": {
        "id": "DFD0JgkvpiXR"
      }
    },
    {
      "cell_type": "code",
      "metadata": {
        "id": "85c889dd",
        "colab": {
          "base_uri": "https://localhost:8080/"
        },
        "outputId": "397999c4-c5c3-45b7-f131-45578a8b671c"
      },
      "source": [
        "# Décompression du fichier /content/converted_keras.zip\n",
        "# Remplacez 'your_file.zip' par le nom de votre fichier zip.\n",
        "!unzip converted_keras.zip\n",
        "\n",
        "# Si vous souhaitez extraire les fichiers dans un répertoire spécifique, vous pouvez utiliser l'option -d\n",
        "# !unzip your_file.zip -d your_directory"
      ],
      "execution_count": null,
      "outputs": [
        {
          "output_type": "stream",
          "name": "stdout",
          "text": [
            "Archive:  converted_keras.zip\n",
            " extracting: keras_model.h5          \n",
            " extracting: labels.txt              \n"
          ]
        }
      ]
    },
    {
      "cell_type": "markdown",
      "source": [
        "#### Choix d'une image à tester avec le modèle"
      ],
      "metadata": {
        "id": "AWfNEx0-ppKS"
      }
    },
    {
      "cell_type": "code",
      "metadata": {
        "id": "7bef9783",
        "colab": {
          "base_uri": "https://localhost:8080/",
          "height": 668
        },
        "outputId": "27499b8f-797b-4100-e8a5-02f53b53ed8a"
      },
      "source": [
        "from google.colab import files\n",
        "from IPython.display import Image, display\n",
        "\n",
        "print(\"Veuillez télécharger une image :\")\n",
        "uploaded_image = files.upload()\n",
        "\n",
        "# Get the path of the uploaded image\n",
        "image_path = list(uploaded_image.keys())[0]\n",
        "\n",
        "# Display the uploaded image\n",
        "display(Image(image_path))"
      ],
      "execution_count": null,
      "outputs": [
        {
          "output_type": "stream",
          "name": "stdout",
          "text": [
            "Veuillez télécharger une image :\n"
          ]
        },
        {
          "output_type": "display_data",
          "data": {
            "text/plain": [
              "<IPython.core.display.HTML object>"
            ],
            "text/html": [
              "\n",
              "     <input type=\"file\" id=\"files-5b46cbf3-941b-498b-b32d-7f7c1043a081\" name=\"files[]\" multiple disabled\n",
              "        style=\"border:none\" />\n",
              "     <output id=\"result-5b46cbf3-941b-498b-b32d-7f7c1043a081\">\n",
              "      Upload widget is only available when the cell has been executed in the\n",
              "      current browser session. Please rerun this cell to enable.\n",
              "      </output>\n",
              "      <script>// Copyright 2017 Google LLC\n",
              "//\n",
              "// Licensed under the Apache License, Version 2.0 (the \"License\");\n",
              "// you may not use this file except in compliance with the License.\n",
              "// You may obtain a copy of the License at\n",
              "//\n",
              "//      http://www.apache.org/licenses/LICENSE-2.0\n",
              "//\n",
              "// Unless required by applicable law or agreed to in writing, software\n",
              "// distributed under the License is distributed on an \"AS IS\" BASIS,\n",
              "// WITHOUT WARRANTIES OR CONDITIONS OF ANY KIND, either express or implied.\n",
              "// See the License for the specific language governing permissions and\n",
              "// limitations under the License.\n",
              "\n",
              "/**\n",
              " * @fileoverview Helpers for google.colab Python module.\n",
              " */\n",
              "(function(scope) {\n",
              "function span(text, styleAttributes = {}) {\n",
              "  const element = document.createElement('span');\n",
              "  element.textContent = text;\n",
              "  for (const key of Object.keys(styleAttributes)) {\n",
              "    element.style[key] = styleAttributes[key];\n",
              "  }\n",
              "  return element;\n",
              "}\n",
              "\n",
              "// Max number of bytes which will be uploaded at a time.\n",
              "const MAX_PAYLOAD_SIZE = 100 * 1024;\n",
              "\n",
              "function _uploadFiles(inputId, outputId) {\n",
              "  const steps = uploadFilesStep(inputId, outputId);\n",
              "  const outputElement = document.getElementById(outputId);\n",
              "  // Cache steps on the outputElement to make it available for the next call\n",
              "  // to uploadFilesContinue from Python.\n",
              "  outputElement.steps = steps;\n",
              "\n",
              "  return _uploadFilesContinue(outputId);\n",
              "}\n",
              "\n",
              "// This is roughly an async generator (not supported in the browser yet),\n",
              "// where there are multiple asynchronous steps and the Python side is going\n",
              "// to poll for completion of each step.\n",
              "// This uses a Promise to block the python side on completion of each step,\n",
              "// then passes the result of the previous step as the input to the next step.\n",
              "function _uploadFilesContinue(outputId) {\n",
              "  const outputElement = document.getElementById(outputId);\n",
              "  const steps = outputElement.steps;\n",
              "\n",
              "  const next = steps.next(outputElement.lastPromiseValue);\n",
              "  return Promise.resolve(next.value.promise).then((value) => {\n",
              "    // Cache the last promise value to make it available to the next\n",
              "    // step of the generator.\n",
              "    outputElement.lastPromiseValue = value;\n",
              "    return next.value.response;\n",
              "  });\n",
              "}\n",
              "\n",
              "/**\n",
              " * Generator function which is called between each async step of the upload\n",
              " * process.\n",
              " * @param {string} inputId Element ID of the input file picker element.\n",
              " * @param {string} outputId Element ID of the output display.\n",
              " * @return {!Iterable<!Object>} Iterable of next steps.\n",
              " */\n",
              "function* uploadFilesStep(inputId, outputId) {\n",
              "  const inputElement = document.getElementById(inputId);\n",
              "  inputElement.disabled = false;\n",
              "\n",
              "  const outputElement = document.getElementById(outputId);\n",
              "  outputElement.innerHTML = '';\n",
              "\n",
              "  const pickedPromise = new Promise((resolve) => {\n",
              "    inputElement.addEventListener('change', (e) => {\n",
              "      resolve(e.target.files);\n",
              "    });\n",
              "  });\n",
              "\n",
              "  const cancel = document.createElement('button');\n",
              "  inputElement.parentElement.appendChild(cancel);\n",
              "  cancel.textContent = 'Cancel upload';\n",
              "  const cancelPromise = new Promise((resolve) => {\n",
              "    cancel.onclick = () => {\n",
              "      resolve(null);\n",
              "    };\n",
              "  });\n",
              "\n",
              "  // Wait for the user to pick the files.\n",
              "  const files = yield {\n",
              "    promise: Promise.race([pickedPromise, cancelPromise]),\n",
              "    response: {\n",
              "      action: 'starting',\n",
              "    }\n",
              "  };\n",
              "\n",
              "  cancel.remove();\n",
              "\n",
              "  // Disable the input element since further picks are not allowed.\n",
              "  inputElement.disabled = true;\n",
              "\n",
              "  if (!files) {\n",
              "    return {\n",
              "      response: {\n",
              "        action: 'complete',\n",
              "      }\n",
              "    };\n",
              "  }\n",
              "\n",
              "  for (const file of files) {\n",
              "    const li = document.createElement('li');\n",
              "    li.append(span(file.name, {fontWeight: 'bold'}));\n",
              "    li.append(span(\n",
              "        `(${file.type || 'n/a'}) - ${file.size} bytes, ` +\n",
              "        `last modified: ${\n",
              "            file.lastModifiedDate ? file.lastModifiedDate.toLocaleDateString() :\n",
              "                                    'n/a'} - `));\n",
              "    const percent = span('0% done');\n",
              "    li.appendChild(percent);\n",
              "\n",
              "    outputElement.appendChild(li);\n",
              "\n",
              "    const fileDataPromise = new Promise((resolve) => {\n",
              "      const reader = new FileReader();\n",
              "      reader.onload = (e) => {\n",
              "        resolve(e.target.result);\n",
              "      };\n",
              "      reader.readAsArrayBuffer(file);\n",
              "    });\n",
              "    // Wait for the data to be ready.\n",
              "    let fileData = yield {\n",
              "      promise: fileDataPromise,\n",
              "      response: {\n",
              "        action: 'continue',\n",
              "      }\n",
              "    };\n",
              "\n",
              "    // Use a chunked sending to avoid message size limits. See b/62115660.\n",
              "    let position = 0;\n",
              "    do {\n",
              "      const length = Math.min(fileData.byteLength - position, MAX_PAYLOAD_SIZE);\n",
              "      const chunk = new Uint8Array(fileData, position, length);\n",
              "      position += length;\n",
              "\n",
              "      const base64 = btoa(String.fromCharCode.apply(null, chunk));\n",
              "      yield {\n",
              "        response: {\n",
              "          action: 'append',\n",
              "          file: file.name,\n",
              "          data: base64,\n",
              "        },\n",
              "      };\n",
              "\n",
              "      let percentDone = fileData.byteLength === 0 ?\n",
              "          100 :\n",
              "          Math.round((position / fileData.byteLength) * 100);\n",
              "      percent.textContent = `${percentDone}% done`;\n",
              "\n",
              "    } while (position < fileData.byteLength);\n",
              "  }\n",
              "\n",
              "  // All done.\n",
              "  yield {\n",
              "    response: {\n",
              "      action: 'complete',\n",
              "    }\n",
              "  };\n",
              "}\n",
              "\n",
              "scope.google = scope.google || {};\n",
              "scope.google.colab = scope.google.colab || {};\n",
              "scope.google.colab._files = {\n",
              "  _uploadFiles,\n",
              "  _uploadFilesContinue,\n",
              "};\n",
              "})(self);\n",
              "</script> "
            ]
          },
          "metadata": {}
        },
        {
          "output_type": "stream",
          "name": "stdout",
          "text": [
            "Saving tst2.jpg to tst2.jpg\n"
          ]
        },
        {
          "output_type": "display_data",
          "data": {
            "image/jpeg": "[encoded data removed]",
            "text/plain": [
              "<IPython.core.display.Image object>"
            ]
          },
          "metadata": {}
        }
      ]
    },
    {
      "cell_type": "markdown",
      "source": [
        "#### Faire une prédiction basée sur l'image à tester"
      ],
      "metadata": {
        "id": "V2Qyq0w6pwE8"
      }
    },
    {
      "cell_type": "code",
      "source": [
        "from keras.models import load_model  # TensorFlow is required for Keras to work\n",
        "from PIL import Image, ImageOps  # Install pillow instead of PIL\n",
        "import numpy as np\n",
        "from google.colab import files # Import files for uploading\n",
        "\n",
        "# Disable scientific notation for clarity\n",
        "np.set_printoptions(suppress=True)\n",
        "\n",
        "# Load the model\n",
        "model = load_model(\"keras_model.h5\", compile=False)\n",
        "\n",
        "# Load the labels\n",
        "class_names = open(\"labels.txt\", \"r\").readlines()\n",
        "\n",
        "# Create the array of the right shape to feed into the keras model\n",
        "# The 'length' or number of images you can put into the array is\n",
        "# determined by the first position in the shape tuple, in this case 1\n",
        "data = np.ndarray(shape=(1, 224, 224, 3), dtype=np.float32)\n",
        "\n",
        "# Use the image_path from the uploaded image\n",
        "image = Image.open(image_path).convert(\"RGB\")\n",
        "\n",
        "# resizing the image to be at least 224x224 and then cropping from the center\n",
        "size = (224, 224)\n",
        "image = ImageOps.fit(image, size, Image.Resampling.LANCZOS)\n",
        "\n",
        "# turn the image into a numpy array\n",
        "image_array = np.asarray(image)\n",
        "\n",
        "# Normalize the image\n",
        "normalized_image_array = (image_array.astype(np.float32) / 127.5) - 1\n",
        "\n",
        "# Load the image into the array\n",
        "data[0] = normalized_image_array\n",
        "\n",
        "# Predicts the model\n",
        "prediction = model.predict(data)\n",
        "index = np.argmax(prediction)\n",
        "class_name = class_names[index]\n",
        "confidence_score = prediction[0][index]\n",
        "\n",
        "# Print prediction and confidence score\n",
        "print(\"Class:\", class_name[2:], end=\"\")\n",
        "print(\"Confidence Score:\", confidence_score)"
      ],
      "metadata": {
        "colab": {
          "base_uri": "https://localhost:8080/"
        },
        "id": "gIEVz-vyd0_K",
        "outputId": "ee7f88d2-1295-4d9f-86c2-e1a0ba6efbb3"
      },
      "execution_count": null,
      "outputs": [
        {
          "output_type": "stream",
          "name": "stdout",
          "text": [
            "1/1 [==============================] - 1s 1s/step\n",
            "Class: dog\n",
            "Confidence Score: 0.9998153\n"
          ]
        }
      ]
    },
    {
      "cell_type": "markdown",
      "source": [
        "## 3. Projet 2 : Interaction avec un chatbot simple\n",
        "\n",
        "### Qu'est-ce qu'un chatbot ? 💬\n",
        "Un chatbot est un programme qui peut converser avec vous comme un ami. Il utilise l'IA pour comprendre ce que vous dites et répondre de manière appropriée.\n",
        "\n",
        "### Interaction avec un chatbot pré-construit"
      ],
      "metadata": {
        "id": "yRcEvnLAxedg"
      }
    },
    {
      "cell_type": "markdown",
      "source": [
        "1. **Installez ChatterBot** dans votre notebook Colab :\n",
        "Les lignes de code ci-dessous préparent le terrain en rendant disponibles les classes nécessaires pour créer une instance de chatbot et l'entraîner à partir de données textuelles."
      ],
      "metadata": {
        "id": "UH83WisHxhfI"
      }
    },
    {
      "cell_type": "code",
      "source": [],
      "metadata": {
        "id": "ZQSvHxLlJ1Df"
      },
      "execution_count": null,
      "outputs": []
    },
    {
      "cell_type": "markdown",
      "source": [
        "**Créez un chatbot** :\n",
        "\n",
        "NB: le chatbot doit utiliser un vocabulaire de référence en français qu'il faut télécharger et installer dans le répertoire Google Colab à la racine (/content).\n",
        "\n",
        " https://raw.githubusercontent.com/gunthercox/chatterbot-corpus/refs/heads/master/chatterbot_corpus/data/french/conversations.yml\n",
        "\n",
        "enregistrer le fichier brut `conversations.yml` localement sous `french.yml`\n",
        "\n",
        "Télécharger ce fichier de votre répertoire local vers Google Colab.\n",
        "\n",
        "Vous devez stocker ce fichier dans ce chemin:\n",
        " `/content/french.yml`\n"
      ],
      "metadata": {
        "id": "1eHNuBKexrXs"
      }
    },
    {
      "cell_type": "code",
      "metadata": {
        "id": "5d54c391",
        "collapsed": true
      },
      "source": [
        "!pip  install chatterbot"
      ],
      "execution_count": null,
      "outputs": []
    },
    {
      "cell_type": "code",
      "source": [
        "import os\n",
        "from chatterbot import ChatBot\n",
        "from chatterbot.trainers import ChatterBotCorpusTrainer\n",
        "\n",
        "# Create a ChatBot instance\n",
        "chatbot = ChatBot('MyChatBot')\n",
        "\n",
        "# Create a trainer and train the chatbot\n",
        "trainer = ChatterBotCorpusTrainer(chatbot)\n",
        "\n",
        "# Use the built-in corpus reference\n",
        "\n",
        "\n",
        "trainer.train(\"/content/french.yml\")  # Adjust the path to match where you uploaded the file\n",
        "\n",
        "while True:\n",
        "    try:\n",
        "        user_input = input(\"Vous : \")\n",
        "        if user_input.lower() == 'quit':\n",
        "            break\n",
        "        response = chatbot.get_response(user_input)\n",
        "        print(\"Bot : \", response)\n",
        "    except (KeyboardInterrupt, EOFError, SystemExit):\n",
        "        break"
      ],
      "metadata": {
        "id": "-syeiQBzxsEr",
        "colab": {
          "base_uri": "https://localhost:8080/"
        },
        "outputId": "b9076768-d24f-40ab-f3c4-1fc6cd1c1a33"
      },
      "execution_count": null,
      "outputs": [
        {
          "output_type": "stream",
          "name": "stderr",
          "text": [
            "ChatterBot Corpus Trainer: 1it [00:00, 10.41it/s]\n"
          ]
        },
        {
          "output_type": "stream",
          "name": "stdout",
          "text": [
            "Vous : bonjour ca va\n",
            "Bot :  Je vais bien merci, et toi ?\n",
            "Vous : qui es tu\n",
            "Bot :  C'est la reponse a laquelle on essaie tous de repondre...\n",
            "Vous : quel est ton livre préféré\n",
            "Bot :  La classique H2G2, et en complet, l'ensemble de l atrilogie en 5 volumes.\n",
            "Vous : tu travailles sur quel projet\n",
            "Bot :  Sur quoi travailles-tu ?\n",
            "Vous : toi, tu travailles sur quel projet\n",
            "Bot :  Sur quoi travailles-tu ?\n"
          ]
        }
      ]
    },
    {
      "cell_type": "markdown",
      "source": [
        "**Astuce** : Tapez \"quit\" pour arrêter la conversation."
      ],
      "metadata": {
        "id": "vLMQ1l6Rx29E"
      }
    },
    {
      "cell_type": "markdown",
      "source": [
        "### Comprendre comment le chatbot fonctionne\n",
        "Le chatbot utilise des données d'entraînement pour apprendre à répondre aux questions. Plus il a de données, mieux il peut converser !\n",
        "\n",
        "---"
      ],
      "metadata": {
        "id": "nCgzhnWCx6_T"
      }
    },
    {
      "cell_type": "markdown",
      "source": [
        "### Entraînement d'un chatbot\n",
        "Ce code définit et entraîne un chatbot à l'aide de la bibliothèque ChatterBot en Python.\n",
        "\n",
        "Nous allons accéder à un fichier de données pour entraîner un chatbot et permettant ainsi d'avoir des réponses plus spécifiques."
      ],
      "metadata": {
        "id": "KBFVxUX_1Icd"
      }
    },
    {
      "cell_type": "code",
      "source": [
        "# from chatterbot import ChatBot\n",
        "# from chatterbot.trainers import ChatterBotCorpusTrainer, ListTrainer\n",
        "# import os\n",
        "\n",
        "# chatbot = ChatBot('MonChatBot')\n",
        "\n",
        "# # First train with the built-in French corpus\n",
        "# corpus_trainer = ChatterBotCorpusTrainer(chatbot)\n",
        "# corpus_trainer.train('chatterbot.corpus.french')\n",
        "\n",
        "# # Then train with your custom conversation\n",
        "# custom_data_path = '/content/drive/MyDrive/Python-Sessions/Ressources/Chatbot/custom_french.yml'\n",
        "# if os.path.exists(custom_data_path):\n",
        "#     corpus_trainer.train(custom_data_path)\n",
        "\n",
        "# # Test interaction\n",
        "# print(\"Tapez 'quit' pour quitter.\")\n",
        "# while True:\n",
        "#     try:\n",
        "#         user_input = input(\"Vous : \")\n",
        "#         if user_input.lower() == 'quit':\n",
        "#             break\n",
        "#         response = chatbot.get_response(user_input)\n",
        "#         print(\"Bot :\", response)\n",
        "#     except (KeyboardInterrupt, EOFError, SystemExit):\n",
        "#         break\n"
      ],
      "metadata": {
        "id": "On1K2ja_1PS-"
      },
      "execution_count": null,
      "outputs": []
    },
    {
      "cell_type": "code",
      "source": [
        "# Install required packages\n",
        "!pip install chatterbot==1.0.8\n",
        "!pip install chatterbot-corpus\n",
        "!pip install spacy\n",
        "!python -m spacy download fr_core_news_sm"
      ],
      "metadata": {
        "colab": {
          "base_uri": "https://localhost:8080/"
        },
        "collapsed": true,
        "id": "XQXKoTSaTKhs",
        "outputId": "4b2a935b-53b1-48ee-8d10-a46d45b90028"
      },
      "execution_count": null,
      "outputs": [
        {
          "output_type": "stream",
          "name": "stdout",
          "text": [
            "\u001b[31mERROR: Ignored the following yanked versions: 1.1.0\u001b[0m\u001b[31m\n",
            "\u001b[0m\u001b[31mERROR: Ignored the following versions that require a different python version: 1.0.7 Requires-Python >=3.4, <=3.8; 1.0.8 Requires-Python >=3.4, <=3.8\u001b[0m\u001b[31m\n",
            "\u001b[0m\u001b[31mERROR: Could not find a version that satisfies the requirement chatterbot==1.0.8 (from versions: 0.0.0, 0.0.1, 0.0.2, 0.0.3, 0.0.4, 0.0.5, 0.1.0, 0.1.1, 0.1.2, 0.2.0, 0.2.1, 0.2.2, 0.2.3, 0.2.4, 0.2.5, 0.2.6, 0.2.7, 0.2.8, 0.2.9, 0.3.0, 0.3.1, 0.3.2, 0.3.3, 0.3.4, 0.3.5, 0.3.6, 0.3.7, 0.4.0, 0.4.1, 0.4.2, 0.4.3, 0.4.4, 0.4.5, 0.4.6, 0.4.7, 0.4.8, 0.4.9, 0.4.10, 0.4.11, 0.4.12, 0.4.13, 0.5.0, 0.5.1, 0.5.2, 0.5.3, 0.5.4, 0.5.5, 0.6.0, 0.6.1, 0.6.2, 0.6.3, 0.7.0, 0.7.1, 0.7.2, 0.7.3, 0.7.4, 0.7.5, 0.7.6, 0.8.0, 0.8.1, 0.8.2, 0.8.3, 0.8.4, 0.8.5, 0.8.6, 0.8.7, 1.0.0a1, 1.0.0a2, 1.0.0a3, 1.0.0a4, 1.0.0, 1.0.1, 1.0.2, 1.0.3, 1.0.4, 1.0.5, 1.1.0a7, 1.2.0, 1.2.1, 1.2.2, 1.2.3, 1.2.4, 1.2.5, 1.2.6, 1.2.7)\u001b[0m\u001b[31m\n",
            "\u001b[0m\u001b[31mERROR: No matching distribution found for chatterbot==1.0.8\u001b[0m\u001b[31m\n",
            "\u001b[0mRequirement already satisfied: chatterbot-corpus in /usr/local/lib/python3.11/dist-packages (1.2.2)\n",
            "Requirement already satisfied: spacy in /usr/local/lib/python3.11/dist-packages (3.8.7)\n",
            "Requirement already satisfied: spacy-legacy<3.1.0,>=3.0.11 in /usr/local/lib/python3.11/dist-packages (from spacy) (3.0.12)\n",
            "Requirement already satisfied: spacy-loggers<2.0.0,>=1.0.0 in /usr/local/lib/python3.11/dist-packages (from spacy) (1.0.5)\n",
            "Requirement already satisfied: murmurhash<1.1.0,>=0.28.0 in /usr/local/lib/python3.11/dist-packages (from spacy) (1.0.13)\n",
            "Requirement already satisfied: cymem<2.1.0,>=2.0.2 in /usr/local/lib/python3.11/dist-packages (from spacy) (2.0.11)\n",
            "Requirement already satisfied: preshed<3.1.0,>=3.0.2 in /usr/local/lib/python3.11/dist-packages (from spacy) (3.0.10)\n",
            "Requirement already satisfied: thinc<8.4.0,>=8.3.4 in /usr/local/lib/python3.11/dist-packages (from spacy) (8.3.6)\n",
            "Requirement already satisfied: wasabi<1.2.0,>=0.9.1 in /usr/local/lib/python3.11/dist-packages (from spacy) (1.1.3)\n",
            "Requirement already satisfied: srsly<3.0.0,>=2.4.3 in /usr/local/lib/python3.11/dist-packages (from spacy) (2.5.1)\n",
            "Requirement already satisfied: catalogue<2.1.0,>=2.0.6 in /usr/local/lib/python3.11/dist-packages (from spacy) (2.0.10)\n",
            "Requirement already satisfied: weasel<0.5.0,>=0.1.0 in /usr/local/lib/python3.11/dist-packages (from spacy) (0.4.1)\n",
            "Requirement already satisfied: typer<1.0.0,>=0.3.0 in /usr/local/lib/python3.11/dist-packages (from spacy) (0.16.0)\n",
            "Requirement already satisfied: tqdm<5.0.0,>=4.38.0 in /usr/local/lib/python3.11/dist-packages (from spacy) (4.67.1)\n",
            "Requirement already satisfied: numpy>=1.19.0 in /usr/local/lib/python3.11/dist-packages (from spacy) (2.0.2)\n",
            "Requirement already satisfied: requests<3.0.0,>=2.13.0 in /usr/local/lib/python3.11/dist-packages (from spacy) (2.32.3)\n",
            "Requirement already satisfied: pydantic!=1.8,!=1.8.1,<3.0.0,>=1.7.4 in /usr/local/lib/python3.11/dist-packages (from spacy) (2.11.7)\n",
            "Requirement already satisfied: jinja2 in /usr/local/lib/python3.11/dist-packages (from spacy) (3.1.6)\n",
            "Requirement already satisfied: setuptools in /usr/local/lib/python3.11/dist-packages (from spacy) (75.2.0)\n",
            "Requirement already satisfied: packaging>=20.0 in /usr/local/lib/python3.11/dist-packages (from spacy) (25.0)\n",
            "Requirement already satisfied: langcodes<4.0.0,>=3.2.0 in /usr/local/lib/python3.11/dist-packages (from spacy) (3.5.0)\n",
            "Requirement already satisfied: language-data>=1.2 in /usr/local/lib/python3.11/dist-packages (from langcodes<4.0.0,>=3.2.0->spacy) (1.3.0)\n",
            "Requirement already satisfied: annotated-types>=0.6.0 in /usr/local/lib/python3.11/dist-packages (from pydantic!=1.8,!=1.8.1,<3.0.0,>=1.7.4->spacy) (0.7.0)\n",
            "Requirement already satisfied: pydantic-core==2.33.2 in /usr/local/lib/python3.11/dist-packages (from pydantic!=1.8,!=1.8.1,<3.0.0,>=1.7.4->spacy) (2.33.2)\n",
            "Requirement already satisfied: typing-extensions>=4.12.2 in /usr/local/lib/python3.11/dist-packages (from pydantic!=1.8,!=1.8.1,<3.0.0,>=1.7.4->spacy) (4.14.1)\n",
            "Requirement already satisfied: typing-inspection>=0.4.0 in /usr/local/lib/python3.11/dist-packages (from pydantic!=1.8,!=1.8.1,<3.0.0,>=1.7.4->spacy) (0.4.1)\n",
            "Requirement already satisfied: charset-normalizer<4,>=2 in /usr/local/lib/python3.11/dist-packages (from requests<3.0.0,>=2.13.0->spacy) (3.4.2)\n",
            "Requirement already satisfied: idna<4,>=2.5 in /usr/local/lib/python3.11/dist-packages (from requests<3.0.0,>=2.13.0->spacy) (3.10)\n",
            "Requirement already satisfied: urllib3<3,>=1.21.1 in /usr/local/lib/python3.11/dist-packages (from requests<3.0.0,>=2.13.0->spacy) (2.5.0)\n",
            "Requirement already satisfied: certifi>=2017.4.17 in /usr/local/lib/python3.11/dist-packages (from requests<3.0.0,>=2.13.0->spacy) (2025.7.14)\n",
            "Requirement already satisfied: blis<1.4.0,>=1.3.0 in /usr/local/lib/python3.11/dist-packages (from thinc<8.4.0,>=8.3.4->spacy) (1.3.0)\n",
            "Requirement already satisfied: confection<1.0.0,>=0.0.1 in /usr/local/lib/python3.11/dist-packages (from thinc<8.4.0,>=8.3.4->spacy) (0.1.5)\n",
            "Requirement already satisfied: click>=8.0.0 in /usr/local/lib/python3.11/dist-packages (from typer<1.0.0,>=0.3.0->spacy) (8.2.1)\n",
            "Requirement already satisfied: shellingham>=1.3.0 in /usr/local/lib/python3.11/dist-packages (from typer<1.0.0,>=0.3.0->spacy) (1.5.4)\n",
            "Requirement already satisfied: rich>=10.11.0 in /usr/local/lib/python3.11/dist-packages (from typer<1.0.0,>=0.3.0->spacy) (13.9.4)\n",
            "Requirement already satisfied: cloudpathlib<1.0.0,>=0.7.0 in /usr/local/lib/python3.11/dist-packages (from weasel<0.5.0,>=0.1.0->spacy) (0.21.1)\n",
            "Requirement already satisfied: smart-open<8.0.0,>=5.2.1 in /usr/local/lib/python3.11/dist-packages (from weasel<0.5.0,>=0.1.0->spacy) (7.3.0.post1)\n",
            "Requirement already satisfied: MarkupSafe>=2.0 in /usr/local/lib/python3.11/dist-packages (from jinja2->spacy) (3.0.2)\n",
            "Requirement already satisfied: marisa-trie>=1.1.0 in /usr/local/lib/python3.11/dist-packages (from language-data>=1.2->langcodes<4.0.0,>=3.2.0->spacy) (1.2.1)\n",
            "Requirement already satisfied: markdown-it-py>=2.2.0 in /usr/local/lib/python3.11/dist-packages (from rich>=10.11.0->typer<1.0.0,>=0.3.0->spacy) (3.0.0)\n",
            "Requirement already satisfied: pygments<3.0.0,>=2.13.0 in /usr/local/lib/python3.11/dist-packages (from rich>=10.11.0->typer<1.0.0,>=0.3.0->spacy) (2.19.2)\n",
            "Requirement already satisfied: wrapt in /usr/local/lib/python3.11/dist-packages (from smart-open<8.0.0,>=5.2.1->weasel<0.5.0,>=0.1.0->spacy) (1.17.2)\n",
            "Requirement already satisfied: mdurl~=0.1 in /usr/local/lib/python3.11/dist-packages (from markdown-it-py>=2.2.0->rich>=10.11.0->typer<1.0.0,>=0.3.0->spacy) (0.1.2)\n",
            "Collecting fr-core-news-sm==3.8.0\n",
            "  Downloading https://github.com/explosion/spacy-models/releases/download/fr_core_news_sm-3.8.0/fr_core_news_sm-3.8.0-py3-none-any.whl (16.3 MB)\n",
            "\u001b[2K     \u001b[90m━━━━━━━━━━━━━━━━━━━━━━━━━━━━━━━━━━━━━━━━\u001b[0m \u001b[32m16.3/16.3 MB\u001b[0m \u001b[31m35.3 MB/s\u001b[0m eta \u001b[36m0:00:00\u001b[0m\n",
            "\u001b[?25hInstalling collected packages: fr-core-news-sm\n",
            "Successfully installed fr-core-news-sm-3.8.0\n",
            "\u001b[38;5;2m✔ Download and installation successful\u001b[0m\n",
            "You can now load the package via spacy.load('fr_core_news_sm')\n",
            "\u001b[38;5;3m⚠ Restart to reload dependencies\u001b[0m\n",
            "If you are in a Jupyter or Colab notebook, you may need to restart Python in\n",
            "order to load all the package's dependencies. You can do this by selecting the\n",
            "'Restart kernel' or 'Restart runtime' option.\n"
          ]
        }
      ]
    },
    {
      "cell_type": "code",
      "source": [
        "from chatterbot import ChatBot\n",
        "from chatterbot.trainers import ChatterBotCorpusTrainer, ListTrainer\n",
        "import os\n",
        "from google.colab import drive\n",
        "\n",
        "# Mount Google Drive\n",
        "drive.mount('/content/drive')\n",
        "\n",
        "# Initialize chatbot\n",
        "chatbot = ChatBot(\n",
        "    'MonChatBot',\n",
        "    storage_adapter='chatterbot.storage.SQLStorageAdapter',\n",
        "    database_uri='sqlite:///database.sqlite3'\n",
        ")\n",
        "\n",
        "# Train with built-in French corpus\n",
        "try:\n",
        "    corpus_trainer = ChatterBotCorpusTrainer(chatbot)\n",
        "    corpus_trainer.train('chatterbot.corpus.french')\n",
        "    print(\"Training with French corpus completed.\")\n",
        "except Exception as e:\n",
        "    print(f\"Error training with corpus: {e}\")\n",
        "\n",
        "# Train with custom YAML file\n",
        "custom_data_path = '/content/drive/MyDrive/Python-Sessions/Ressources/Chatbot/custom_french.yml'\n",
        "if os.path.exists(custom_data_path):\n",
        "    try:\n",
        "        corpus_trainer.train(custom_data_path)\n",
        "        print(\"Training with custom YAML completed.\")\n",
        "    except Exception as e:\n",
        "        print(f\"Error training with custom YAML: {e}\")\n",
        "else:\n",
        "    print(f\"Custom data file not found at {custom_data_path}\")\n",
        "\n",
        "# Train with a fallback custom conversation list\n",
        "list_trainer = ListTrainer(chatbot)\n",
        "custom_conversation = [\n",
        "    \"Bonjour, comment vas-tu ?\", \"Je vais bien, merci ! Et toi ?\",\n",
        "    \"Quel temps fait-il aujourd'hui ?\", \"Il fait beau, profite du soleil !\",\n",
        "    \"Que fais-tu ?\", \"Je suis ici à discuter avec des humains sympas comme toi !\"\n",
        "]\n",
        "try:\n",
        "    list_trainer.train(custom_conversation)\n",
        "    print(\"Training with custom conversation list completed.\")\n",
        "except Exception as e:\n",
        "    print(f\"Error training with custom list: {e}\")\n",
        "\n",
        "# Interactive loop\n",
        "print(\"Tapez 'quit' pour quitter.\")\n",
        "while True:\n",
        "    try:\n",
        "        user_input = input(\"Vous : \")\n",
        "        if user_input.lower() == 'quit':\n",
        "            break\n",
        "        response = chatbot.get_response(user_input)\n",
        "        print(f\"Bot : {response}\")\n",
        "    except (KeyboardInterrupt, EOFError, SystemExit):\n",
        "        print(\"Exiting chatbot...\")\n",
        "        break\n",
        "    except Exception as e:\n",
        "        print(f\"Error during interaction: {e}\")\n",
        "\n",
        "# Save the trained model (optional)\n",
        "from google.colab import files\n",
        "files.download('database.sqlite3')\n",
        "print(\"Chatbot session ended.\")"
      ],
      "metadata": {
        "colab": {
          "base_uri": "https://localhost:8080/",
          "height": 303
        },
        "id": "8JeZX2UsTGRW",
        "outputId": "05617d05-e032-43be-b2e0-a61946ac1609"
      },
      "execution_count": null,
      "outputs": [
        {
          "output_type": "stream",
          "name": "stdout",
          "text": [
            "Drive already mounted at /content/drive; to attempt to forcibly remount, call drive.mount(\"/content/drive\", force_remount=True).\n"
          ]
        },
        {
          "output_type": "stream",
          "name": "stderr",
          "text": [
            "ChatterBot Corpus Trainer: 5it [00:01,  4.98it/s]\n"
          ]
        },
        {
          "output_type": "stream",
          "name": "stdout",
          "text": [
            "Training with French corpus completed.\n"
          ]
        },
        {
          "output_type": "stream",
          "name": "stderr",
          "text": [
            "ChatterBot Corpus Trainer: 1it [00:00,  1.61it/s]\n"
          ]
        },
        {
          "output_type": "stream",
          "name": "stdout",
          "text": [
            "Training with custom YAML completed.\n"
          ]
        },
        {
          "output_type": "stream",
          "name": "stderr",
          "text": [
            "List Trainer: 6it [00:00, 524.18it/s]\n"
          ]
        },
        {
          "name": "stdout",
          "output_type": "stream",
          "text": [
            "Training with custom conversation list completed.\n",
            "Tapez 'quit' pour quitter.\n",
            "Vous : bonjour comment vas tu\n",
            "Bot : Je vais bien merci, et toi ?\n",
            "Vous : quel temps fait il aujourd'hui\n",
            "Bot : Il fait beau, profite du soleil !\n",
            "Vous : quitter\n",
            "Bot : Ca va\n",
            "Vous : quit\n"
          ]
        },
        {
          "output_type": "display_data",
          "data": {
            "text/plain": [
              "<IPython.core.display.Javascript object>"
            ],
            "application/javascript": [
              "\n",
              "    async function download(id, filename, size) {\n",
              "      if (!google.colab.kernel.accessAllowed) {\n",
              "        return;\n",
              "      }\n",
              "      const div = document.createElement('div');\n",
              "      const label = document.createElement('label');\n",
              "      label.textContent = `Downloading \"${filename}\": `;\n",
              "      div.appendChild(label);\n",
              "      const progress = document.createElement('progress');\n",
              "      progress.max = size;\n",
              "      div.appendChild(progress);\n",
              "      document.body.appendChild(div);\n",
              "\n",
              "      const buffers = [];\n",
              "      let downloaded = 0;\n",
              "\n",
              "      const channel = await google.colab.kernel.comms.open(id);\n",
              "      // Send a message to notify the kernel that we're ready.\n",
              "      channel.send({})\n",
              "\n",
              "      for await (const message of channel.messages) {\n",
              "        // Send a message to notify the kernel that we're ready.\n",
              "        channel.send({})\n",
              "        if (message.buffers) {\n",
              "          for (const buffer of message.buffers) {\n",
              "            buffers.push(buffer);\n",
              "            downloaded += buffer.byteLength;\n",
              "            progress.value = downloaded;\n",
              "          }\n",
              "        }\n",
              "      }\n",
              "      const blob = new Blob(buffers, {type: 'application/binary'});\n",
              "      const a = document.createElement('a');\n",
              "      a.href = window.URL.createObjectURL(blob);\n",
              "      a.download = filename;\n",
              "      div.appendChild(a);\n",
              "      a.click();\n",
              "      div.remove();\n",
              "    }\n",
              "  "
            ]
          },
          "metadata": {}
        },
        {
          "output_type": "display_data",
          "data": {
            "text/plain": [
              "<IPython.core.display.Javascript object>"
            ],
            "application/javascript": [
              "download(\"download_447508be-0e97-4c83-b54e-7abd65fdd6b8\", \"database.sqlite3\", 4096)"
            ]
          },
          "metadata": {}
        },
        {
          "output_type": "stream",
          "name": "stdout",
          "text": [
            "Chatbot session ended.\n"
          ]
        }
      ]
    },
    {
      "cell_type": "markdown",
      "source": [
        " ## 3. Projet 3 : Interaction avec un chatbot d'OpenAI - Thème Harry Potter"
      ],
      "metadata": {
        "id": "1Ct_ecLUbT6-"
      }
    },
    {
      "cell_type": "code",
      "source": [
        "# Importer les bibliothèques pour faire marcher notre super chatbot magique !\n",
        "from google.colab import userdata\n",
        "import openai\n",
        "import textwrap  # Ajouté pour gérer le retour à la ligne automatiquement\n",
        "\n",
        "# Récupérer la clé magique (API key) depuis les Secrets de Colab\n",
        "api_key = userdata.get('OPENAI_API_KEY')\n",
        "\n",
        "# Créer le client OpenAI pour parler à notre assistant magique\n",
        "client = openai.OpenAI(api_key=api_key)\n",
        "\n",
        "# Fonction pour discuter avec le chatbot (comme un hibou magique qui répond !)\n",
        "def discuter_avec_chatbot():\n",
        "    # Message de bienvenue fun\n",
        "    print(\"✨ Bienvenue dans le Chatbot Magique de Poudlard ! ✨\")\n",
        "    print(\"Je suis ton assistant magique, prêt à répondre à toutes tes questions ! 🪄\")\n",
        "    print(\"Tape 'quitter' quand tu veux arrêter la magie. Allons-y !\")\n",
        "\n",
        "    while True:\n",
        "        # Demander à l'enfant de poser une question\n",
        "        print(\"\\n📜 Écris ta question ou ton message :\")\n",
        "        message = input(\"Toi : \")\n",
        "\n",
        "        # Si l'enfant tape 'quitter', on arrête le sortilège\n",
        "        if message.lower() == 'quitter':\n",
        "            print(\"🧙‍♂️ Au revoir, jeune sorcier ! Que la magie t'accompagne !\")\n",
        "            break\n",
        "\n",
        "        # ce bloc  try ... except gére les erreurs potentielles de l'API avec élégance, en gardant le thème magique intact.\n",
        "        try:\n",
        "            # Lancer un sort pour envoyer le message à l'API OpenAI\n",
        "            reponse = client.chat.completions.create(\n",
        "                model=\"gpt-3.5-turbo\",  # Le cerveau magique du chatbot\n",
        "                messages=[\n",
        "                    {\"role\": \"system\", \"content\": \"Tu es un assistant magique, gentil et amusant, qui parle comme un professeur de Poudlard. Réponds de manière simple et fun pour des enfants de 10 à 15 ans, avec des emojis et un ton joyeux !\"},\n",
        "                    {\"role\": \"user\", \"content\": message}\n",
        "                ]\n",
        "            )\n",
        "\n",
        "            # Afficher la réponse du chatbot avec un peu de magie\n",
        "            chatbot_response = reponse.choices[0].message.content\n",
        "            # Envelopper la réponse pour éviter le défilement horizontal (largeur de 80 caractères)\n",
        "            wrapped_response = '\\n'.join(textwrap.wrap(chatbot_response, width=80))\n",
        "            print(\"\\n🦇 Chatbot Magique :\\n\" + wrapped_response)\n",
        "\n",
        "        except Exception as e:\n",
        "            # Si quelque chose ne marche pas, on reste dans l'ambiance\n",
        "            print(\"🧙‍♀️ Oups, mon sortilège a raté ! 😅 Réessaie. Erreur :\", str(e))\n",
        "\n",
        "# Lancer le sort pour démarrer le chatbot\n",
        "discuter_avec_chatbot()"
      ],
      "metadata": {
        "colab": {
          "base_uri": "https://localhost:8080/"
        },
        "id": "lznzfck-rUoj",
        "outputId": "3356a12b-1987-4c53-8589-6503b9c90dd7"
      },
      "execution_count": 2,
      "outputs": [
        {
          "output_type": "stream",
          "name": "stdout",
          "text": [
            "✨ Bienvenue dans le Chatbot Magique de Poudlard ! ✨\n",
            "Je suis ton assistant magique, prêt à répondre à toutes tes questions ! 🪄\n",
            "Tape 'quitter' quand tu veux arrêter la magie. Allons-y !\n",
            "\n",
            "📜 Écris ta question ou ton message :\n",
            "Toi : quels sont les plus puissants sortilèges\n",
            "\n",
            "🦇 Chatbot Magique :\n",
            "Ah, cher élève, les plus puissants sortilèges sont ceux qui demandent une grande\n",
            "maîtrise de la magie ! 🧙‍♂️ Parmi eux, on peut citer le sortilège de l'Expecto\n",
            "Patronum pour conjurer un Patronus protecteur, le sortilège de l'Impedimenta\n",
            "pour ralentir les adversaires, ou encore le sortilège du Bouclier qui crée une\n",
            "barrière de protection. N'oublie pas, la puissance d'un sortilège dépend de ta\n",
            "concentration et de ta maîtrise de la baguette ! ✨🔮\n",
            "\n",
            "📜 Écris ta question ou ton message :\n",
            "Toi : qui a peur de qui\n",
            "\n",
            "🦇 Chatbot Magique :\n",
            "Oh, les créatures magiques ont parfois peur des sorciers, et les moldus peuvent\n",
            "avoir peur des sorciers aussi ! Mais tu sais, il est important de ne pas avoir\n",
            "peur de ce que l'on ne comprend pas, car la magie peut être merveilleuse et\n",
            "pleine de surprises ! ✨🧙‍♂️🐉\n",
            "\n",
            "📜 Écris ta question ou ton message :\n",
            "Toi : quitter\n",
            "🧙‍♂️ Au revoir, jeune sorcier ! Que la magie t'accompagne !\n"
          ]
        }
      ]
    },
    {
      "cell_type": "markdown",
      "source": [
        "## Projet 4 : Interaction avec un chaptbot de Google Gemini\n",
        "**Obtention de l'api GEMINI**\n",
        "- Allez sur [Google AI Studio](https://aistudio.google.com/app/prompts/new_chat)\n",
        "- Connectez-vous avec votre compte Google.\n",
        "- Dans le menu de gauche, cliquez sur \"Get API key\".\n",
        "- Cliquez sur \"Create API key in new project\" ou \"Create API key in existing project\" si vous avez déjà un projet.\n",
        "- Votre nouvelle clé API sera générée et affichée.\n",
        "- Copiez cette clé immédiatement, car vous ne pourrez pas la voir à nouveau pour des raisons de sécurité.\n",
        "- Une fois que vous avez votre clé API, vous devez l'ajouter à Colab Secrets pour l'utiliser en toute sécurité dans votre notebook :\n",
        "\n",
        "**Dans Google Colab**,\n",
        "- cliquez sur l'icône \"🔑\" (Secrets) dans la barre latérale gauche.\n",
        "- Cliquez sur \"New secret\".\n",
        "- Pour le champ \"Name\", entrez GEMINI_API_KEY.\n",
        "- Pour le champ \"Value\", collez la clé API que vous venez de copier depuis Google AI Studio.\n",
        "- Assurez-vous que l'option \"Notebook access\" est activée pour ce secret (elle devrait l'être par défaut pour le notebook actuel).\n",
        "- Après avoir ajouté la clé API aux secrets, vous pourrez exécuter la cellule de code qui utilise userdata.get('GEMINI_API_KEY') pour récupérer la clé et configurer l'API Gemini."
      ],
      "metadata": {
        "id": "N7rLGPIEhrDx"
      }
    },
    {
      "cell_type": "markdown",
      "source": [
        "## 4. Projet 5 : Calculatrice Magique\n",
        "\n",
        "**Activité : Construire une calculatrice amusante**\n",
        "\n",
        "On va créer une calculatrice magique qui fait des calculs avec un style de magicien !\n",
        "\n",
        "Crée une nouvelle cellule de code et tape :\n",
        "\n",
        "\n",
        "\n",
        "```\n",
        "def add(x, y):\n",
        "    return x + y\n",
        "\n",
        "def subtract(x, y):\n",
        "    return x - y\n",
        "\n",
        "def multiply(x, y):\n",
        "    return x * y\n",
        "\n",
        "def divide(x, y):\n",
        "    return x / y\n",
        "\n",
        "print(\"Bienvenue dans la Calculatrice Magique ! ✨\")\n",
        "operation = input(\"Choisis une opération : additionner, soustraire, multiplier, diviser : \")\n",
        "num1 = float(input(\"Entre le premier nombre : \"))\n",
        "num2 = float(input(\"Entre le deuxième nombre : \"))\n",
        "\n",
        "if operation == \"additionner\":\n",
        "    print(f\"Abracadabra ! Le résultat est : {add(num1, num2)}\")\n",
        "elif operation == \"soustraire\":\n",
        "    print(f\"Abracadabra ! Le résultat est : {subtract(num1, num2)}\")\n",
        "elif operation == \"multiplier\":\n",
        "    print(f\"Abracadabra ! Le résultat est : {multiply(num1, num2)}\")\n",
        "elif operation == \"diviser\":\n",
        "    print(f\"Abracadabra ! Le résultat est : {divide(num1, num2)}\")\n",
        "else:\n",
        "    print(\"Oups ! Cette opération n’existe pas dans mon grimoire magique.\")\n",
        "```\n",
        "\n",
        "**Instructions** :\n",
        "\n",
        "Teste la calculatrice avec différentes opérations et nombres.\n",
        "\n",
        "> Défi : Ajoute deux nouvelles opérations :\n",
        "\n",
        "**Puissance** : `def power(x, y): return x ** y` (par exemple, 2 à la puissance 3 = 8)\n",
        "\n",
        "\n",
        "**Modulo** : `def modulo(x, y): return x % y` (par exemple, 10 % 3 = 1)\n",
        "\n",
        "\n",
        "Modifie le code pour inclure ces options dans le menu (ajoute “puissance” et “modulo” dans les choix).\n",
        "\n",
        "> **Astuce** : Rends ta calculatrice encore plus magique en changeant les messages, comme “Tadaa ! Voici ton résultat :” !\n"
      ],
      "metadata": {
        "id": "q7zyS3XGV5yI"
      }
    },
    {
      "cell_type": "code",
      "execution_count": null,
      "metadata": {
        "id": "VvyPiz1kTK2K"
      },
      "outputs": [],
      "source": []
    },
    {
      "cell_type": "markdown",
      "source": [
        "# 5. Discussion : L’IA dans la Vraie Vie\n",
        "\n",
        "Pense à ces questions :\n",
        "\n",
        "**Comment l’IA choisit-elle ?** Elle utilise des modèles mathématiques pour trouver des motifs dans les données. Par exemple, ton classificateur d’images a appris à reconnaître les formes des chats et des chiens.\n",
        "\n",
        "**Quelles données faut-il pour l’IA ?** Beaucoup d’exemples ! Pour reconnaître des chats, il faut des milliers d’images étiquetées “chat”.\n",
        "\n",
        "**Où voit-on l’IA ?** Dans les recommandations Netflix, les assistants comme Siri, avec les grand modèles de langage comme ChatGPT, Gemini, Mistral ... ou même les voitures autonomes !\n",
        "\n",
        "**Activité** : Note une idée d’IA que tu voudrais créer (par exemple, un robot qui trie tes jouets) et partage-la avec ton prof !\n",
        "\n",
        "---"
      ],
      "metadata": {
        "id": "C9bdJx2LW2iB"
      }
    },
    {
      "cell_type": "markdown",
      "source": [
        "# Ce qu’on a appris\n",
        "\n",
        "Créer un classificateur d’images avec Teachable Machine\n",
        "\n",
        "Construire un chatbot qui répond à tes questions\n",
        "\n",
        "Fabriquer une calculatrice magique avec des fonctions\n",
        "\n",
        "Comprendre comment l’IA est utilisée dans la vie quotidienne\n",
        "\n",
        "---"
      ],
      "metadata": {
        "id": "en07rD8hXL2r"
      }
    },
    {
      "cell_type": "markdown",
      "source": [
        "# La Prochaine Fois\n",
        "\n",
        "Dans la prochaine session, on va continuer à explorer l’IA et créer des projets encore plus cool ! Continue à t’entraîner en modifiant le code et en testant de nouvelles idées. 🌟\n",
        "\n",
        "> Astuce : Si tu vois une erreur dans Colab, lis le message pour comprendre ce qui ne va pas, puis corrige et réessaie !\n",
        "\n",
        "> Aussi, 🤖 Demande à l'IA : aide toi de l'IA pour résoudre ton erreur ou développer du code"
      ],
      "metadata": {
        "id": "-wDD7PsnXVRd"
      }
    }
  ]
}